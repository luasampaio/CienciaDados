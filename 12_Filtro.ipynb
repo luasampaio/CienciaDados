{
  "nbformat": 4,
  "nbformat_minor": 0,
  "metadata": {
    "colab": {
      "provenance": [],
      "include_colab_link": true
    },
    "kernelspec": {
      "name": "python3",
      "display_name": "Python 3"
    }
  },
  "cells": [
    {
      "cell_type": "markdown",
      "metadata": {
        "id": "view-in-github",
        "colab_type": "text"
      },
      "source": [
        "<a href=\"https://colab.research.google.com/github/luasampaio/CienciaDados/blob/main/12_Filtro.ipynb\" target=\"_parent\"><img src=\"https://colab.research.google.com/assets/colab-badge.svg\" alt=\"Open In Colab\"/></a>"
      ]
    },
    {
      "cell_type": "markdown",
      "source": [
        "Realizar Filtro com Pandas\n"
      ],
      "metadata": {
        "id": "xHISxRm2tDov"
      }
    },
    {
      "cell_type": "markdown",
      "source": [
        "Criado 13.01.25\n",
        "Por : Luciana Sampaio\n"
      ],
      "metadata": {
        "id": "ZGmam4IMuMyv"
      }
    },
    {
      "cell_type": "code",
      "source": [
        "import pandas as pd\n",
        "import numpy as np\n",
        "import time\n",
        "import warnings\n",
        "\n",
        "warnings.simplefilter(action='ignore', category=FutureWarning)\n",
        "\n",
        "length = 100000\n",
        "df = pd.DataFrame()\n",
        "df['Pessoas'] = np.random.randint(190, 2059, size=length)\n",
        "df['Compra'] = np.random.choice(['A', 'B', 'C', 'D'], length)\n",
        "\n",
        "def filtro1():\n",
        "    return df.query('Compra == \"B\" & Pessoas == \"2020\"')\n",
        "\n",
        "def filtro6():\n",
        "    return df[(df['Compra'] == 'B') & (df['Pessoas'] == '2020')]\n",
        "\n",
        "def filtro7(df):\n",
        "    return df[(df['Compra'] == 'B') & (df['Pessoas'] == '2020')]\n",
        "\n",
        "tempo1, tempo2, tempo3, tempo4, tempo5, tempo6, tempo7, tempo8, tempo9 = [], [], [], [], [], [], [], [], []\n",
        "lenghts = []\n",
        "\n",
        "for i in range(1, 21):  # Limite de 20 iterações (2M registros na última)\n",
        "    length = 100000 * i\n",
        "    lenghts.append(length)\n",
        "    df = pd.DataFrame()\n",
        "    df['Pessoas'] = np.random.randint(190, 2059, size=length).astype(str)  # Garantir que 'Pessoas' seja string\n",
        "    df['Compra'] = np.random.choice(['A', 'B', 'C', 'D'], length)\n",
        "\n",
        "    # Query usando strings\n",
        "    s = time.perf_counter()\n",
        "    df.query('Compra == \"B\" & Pessoas == \"2020\"')\n",
        "    e = time.perf_counter()\n",
        "    tempo1.append(round(e - s, 5))\n",
        "\n",
        "    # Query com operadores\n",
        "    s = time.perf_counter()\n",
        "    df[(df['Compra'] == 'B') & (df['Pessoas'] == '2020')]\n",
        "    e = time.perf_counter()\n",
        "    tempo2.append(round(e - s, 5))\n",
        "\n",
        "    # Usando função `filtro6`\n",
        "    s = time.perf_counter()\n",
        "    filtro6()\n",
        "    e = time.perf_counter()\n",
        "    tempo7.append(round(e - s, 5))\n",
        "\n",
        "    # Usando função `filtro7`\n",
        "    s = time.perf_counter()\n",
        "    filtro7(df)\n",
        "    e = time.perf_counter()\n",
        "    tempo8.append(round(e - s, 5))\n",
        "\n",
        "    # Usando função `filtro1`\n",
        "    s = time.perf_counter()\n",
        "    filtro1()\n",
        "    e = time.perf_counter()\n",
        "    tempo9.append(round(e - s, 5))\n",
        "\n",
        "# Exibir os tempos\n",
        "resultados = pd.DataFrame({\n",
        "    'Length': lenghts,\n",
        "    'Query String': tempo1,\n",
        "    'Query Operadores': tempo2,\n",
        "    'Filtro6': tempo7,\n",
        "    'Filtro7': tempo8,\n",
        "    'Filtro1': tempo9\n",
        "})\n",
        "print(resultados)\n"
      ],
      "metadata": {
        "colab": {
          "base_uri": "https://localhost:8080/"
        },
        "id": "jsYphfAvt7QS",
        "outputId": "d11a789a-9e97-4e03-8160-e52da8300a6c"
      },
      "execution_count": 5,
      "outputs": [
        {
          "output_type": "stream",
          "name": "stdout",
          "text": [
            "     Length  Query String  Query Operadores  Filtro6  Filtro7  Filtro1\n",
            "0    100000       0.03391           0.03256  0.03193  0.01664  0.00829\n",
            "1    200000       0.02210           0.03385  0.03284  0.03474  0.01336\n",
            "2    300000       0.02698           0.04894  0.04845  0.04835  0.01760\n",
            "3    400000       0.03402           0.06455  0.06436  0.06412  0.02290\n",
            "4    500000       0.04535           0.08089  0.08086  0.08000  0.03424\n",
            "5    600000       0.04819           0.09842  0.11975  0.17762  0.04856\n",
            "6    700000       0.08841           0.21383  0.21486  0.21143  0.05876\n",
            "7    800000       0.09652           0.18839  0.13011  0.12827  0.04133\n",
            "8    900000       0.07100           0.14697  0.14234  0.14309  0.04646\n",
            "9   1000000       0.07951           0.15914  0.15933  0.16308  0.05085\n",
            "10  1100000       0.08481           0.17793  0.17651  0.19000  0.05483\n",
            "11  1200000       0.09081           0.21630  0.19330  0.19294  0.06299\n",
            "12  1300000       0.10093           0.20985  0.20741  0.23226  0.06386\n",
            "13  1400000       0.10544           0.23731  0.22790  0.22357  0.06918\n",
            "14  1500000       0.17635           0.45684  0.44637  0.45042  0.12861\n",
            "15  1600000       0.12095           0.25936  0.25689  0.27199  0.08189\n",
            "16  1700000       0.12802           0.27516  0.27318  0.28703  0.08453\n",
            "17  1800000       0.13453           0.29045  0.30090  0.28606  0.08644\n",
            "18  1900000       0.14052           0.31665  0.30562  0.30319  0.09179\n",
            "19  2000000       0.16267           0.34355  0.59084  0.60908  0.15560\n"
          ]
        }
      ]
    },
    {
      "cell_type": "code",
      "metadata": {
        "id": "__rFRNtCKgVY",
        "colab": {
          "base_uri": "https://localhost:8080/",
          "height": 542
        },
        "outputId": "2f5d1ece-c8e5-4bcf-c796-afa5b110690a"
      },
      "source": [
        "import plotly.graph_objects as go\n",
        "\n",
        "fig = go.Figure()\n",
        "fig.add_trace(go.Scatter(x=lenghts,y=tempo1,\n",
        "                    mode='lines',\n",
        "                    name='Primeira var'))\n",
        "fig.add_trace(go.Scatter(x=lenghts,y=tempo2,\n",
        "                    mode='lines',\n",
        "                    name='Segunda var'))\n",
        "fig.add_trace(go.Scatter(x=lenghts,y=tempo3,\n",
        "                    mode='lines',\n",
        "                    name='Terceira var'))\n",
        "fig.add_trace(go.Scatter(x=lenghts,y=tempo4,\n",
        "                    mode='lines',\n",
        "                    name='Quarta var'))\n",
        "fig.add_trace(go.Scatter(x=lenghts,y=tempo5,\n",
        "                    mode='lines',\n",
        "                    name='Quinta var'))\n",
        "fig.add_trace(go.Scatter(x=lenghts,y=tempo6,\n",
        "                    mode='lines',\n",
        "                    name='Sexta var'))\n",
        "fig.add_trace(go.Scatter(x=lenghts,y=tempo7,\n",
        "                    mode='lines',\n",
        "                    name='Sétima var'))\n",
        "fig.add_trace(go.Scatter(x=lenghts,y=tempo8,\n",
        "                    mode='lines',\n",
        "                    name='Oitava var'))\n",
        "fig.add_trace(go.Scatter(x=lenghts,y=tempo9,\n",
        "                    mode='lines',\n",
        "                    name='Nona var'))\n",
        "fig.update_layout(title='Tempo de processamento por técnicas diferentes de filtro',\n",
        "                   xaxis_title='Tamanho da base de dados',\n",
        "                   yaxis_title='Tempo de processamento')\n",
        "\n",
        "fig.show()"
      ],
      "execution_count": 6,
      "outputs": [
        {
          "output_type": "display_data",
          "data": {
            "text/html": [
              "<html>\n",
              "<head><meta charset=\"utf-8\" /></head>\n",
              "<body>\n",
              "    <div>            <script src=\"https://cdnjs.cloudflare.com/ajax/libs/mathjax/2.7.5/MathJax.js?config=TeX-AMS-MML_SVG\"></script><script type=\"text/javascript\">if (window.MathJax && window.MathJax.Hub && window.MathJax.Hub.Config) {window.MathJax.Hub.Config({SVG: {font: \"STIX-Web\"}});}</script>                <script type=\"text/javascript\">window.PlotlyConfig = {MathJaxConfig: 'local'};</script>\n",
              "        <script charset=\"utf-8\" src=\"https://cdn.plot.ly/plotly-2.35.2.min.js\"></script>                <div id=\"edab7cf6-9799-4972-a459-729c36b76f82\" class=\"plotly-graph-div\" style=\"height:525px; width:100%;\"></div>            <script type=\"text/javascript\">                                    window.PLOTLYENV=window.PLOTLYENV || {};                                    if (document.getElementById(\"edab7cf6-9799-4972-a459-729c36b76f82\")) {                    Plotly.newPlot(                        \"edab7cf6-9799-4972-a459-729c36b76f82\",                        [{\"mode\":\"lines\",\"name\":\"Primeira var\",\"x\":[100000,200000,300000,400000,500000,600000,700000,800000,900000,1000000,1100000,1200000,1300000,1400000,1500000,1600000,1700000,1800000,1900000,2000000],\"y\":[0.03391,0.0221,0.02698,0.03402,0.04535,0.04819,0.08841,0.09652,0.071,0.07951,0.08481,0.09081,0.10093,0.10544,0.17635,0.12095,0.12802,0.13453,0.14052,0.16267],\"type\":\"scatter\"},{\"mode\":\"lines\",\"name\":\"Segunda var\",\"x\":[100000,200000,300000,400000,500000,600000,700000,800000,900000,1000000,1100000,1200000,1300000,1400000,1500000,1600000,1700000,1800000,1900000,2000000],\"y\":[0.03256,0.03385,0.04894,0.06455,0.08089,0.09842,0.21383,0.18839,0.14697,0.15914,0.17793,0.2163,0.20985,0.23731,0.45684,0.25936,0.27516,0.29045,0.31665,0.34355],\"type\":\"scatter\"},{\"mode\":\"lines\",\"name\":\"Terceira var\",\"x\":[100000,200000,300000,400000,500000,600000,700000,800000,900000,1000000,1100000,1200000,1300000,1400000,1500000,1600000,1700000,1800000,1900000,2000000],\"y\":[],\"type\":\"scatter\"},{\"mode\":\"lines\",\"name\":\"Quarta var\",\"x\":[100000,200000,300000,400000,500000,600000,700000,800000,900000,1000000,1100000,1200000,1300000,1400000,1500000,1600000,1700000,1800000,1900000,2000000],\"y\":[],\"type\":\"scatter\"},{\"mode\":\"lines\",\"name\":\"Quinta var\",\"x\":[100000,200000,300000,400000,500000,600000,700000,800000,900000,1000000,1100000,1200000,1300000,1400000,1500000,1600000,1700000,1800000,1900000,2000000],\"y\":[],\"type\":\"scatter\"},{\"mode\":\"lines\",\"name\":\"Sexta var\",\"x\":[100000,200000,300000,400000,500000,600000,700000,800000,900000,1000000,1100000,1200000,1300000,1400000,1500000,1600000,1700000,1800000,1900000,2000000],\"y\":[],\"type\":\"scatter\"},{\"mode\":\"lines\",\"name\":\"Sétima var\",\"x\":[100000,200000,300000,400000,500000,600000,700000,800000,900000,1000000,1100000,1200000,1300000,1400000,1500000,1600000,1700000,1800000,1900000,2000000],\"y\":[0.03193,0.03284,0.04845,0.06436,0.08086,0.11975,0.21486,0.13011,0.14234,0.15933,0.17651,0.1933,0.20741,0.2279,0.44637,0.25689,0.27318,0.3009,0.30562,0.59084],\"type\":\"scatter\"},{\"mode\":\"lines\",\"name\":\"Oitava var\",\"x\":[100000,200000,300000,400000,500000,600000,700000,800000,900000,1000000,1100000,1200000,1300000,1400000,1500000,1600000,1700000,1800000,1900000,2000000],\"y\":[0.01664,0.03474,0.04835,0.06412,0.08,0.17762,0.21143,0.12827,0.14309,0.16308,0.19,0.19294,0.23226,0.22357,0.45042,0.27199,0.28703,0.28606,0.30319,0.60908],\"type\":\"scatter\"},{\"mode\":\"lines\",\"name\":\"Nona var\",\"x\":[100000,200000,300000,400000,500000,600000,700000,800000,900000,1000000,1100000,1200000,1300000,1400000,1500000,1600000,1700000,1800000,1900000,2000000],\"y\":[0.00829,0.01336,0.0176,0.0229,0.03424,0.04856,0.05876,0.04133,0.04646,0.05085,0.05483,0.06299,0.06386,0.06918,0.12861,0.08189,0.08453,0.08644,0.09179,0.1556],\"type\":\"scatter\"}],                        {\"template\":{\"data\":{\"histogram2dcontour\":[{\"type\":\"histogram2dcontour\",\"colorbar\":{\"outlinewidth\":0,\"ticks\":\"\"},\"colorscale\":[[0.0,\"#0d0887\"],[0.1111111111111111,\"#46039f\"],[0.2222222222222222,\"#7201a8\"],[0.3333333333333333,\"#9c179e\"],[0.4444444444444444,\"#bd3786\"],[0.5555555555555556,\"#d8576b\"],[0.6666666666666666,\"#ed7953\"],[0.7777777777777778,\"#fb9f3a\"],[0.8888888888888888,\"#fdca26\"],[1.0,\"#f0f921\"]]}],\"choropleth\":[{\"type\":\"choropleth\",\"colorbar\":{\"outlinewidth\":0,\"ticks\":\"\"}}],\"histogram2d\":[{\"type\":\"histogram2d\",\"colorbar\":{\"outlinewidth\":0,\"ticks\":\"\"},\"colorscale\":[[0.0,\"#0d0887\"],[0.1111111111111111,\"#46039f\"],[0.2222222222222222,\"#7201a8\"],[0.3333333333333333,\"#9c179e\"],[0.4444444444444444,\"#bd3786\"],[0.5555555555555556,\"#d8576b\"],[0.6666666666666666,\"#ed7953\"],[0.7777777777777778,\"#fb9f3a\"],[0.8888888888888888,\"#fdca26\"],[1.0,\"#f0f921\"]]}],\"heatmap\":[{\"type\":\"heatmap\",\"colorbar\":{\"outlinewidth\":0,\"ticks\":\"\"},\"colorscale\":[[0.0,\"#0d0887\"],[0.1111111111111111,\"#46039f\"],[0.2222222222222222,\"#7201a8\"],[0.3333333333333333,\"#9c179e\"],[0.4444444444444444,\"#bd3786\"],[0.5555555555555556,\"#d8576b\"],[0.6666666666666666,\"#ed7953\"],[0.7777777777777778,\"#fb9f3a\"],[0.8888888888888888,\"#fdca26\"],[1.0,\"#f0f921\"]]}],\"heatmapgl\":[{\"type\":\"heatmapgl\",\"colorbar\":{\"outlinewidth\":0,\"ticks\":\"\"},\"colorscale\":[[0.0,\"#0d0887\"],[0.1111111111111111,\"#46039f\"],[0.2222222222222222,\"#7201a8\"],[0.3333333333333333,\"#9c179e\"],[0.4444444444444444,\"#bd3786\"],[0.5555555555555556,\"#d8576b\"],[0.6666666666666666,\"#ed7953\"],[0.7777777777777778,\"#fb9f3a\"],[0.8888888888888888,\"#fdca26\"],[1.0,\"#f0f921\"]]}],\"contourcarpet\":[{\"type\":\"contourcarpet\",\"colorbar\":{\"outlinewidth\":0,\"ticks\":\"\"}}],\"contour\":[{\"type\":\"contour\",\"colorbar\":{\"outlinewidth\":0,\"ticks\":\"\"},\"colorscale\":[[0.0,\"#0d0887\"],[0.1111111111111111,\"#46039f\"],[0.2222222222222222,\"#7201a8\"],[0.3333333333333333,\"#9c179e\"],[0.4444444444444444,\"#bd3786\"],[0.5555555555555556,\"#d8576b\"],[0.6666666666666666,\"#ed7953\"],[0.7777777777777778,\"#fb9f3a\"],[0.8888888888888888,\"#fdca26\"],[1.0,\"#f0f921\"]]}],\"surface\":[{\"type\":\"surface\",\"colorbar\":{\"outlinewidth\":0,\"ticks\":\"\"},\"colorscale\":[[0.0,\"#0d0887\"],[0.1111111111111111,\"#46039f\"],[0.2222222222222222,\"#7201a8\"],[0.3333333333333333,\"#9c179e\"],[0.4444444444444444,\"#bd3786\"],[0.5555555555555556,\"#d8576b\"],[0.6666666666666666,\"#ed7953\"],[0.7777777777777778,\"#fb9f3a\"],[0.8888888888888888,\"#fdca26\"],[1.0,\"#f0f921\"]]}],\"mesh3d\":[{\"type\":\"mesh3d\",\"colorbar\":{\"outlinewidth\":0,\"ticks\":\"\"}}],\"scatter\":[{\"fillpattern\":{\"fillmode\":\"overlay\",\"size\":10,\"solidity\":0.2},\"type\":\"scatter\"}],\"parcoords\":[{\"type\":\"parcoords\",\"line\":{\"colorbar\":{\"outlinewidth\":0,\"ticks\":\"\"}}}],\"scatterpolargl\":[{\"type\":\"scatterpolargl\",\"marker\":{\"colorbar\":{\"outlinewidth\":0,\"ticks\":\"\"}}}],\"bar\":[{\"error_x\":{\"color\":\"#2a3f5f\"},\"error_y\":{\"color\":\"#2a3f5f\"},\"marker\":{\"line\":{\"color\":\"#E5ECF6\",\"width\":0.5},\"pattern\":{\"fillmode\":\"overlay\",\"size\":10,\"solidity\":0.2}},\"type\":\"bar\"}],\"scattergeo\":[{\"type\":\"scattergeo\",\"marker\":{\"colorbar\":{\"outlinewidth\":0,\"ticks\":\"\"}}}],\"scatterpolar\":[{\"type\":\"scatterpolar\",\"marker\":{\"colorbar\":{\"outlinewidth\":0,\"ticks\":\"\"}}}],\"histogram\":[{\"marker\":{\"pattern\":{\"fillmode\":\"overlay\",\"size\":10,\"solidity\":0.2}},\"type\":\"histogram\"}],\"scattergl\":[{\"type\":\"scattergl\",\"marker\":{\"colorbar\":{\"outlinewidth\":0,\"ticks\":\"\"}}}],\"scatter3d\":[{\"type\":\"scatter3d\",\"line\":{\"colorbar\":{\"outlinewidth\":0,\"ticks\":\"\"}},\"marker\":{\"colorbar\":{\"outlinewidth\":0,\"ticks\":\"\"}}}],\"scattermapbox\":[{\"type\":\"scattermapbox\",\"marker\":{\"colorbar\":{\"outlinewidth\":0,\"ticks\":\"\"}}}],\"scatterternary\":[{\"type\":\"scatterternary\",\"marker\":{\"colorbar\":{\"outlinewidth\":0,\"ticks\":\"\"}}}],\"scattercarpet\":[{\"type\":\"scattercarpet\",\"marker\":{\"colorbar\":{\"outlinewidth\":0,\"ticks\":\"\"}}}],\"carpet\":[{\"aaxis\":{\"endlinecolor\":\"#2a3f5f\",\"gridcolor\":\"white\",\"linecolor\":\"white\",\"minorgridcolor\":\"white\",\"startlinecolor\":\"#2a3f5f\"},\"baxis\":{\"endlinecolor\":\"#2a3f5f\",\"gridcolor\":\"white\",\"linecolor\":\"white\",\"minorgridcolor\":\"white\",\"startlinecolor\":\"#2a3f5f\"},\"type\":\"carpet\"}],\"table\":[{\"cells\":{\"fill\":{\"color\":\"#EBF0F8\"},\"line\":{\"color\":\"white\"}},\"header\":{\"fill\":{\"color\":\"#C8D4E3\"},\"line\":{\"color\":\"white\"}},\"type\":\"table\"}],\"barpolar\":[{\"marker\":{\"line\":{\"color\":\"#E5ECF6\",\"width\":0.5},\"pattern\":{\"fillmode\":\"overlay\",\"size\":10,\"solidity\":0.2}},\"type\":\"barpolar\"}],\"pie\":[{\"automargin\":true,\"type\":\"pie\"}]},\"layout\":{\"autotypenumbers\":\"strict\",\"colorway\":[\"#636efa\",\"#EF553B\",\"#00cc96\",\"#ab63fa\",\"#FFA15A\",\"#19d3f3\",\"#FF6692\",\"#B6E880\",\"#FF97FF\",\"#FECB52\"],\"font\":{\"color\":\"#2a3f5f\"},\"hovermode\":\"closest\",\"hoverlabel\":{\"align\":\"left\"},\"paper_bgcolor\":\"white\",\"plot_bgcolor\":\"#E5ECF6\",\"polar\":{\"bgcolor\":\"#E5ECF6\",\"angularaxis\":{\"gridcolor\":\"white\",\"linecolor\":\"white\",\"ticks\":\"\"},\"radialaxis\":{\"gridcolor\":\"white\",\"linecolor\":\"white\",\"ticks\":\"\"}},\"ternary\":{\"bgcolor\":\"#E5ECF6\",\"aaxis\":{\"gridcolor\":\"white\",\"linecolor\":\"white\",\"ticks\":\"\"},\"baxis\":{\"gridcolor\":\"white\",\"linecolor\":\"white\",\"ticks\":\"\"},\"caxis\":{\"gridcolor\":\"white\",\"linecolor\":\"white\",\"ticks\":\"\"}},\"coloraxis\":{\"colorbar\":{\"outlinewidth\":0,\"ticks\":\"\"}},\"colorscale\":{\"sequential\":[[0.0,\"#0d0887\"],[0.1111111111111111,\"#46039f\"],[0.2222222222222222,\"#7201a8\"],[0.3333333333333333,\"#9c179e\"],[0.4444444444444444,\"#bd3786\"],[0.5555555555555556,\"#d8576b\"],[0.6666666666666666,\"#ed7953\"],[0.7777777777777778,\"#fb9f3a\"],[0.8888888888888888,\"#fdca26\"],[1.0,\"#f0f921\"]],\"sequentialminus\":[[0.0,\"#0d0887\"],[0.1111111111111111,\"#46039f\"],[0.2222222222222222,\"#7201a8\"],[0.3333333333333333,\"#9c179e\"],[0.4444444444444444,\"#bd3786\"],[0.5555555555555556,\"#d8576b\"],[0.6666666666666666,\"#ed7953\"],[0.7777777777777778,\"#fb9f3a\"],[0.8888888888888888,\"#fdca26\"],[1.0,\"#f0f921\"]],\"diverging\":[[0,\"#8e0152\"],[0.1,\"#c51b7d\"],[0.2,\"#de77ae\"],[0.3,\"#f1b6da\"],[0.4,\"#fde0ef\"],[0.5,\"#f7f7f7\"],[0.6,\"#e6f5d0\"],[0.7,\"#b8e186\"],[0.8,\"#7fbc41\"],[0.9,\"#4d9221\"],[1,\"#276419\"]]},\"xaxis\":{\"gridcolor\":\"white\",\"linecolor\":\"white\",\"ticks\":\"\",\"title\":{\"standoff\":15},\"zerolinecolor\":\"white\",\"automargin\":true,\"zerolinewidth\":2},\"yaxis\":{\"gridcolor\":\"white\",\"linecolor\":\"white\",\"ticks\":\"\",\"title\":{\"standoff\":15},\"zerolinecolor\":\"white\",\"automargin\":true,\"zerolinewidth\":2},\"scene\":{\"xaxis\":{\"backgroundcolor\":\"#E5ECF6\",\"gridcolor\":\"white\",\"linecolor\":\"white\",\"showbackground\":true,\"ticks\":\"\",\"zerolinecolor\":\"white\",\"gridwidth\":2},\"yaxis\":{\"backgroundcolor\":\"#E5ECF6\",\"gridcolor\":\"white\",\"linecolor\":\"white\",\"showbackground\":true,\"ticks\":\"\",\"zerolinecolor\":\"white\",\"gridwidth\":2},\"zaxis\":{\"backgroundcolor\":\"#E5ECF6\",\"gridcolor\":\"white\",\"linecolor\":\"white\",\"showbackground\":true,\"ticks\":\"\",\"zerolinecolor\":\"white\",\"gridwidth\":2}},\"shapedefaults\":{\"line\":{\"color\":\"#2a3f5f\"}},\"annotationdefaults\":{\"arrowcolor\":\"#2a3f5f\",\"arrowhead\":0,\"arrowwidth\":1},\"geo\":{\"bgcolor\":\"white\",\"landcolor\":\"#E5ECF6\",\"subunitcolor\":\"white\",\"showland\":true,\"showlakes\":true,\"lakecolor\":\"white\"},\"title\":{\"x\":0.05},\"mapbox\":{\"style\":\"light\"}}},\"title\":{\"text\":\"Tempo de processamento por técnicas diferentes de filtro\"},\"xaxis\":{\"title\":{\"text\":\"Tamanho da base de dados\"}},\"yaxis\":{\"title\":{\"text\":\"Tempo de processamento\"}}},                        {\"responsive\": true}                    ).then(function(){\n",
              "                            \n",
              "var gd = document.getElementById('edab7cf6-9799-4972-a459-729c36b76f82');\n",
              "var x = new MutationObserver(function (mutations, observer) {{\n",
              "        var display = window.getComputedStyle(gd).display;\n",
              "        if (!display || display === 'none') {{\n",
              "            console.log([gd, 'removed!']);\n",
              "            Plotly.purge(gd);\n",
              "            observer.disconnect();\n",
              "        }}\n",
              "}});\n",
              "\n",
              "// Listen for the removal of the full notebook cells\n",
              "var notebookContainer = gd.closest('#notebook-container');\n",
              "if (notebookContainer) {{\n",
              "    x.observe(notebookContainer, {childList: true});\n",
              "}}\n",
              "\n",
              "// Listen for the clearing of the current output cell\n",
              "var outputEl = gd.closest('.output');\n",
              "if (outputEl) {{\n",
              "    x.observe(outputEl, {childList: true});\n",
              "}}\n",
              "\n",
              "                        })                };                            </script>        </div>\n",
              "</body>\n",
              "</html>"
            ]
          },
          "metadata": {}
        }
      ]
    }
  ]
}