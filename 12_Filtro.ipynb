{
  "nbformat": 4,
  "nbformat_minor": 0,
  "metadata": {
    "colab": {
      "provenance": [],
      "include_colab_link": true
    },
    "kernelspec": {
      "name": "python3",
      "display_name": "Python 3"
    }
  },
  "cells": [
    {
      "cell_type": "markdown",
      "metadata": {
        "id": "view-in-github",
        "colab_type": "text"
      },
      "source": [
        "<a href=\"https://colab.research.google.com/github/luasampaio/CienciaDados/blob/main/12_Filtro.ipynb\" target=\"_parent\"><img src=\"https://colab.research.google.com/assets/colab-badge.svg\" alt=\"Open In Colab\"/></a>"
      ]
    },
    {
      "cell_type": "markdown",
      "source": [
        "Realizar Filtro com Pandas\n"
      ],
      "metadata": {
        "id": "xHISxRm2tDov"
      }
    },
    {
      "cell_type": "markdown",
      "source": [
        "Criado 13.01.25\n",
        "Por : Luciana Sampaio\n"
      ],
      "metadata": {
        "id": "ZGmam4IMuMyv"
      }
    },
    {
      "cell_type": "code",
      "source": [
        "import pandas as pd\n",
        "import numpy as np\n",
        "import time\n",
        "import warnings\n",
        "\n",
        "warnings.simplefilter(action='ignore', category=FutureWarning)\n",
        "\n",
        "length = 100000\n",
        "df = pd.DataFrame()\n",
        "df['Pessoas'] = np.random.randint(190, 2059, size=length)\n",
        "df['Compra'] = np.random.choice(['A', 'B', 'C', 'D'], length)\n",
        "\n",
        "def filtro1():\n",
        "    return df.query('Compra == \"B\" & Pessoas == \"2020\"')\n",
        "\n",
        "def filtro6():\n",
        "    return df[(df['Compra'] == 'B') & (df['Pessoas'] == '2020')]\n",
        "\n",
        "def filtro7(df):\n",
        "    return df[(df['Compra'] == 'B') & (df['Pessoas'] == '2020')]\n",
        "\n",
        "tempo1, tempo2, tempo3, tempo4, tempo5, tempo6, tempo7, tempo8, tempo9 = [], [], [], [], [], [], [], [], []\n",
        "lenghts = []\n",
        "\n",
        "for i in range(1, 21):  # Limite de 20 iterações (2M registros na última)\n",
        "    length = 100000 * i\n",
        "    lenghts.append(length)\n",
        "    df = pd.DataFrame()\n",
        "    df['Pessoas'] = np.random.randint(190, 2059, size=length).astype(str)  # Garantir que 'Pessoas' seja string\n",
        "    df['Compra'] = np.random.choice(['A', 'B', 'C', 'D'], length)\n",
        "\n",
        "    # Query usando strings\n",
        "    s = time.perf_counter()\n",
        "    df.query('Compra == \"B\" & Pessoas == \"2020\"')\n",
        "    e = time.perf_counter()\n",
        "    tempo1.append(round(e - s, 5))\n",
        "\n",
        "    # Query com operadores\n",
        "    s = time.perf_counter()\n",
        "    df[(df['Compra'] == 'B') & (df['Pessoas'] == '2020')]\n",
        "    e = time.perf_counter()\n",
        "    tempo2.append(round(e - s, 5))\n",
        "\n",
        "    # Usando função `filtro6`\n",
        "    s = time.perf_counter()\n",
        "    filtro6()\n",
        "    e = time.perf_counter()\n",
        "    tempo7.append(round(e - s, 5))\n",
        "\n",
        "    # Usando função `filtro7`\n",
        "    s = time.perf_counter()\n",
        "    filtro7(df)\n",
        "    e = time.perf_counter()\n",
        "    tempo8.append(round(e - s, 5))\n",
        "\n",
        "    # Usando função `filtro1`\n",
        "    s = time.perf_counter()\n",
        "    filtro1()\n",
        "    e = time.perf_counter()\n",
        "    tempo9.append(round(e - s, 5))\n",
        "\n",
        "# Exibir os tempos\n",
        "resultados = pd.DataFrame({\n",
        "    'Length': lenghts,\n",
        "    'Query String': tempo1,\n",
        "    'Query Operadores': tempo2,\n",
        "    'Filtro6': tempo7,\n",
        "    'Filtro7': tempo8,\n",
        "    'Filtro1': tempo9\n",
        "})\n",
        "print(resultados)\n"
      ],
      "metadata": {
        "colab": {
          "base_uri": "https://localhost:8080/"
        },
        "id": "jsYphfAvt7QS",
        "outputId": "c9cf1c86-3ef5-459d-a096-ee2848ea987d"
      },
      "execution_count": 1,
      "outputs": [
        {
          "output_type": "stream",
          "name": "stdout",
          "text": [
            "     Length  Query String  Query Operadores  Filtro6  Filtro7  Filtro1\n",
            "0    100000       0.01359           0.02478  0.02546  0.01652  0.00861\n",
            "1    200000       0.02027           0.03285  0.03291  0.03292  0.01315\n",
            "2    300000       0.02734           0.04976  0.06667  0.09361  0.03061\n",
            "3    400000       0.03453           0.10426  0.12215  0.12090  0.03674\n",
            "4    500000       0.06523           0.18882  0.19695  0.22947  0.11481\n",
            "5    600000       0.08470           0.23929  0.20023  0.28062  0.08826\n",
            "6    700000       0.10349           0.30435  0.26895  0.22447  0.11671\n",
            "7    800000       0.11629           0.25027  0.28400  0.35279  0.09202\n",
            "8    900000       0.36319           0.86354  0.67290  0.77900  0.20273\n",
            "9   1000000       0.07607           0.17183  0.16175  0.15864  0.05059\n",
            "10  1100000       0.09004           0.17524  0.17353  0.17409  0.05694\n",
            "11  1200000       0.09188           0.19162  0.19179  0.20565  0.06074\n",
            "12  1300000       0.11140           0.22682  0.20587  0.20794  0.06717\n",
            "13  1400000       0.10610           0.22728  0.23934  0.22190  0.06922\n",
            "14  1500000       0.11339           0.24882  0.33321  0.48065  0.12951\n",
            "15  1600000       0.20636           0.48374  0.48639  0.46048  0.08657\n",
            "16  1700000       0.12843           0.27716  0.27866  0.26823  0.08563\n",
            "17  1800000       0.13778           0.30613  0.28622  0.28610  0.08949\n",
            "18  1900000       0.14084           0.31596  0.30334  0.30230  0.09206\n",
            "19  2000000       0.14807           0.32005  0.32336  0.32717  0.09683\n"
          ]
        }
      ]
    },
    {
      "cell_type": "code",
      "metadata": {
        "id": "__rFRNtCKgVY",
        "colab": {
          "base_uri": "https://localhost:8080/",
          "height": 542
        },
        "outputId": "eae0cc68-156e-45ca-f991-d2a9699ab3c8"
      },
      "source": [
        "import plotly.graph_objects as go\n",
        "\n",
        "fig = go.Figure()\n",
        "fig.add_trace(go.Scatter(x=lenghts,y=tempo1,\n",
        "                    mode='lines',\n",
        "                    name='Primeira var'))\n",
        "fig.add_trace(go.Scatter(x=lenghts,y=tempo2,\n",
        "                    mode='lines',\n",
        "                    name='Segunda var'))\n",
        "fig.add_trace(go.Scatter(x=lenghts,y=tempo3,\n",
        "                    mode='lines',\n",
        "                    name='Terceira var'))\n",
        "fig.add_trace(go.Scatter(x=lenghts,y=tempo4,\n",
        "                    mode='lines',\n",
        "                    name='Quarta var'))\n",
        "fig.add_trace(go.Scatter(x=lenghts,y=tempo5,\n",
        "                    mode='lines',\n",
        "                    name='Quinta var'))\n",
        "fig.add_trace(go.Scatter(x=lenghts,y=tempo6,\n",
        "                    mode='lines',\n",
        "                    name='Sexta var'))\n",
        "fig.add_trace(go.Scatter(x=lenghts,y=tempo7,\n",
        "                    mode='lines',\n",
        "                    name='Sétima var'))\n",
        "fig.add_trace(go.Scatter(x=lenghts,y=tempo8,\n",
        "                    mode='lines',\n",
        "                    name='Oitava var'))\n",
        "fig.add_trace(go.Scatter(x=lenghts,y=tempo9,\n",
        "                    mode='lines',\n",
        "                    name='Nona var'))\n",
        "fig.update_layout(title='Tempo de processamento por técnicas diferentes de filtro',\n",
        "                   xaxis_title='Tamanho da base de dados',\n",
        "                   yaxis_title='Tempo de processamento')\n",
        "\n",
        "fig.show()"
      ],
      "execution_count": 2,
      "outputs": [
        {
          "output_type": "display_data",
          "data": {
            "text/html": [
              "<html>\n",
              "<head><meta charset=\"utf-8\" /></head>\n",
              "<body>\n",
              "    <div>            <script src=\"https://cdnjs.cloudflare.com/ajax/libs/mathjax/2.7.5/MathJax.js?config=TeX-AMS-MML_SVG\"></script><script type=\"text/javascript\">if (window.MathJax && window.MathJax.Hub && window.MathJax.Hub.Config) {window.MathJax.Hub.Config({SVG: {font: \"STIX-Web\"}});}</script>                <script type=\"text/javascript\">window.PlotlyConfig = {MathJaxConfig: 'local'};</script>\n",
              "        <script charset=\"utf-8\" src=\"https://cdn.plot.ly/plotly-2.35.2.min.js\"></script>                <div id=\"d87fe811-cb3d-4614-8d57-2208a99390fb\" class=\"plotly-graph-div\" style=\"height:525px; width:100%;\"></div>            <script type=\"text/javascript\">                                    window.PLOTLYENV=window.PLOTLYENV || {};                                    if (document.getElementById(\"d87fe811-cb3d-4614-8d57-2208a99390fb\")) {                    Plotly.newPlot(                        \"d87fe811-cb3d-4614-8d57-2208a99390fb\",                        [{\"mode\":\"lines\",\"name\":\"Primeira var\",\"x\":[100000,200000,300000,400000,500000,600000,700000,800000,900000,1000000,1100000,1200000,1300000,1400000,1500000,1600000,1700000,1800000,1900000,2000000],\"y\":[0.01359,0.02027,0.02734,0.03453,0.06523,0.0847,0.10349,0.11629,0.36319,0.07607,0.09004,0.09188,0.1114,0.1061,0.11339,0.20636,0.12843,0.13778,0.14084,0.14807],\"type\":\"scatter\"},{\"mode\":\"lines\",\"name\":\"Segunda var\",\"x\":[100000,200000,300000,400000,500000,600000,700000,800000,900000,1000000,1100000,1200000,1300000,1400000,1500000,1600000,1700000,1800000,1900000,2000000],\"y\":[0.02478,0.03285,0.04976,0.10426,0.18882,0.23929,0.30435,0.25027,0.86354,0.17183,0.17524,0.19162,0.22682,0.22728,0.24882,0.48374,0.27716,0.30613,0.31596,0.32005],\"type\":\"scatter\"},{\"mode\":\"lines\",\"name\":\"Terceira var\",\"x\":[100000,200000,300000,400000,500000,600000,700000,800000,900000,1000000,1100000,1200000,1300000,1400000,1500000,1600000,1700000,1800000,1900000,2000000],\"y\":[],\"type\":\"scatter\"},{\"mode\":\"lines\",\"name\":\"Quarta var\",\"x\":[100000,200000,300000,400000,500000,600000,700000,800000,900000,1000000,1100000,1200000,1300000,1400000,1500000,1600000,1700000,1800000,1900000,2000000],\"y\":[],\"type\":\"scatter\"},{\"mode\":\"lines\",\"name\":\"Quinta var\",\"x\":[100000,200000,300000,400000,500000,600000,700000,800000,900000,1000000,1100000,1200000,1300000,1400000,1500000,1600000,1700000,1800000,1900000,2000000],\"y\":[],\"type\":\"scatter\"},{\"mode\":\"lines\",\"name\":\"Sexta var\",\"x\":[100000,200000,300000,400000,500000,600000,700000,800000,900000,1000000,1100000,1200000,1300000,1400000,1500000,1600000,1700000,1800000,1900000,2000000],\"y\":[],\"type\":\"scatter\"},{\"mode\":\"lines\",\"name\":\"Sétima var\",\"x\":[100000,200000,300000,400000,500000,600000,700000,800000,900000,1000000,1100000,1200000,1300000,1400000,1500000,1600000,1700000,1800000,1900000,2000000],\"y\":[0.02546,0.03291,0.06667,0.12215,0.19695,0.20023,0.26895,0.284,0.6729,0.16175,0.17353,0.19179,0.20587,0.23934,0.33321,0.48639,0.27866,0.28622,0.30334,0.32336],\"type\":\"scatter\"},{\"mode\":\"lines\",\"name\":\"Oitava var\",\"x\":[100000,200000,300000,400000,500000,600000,700000,800000,900000,1000000,1100000,1200000,1300000,1400000,1500000,1600000,1700000,1800000,1900000,2000000],\"y\":[0.01652,0.03292,0.09361,0.1209,0.22947,0.28062,0.22447,0.35279,0.779,0.15864,0.17409,0.20565,0.20794,0.2219,0.48065,0.46048,0.26823,0.2861,0.3023,0.32717],\"type\":\"scatter\"},{\"mode\":\"lines\",\"name\":\"Nona var\",\"x\":[100000,200000,300000,400000,500000,600000,700000,800000,900000,1000000,1100000,1200000,1300000,1400000,1500000,1600000,1700000,1800000,1900000,2000000],\"y\":[0.00861,0.01315,0.03061,0.03674,0.11481,0.08826,0.11671,0.09202,0.20273,0.05059,0.05694,0.06074,0.06717,0.06922,0.12951,0.08657,0.08563,0.08949,0.09206,0.09683],\"type\":\"scatter\"}],                        {\"template\":{\"data\":{\"histogram2dcontour\":[{\"type\":\"histogram2dcontour\",\"colorbar\":{\"outlinewidth\":0,\"ticks\":\"\"},\"colorscale\":[[0.0,\"#0d0887\"],[0.1111111111111111,\"#46039f\"],[0.2222222222222222,\"#7201a8\"],[0.3333333333333333,\"#9c179e\"],[0.4444444444444444,\"#bd3786\"],[0.5555555555555556,\"#d8576b\"],[0.6666666666666666,\"#ed7953\"],[0.7777777777777778,\"#fb9f3a\"],[0.8888888888888888,\"#fdca26\"],[1.0,\"#f0f921\"]]}],\"choropleth\":[{\"type\":\"choropleth\",\"colorbar\":{\"outlinewidth\":0,\"ticks\":\"\"}}],\"histogram2d\":[{\"type\":\"histogram2d\",\"colorbar\":{\"outlinewidth\":0,\"ticks\":\"\"},\"colorscale\":[[0.0,\"#0d0887\"],[0.1111111111111111,\"#46039f\"],[0.2222222222222222,\"#7201a8\"],[0.3333333333333333,\"#9c179e\"],[0.4444444444444444,\"#bd3786\"],[0.5555555555555556,\"#d8576b\"],[0.6666666666666666,\"#ed7953\"],[0.7777777777777778,\"#fb9f3a\"],[0.8888888888888888,\"#fdca26\"],[1.0,\"#f0f921\"]]}],\"heatmap\":[{\"type\":\"heatmap\",\"colorbar\":{\"outlinewidth\":0,\"ticks\":\"\"},\"colorscale\":[[0.0,\"#0d0887\"],[0.1111111111111111,\"#46039f\"],[0.2222222222222222,\"#7201a8\"],[0.3333333333333333,\"#9c179e\"],[0.4444444444444444,\"#bd3786\"],[0.5555555555555556,\"#d8576b\"],[0.6666666666666666,\"#ed7953\"],[0.7777777777777778,\"#fb9f3a\"],[0.8888888888888888,\"#fdca26\"],[1.0,\"#f0f921\"]]}],\"heatmapgl\":[{\"type\":\"heatmapgl\",\"colorbar\":{\"outlinewidth\":0,\"ticks\":\"\"},\"colorscale\":[[0.0,\"#0d0887\"],[0.1111111111111111,\"#46039f\"],[0.2222222222222222,\"#7201a8\"],[0.3333333333333333,\"#9c179e\"],[0.4444444444444444,\"#bd3786\"],[0.5555555555555556,\"#d8576b\"],[0.6666666666666666,\"#ed7953\"],[0.7777777777777778,\"#fb9f3a\"],[0.8888888888888888,\"#fdca26\"],[1.0,\"#f0f921\"]]}],\"contourcarpet\":[{\"type\":\"contourcarpet\",\"colorbar\":{\"outlinewidth\":0,\"ticks\":\"\"}}],\"contour\":[{\"type\":\"contour\",\"colorbar\":{\"outlinewidth\":0,\"ticks\":\"\"},\"colorscale\":[[0.0,\"#0d0887\"],[0.1111111111111111,\"#46039f\"],[0.2222222222222222,\"#7201a8\"],[0.3333333333333333,\"#9c179e\"],[0.4444444444444444,\"#bd3786\"],[0.5555555555555556,\"#d8576b\"],[0.6666666666666666,\"#ed7953\"],[0.7777777777777778,\"#fb9f3a\"],[0.8888888888888888,\"#fdca26\"],[1.0,\"#f0f921\"]]}],\"surface\":[{\"type\":\"surface\",\"colorbar\":{\"outlinewidth\":0,\"ticks\":\"\"},\"colorscale\":[[0.0,\"#0d0887\"],[0.1111111111111111,\"#46039f\"],[0.2222222222222222,\"#7201a8\"],[0.3333333333333333,\"#9c179e\"],[0.4444444444444444,\"#bd3786\"],[0.5555555555555556,\"#d8576b\"],[0.6666666666666666,\"#ed7953\"],[0.7777777777777778,\"#fb9f3a\"],[0.8888888888888888,\"#fdca26\"],[1.0,\"#f0f921\"]]}],\"mesh3d\":[{\"type\":\"mesh3d\",\"colorbar\":{\"outlinewidth\":0,\"ticks\":\"\"}}],\"scatter\":[{\"fillpattern\":{\"fillmode\":\"overlay\",\"size\":10,\"solidity\":0.2},\"type\":\"scatter\"}],\"parcoords\":[{\"type\":\"parcoords\",\"line\":{\"colorbar\":{\"outlinewidth\":0,\"ticks\":\"\"}}}],\"scatterpolargl\":[{\"type\":\"scatterpolargl\",\"marker\":{\"colorbar\":{\"outlinewidth\":0,\"ticks\":\"\"}}}],\"bar\":[{\"error_x\":{\"color\":\"#2a3f5f\"},\"error_y\":{\"color\":\"#2a3f5f\"},\"marker\":{\"line\":{\"color\":\"#E5ECF6\",\"width\":0.5},\"pattern\":{\"fillmode\":\"overlay\",\"size\":10,\"solidity\":0.2}},\"type\":\"bar\"}],\"scattergeo\":[{\"type\":\"scattergeo\",\"marker\":{\"colorbar\":{\"outlinewidth\":0,\"ticks\":\"\"}}}],\"scatterpolar\":[{\"type\":\"scatterpolar\",\"marker\":{\"colorbar\":{\"outlinewidth\":0,\"ticks\":\"\"}}}],\"histogram\":[{\"marker\":{\"pattern\":{\"fillmode\":\"overlay\",\"size\":10,\"solidity\":0.2}},\"type\":\"histogram\"}],\"scattergl\":[{\"type\":\"scattergl\",\"marker\":{\"colorbar\":{\"outlinewidth\":0,\"ticks\":\"\"}}}],\"scatter3d\":[{\"type\":\"scatter3d\",\"line\":{\"colorbar\":{\"outlinewidth\":0,\"ticks\":\"\"}},\"marker\":{\"colorbar\":{\"outlinewidth\":0,\"ticks\":\"\"}}}],\"scattermapbox\":[{\"type\":\"scattermapbox\",\"marker\":{\"colorbar\":{\"outlinewidth\":0,\"ticks\":\"\"}}}],\"scatterternary\":[{\"type\":\"scatterternary\",\"marker\":{\"colorbar\":{\"outlinewidth\":0,\"ticks\":\"\"}}}],\"scattercarpet\":[{\"type\":\"scattercarpet\",\"marker\":{\"colorbar\":{\"outlinewidth\":0,\"ticks\":\"\"}}}],\"carpet\":[{\"aaxis\":{\"endlinecolor\":\"#2a3f5f\",\"gridcolor\":\"white\",\"linecolor\":\"white\",\"minorgridcolor\":\"white\",\"startlinecolor\":\"#2a3f5f\"},\"baxis\":{\"endlinecolor\":\"#2a3f5f\",\"gridcolor\":\"white\",\"linecolor\":\"white\",\"minorgridcolor\":\"white\",\"startlinecolor\":\"#2a3f5f\"},\"type\":\"carpet\"}],\"table\":[{\"cells\":{\"fill\":{\"color\":\"#EBF0F8\"},\"line\":{\"color\":\"white\"}},\"header\":{\"fill\":{\"color\":\"#C8D4E3\"},\"line\":{\"color\":\"white\"}},\"type\":\"table\"}],\"barpolar\":[{\"marker\":{\"line\":{\"color\":\"#E5ECF6\",\"width\":0.5},\"pattern\":{\"fillmode\":\"overlay\",\"size\":10,\"solidity\":0.2}},\"type\":\"barpolar\"}],\"pie\":[{\"automargin\":true,\"type\":\"pie\"}]},\"layout\":{\"autotypenumbers\":\"strict\",\"colorway\":[\"#636efa\",\"#EF553B\",\"#00cc96\",\"#ab63fa\",\"#FFA15A\",\"#19d3f3\",\"#FF6692\",\"#B6E880\",\"#FF97FF\",\"#FECB52\"],\"font\":{\"color\":\"#2a3f5f\"},\"hovermode\":\"closest\",\"hoverlabel\":{\"align\":\"left\"},\"paper_bgcolor\":\"white\",\"plot_bgcolor\":\"#E5ECF6\",\"polar\":{\"bgcolor\":\"#E5ECF6\",\"angularaxis\":{\"gridcolor\":\"white\",\"linecolor\":\"white\",\"ticks\":\"\"},\"radialaxis\":{\"gridcolor\":\"white\",\"linecolor\":\"white\",\"ticks\":\"\"}},\"ternary\":{\"bgcolor\":\"#E5ECF6\",\"aaxis\":{\"gridcolor\":\"white\",\"linecolor\":\"white\",\"ticks\":\"\"},\"baxis\":{\"gridcolor\":\"white\",\"linecolor\":\"white\",\"ticks\":\"\"},\"caxis\":{\"gridcolor\":\"white\",\"linecolor\":\"white\",\"ticks\":\"\"}},\"coloraxis\":{\"colorbar\":{\"outlinewidth\":0,\"ticks\":\"\"}},\"colorscale\":{\"sequential\":[[0.0,\"#0d0887\"],[0.1111111111111111,\"#46039f\"],[0.2222222222222222,\"#7201a8\"],[0.3333333333333333,\"#9c179e\"],[0.4444444444444444,\"#bd3786\"],[0.5555555555555556,\"#d8576b\"],[0.6666666666666666,\"#ed7953\"],[0.7777777777777778,\"#fb9f3a\"],[0.8888888888888888,\"#fdca26\"],[1.0,\"#f0f921\"]],\"sequentialminus\":[[0.0,\"#0d0887\"],[0.1111111111111111,\"#46039f\"],[0.2222222222222222,\"#7201a8\"],[0.3333333333333333,\"#9c179e\"],[0.4444444444444444,\"#bd3786\"],[0.5555555555555556,\"#d8576b\"],[0.6666666666666666,\"#ed7953\"],[0.7777777777777778,\"#fb9f3a\"],[0.8888888888888888,\"#fdca26\"],[1.0,\"#f0f921\"]],\"diverging\":[[0,\"#8e0152\"],[0.1,\"#c51b7d\"],[0.2,\"#de77ae\"],[0.3,\"#f1b6da\"],[0.4,\"#fde0ef\"],[0.5,\"#f7f7f7\"],[0.6,\"#e6f5d0\"],[0.7,\"#b8e186\"],[0.8,\"#7fbc41\"],[0.9,\"#4d9221\"],[1,\"#276419\"]]},\"xaxis\":{\"gridcolor\":\"white\",\"linecolor\":\"white\",\"ticks\":\"\",\"title\":{\"standoff\":15},\"zerolinecolor\":\"white\",\"automargin\":true,\"zerolinewidth\":2},\"yaxis\":{\"gridcolor\":\"white\",\"linecolor\":\"white\",\"ticks\":\"\",\"title\":{\"standoff\":15},\"zerolinecolor\":\"white\",\"automargin\":true,\"zerolinewidth\":2},\"scene\":{\"xaxis\":{\"backgroundcolor\":\"#E5ECF6\",\"gridcolor\":\"white\",\"linecolor\":\"white\",\"showbackground\":true,\"ticks\":\"\",\"zerolinecolor\":\"white\",\"gridwidth\":2},\"yaxis\":{\"backgroundcolor\":\"#E5ECF6\",\"gridcolor\":\"white\",\"linecolor\":\"white\",\"showbackground\":true,\"ticks\":\"\",\"zerolinecolor\":\"white\",\"gridwidth\":2},\"zaxis\":{\"backgroundcolor\":\"#E5ECF6\",\"gridcolor\":\"white\",\"linecolor\":\"white\",\"showbackground\":true,\"ticks\":\"\",\"zerolinecolor\":\"white\",\"gridwidth\":2}},\"shapedefaults\":{\"line\":{\"color\":\"#2a3f5f\"}},\"annotationdefaults\":{\"arrowcolor\":\"#2a3f5f\",\"arrowhead\":0,\"arrowwidth\":1},\"geo\":{\"bgcolor\":\"white\",\"landcolor\":\"#E5ECF6\",\"subunitcolor\":\"white\",\"showland\":true,\"showlakes\":true,\"lakecolor\":\"white\"},\"title\":{\"x\":0.05},\"mapbox\":{\"style\":\"light\"}}},\"title\":{\"text\":\"Tempo de processamento por técnicas diferentes de filtro\"},\"xaxis\":{\"title\":{\"text\":\"Tamanho da base de dados\"}},\"yaxis\":{\"title\":{\"text\":\"Tempo de processamento\"}}},                        {\"responsive\": true}                    ).then(function(){\n",
              "                            \n",
              "var gd = document.getElementById('d87fe811-cb3d-4614-8d57-2208a99390fb');\n",
              "var x = new MutationObserver(function (mutations, observer) {{\n",
              "        var display = window.getComputedStyle(gd).display;\n",
              "        if (!display || display === 'none') {{\n",
              "            console.log([gd, 'removed!']);\n",
              "            Plotly.purge(gd);\n",
              "            observer.disconnect();\n",
              "        }}\n",
              "}});\n",
              "\n",
              "// Listen for the removal of the full notebook cells\n",
              "var notebookContainer = gd.closest('#notebook-container');\n",
              "if (notebookContainer) {{\n",
              "    x.observe(notebookContainer, {childList: true});\n",
              "}}\n",
              "\n",
              "// Listen for the clearing of the current output cell\n",
              "var outputEl = gd.closest('.output');\n",
              "if (outputEl) {{\n",
              "    x.observe(outputEl, {childList: true});\n",
              "}}\n",
              "\n",
              "                        })                };                            </script>        </div>\n",
              "</body>\n",
              "</html>"
            ]
          },
          "metadata": {}
        }
      ]
    }
  ]
}