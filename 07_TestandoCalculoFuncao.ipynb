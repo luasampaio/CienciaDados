{
  "nbformat": 4,
  "nbformat_minor": 0,
  "metadata": {
    "colab": {
      "provenance": [],
      "authorship_tag": "ABX9TyPNdAY4++7lZZi1QzMT3aKC",
      "include_colab_link": true
    },
    "kernelspec": {
      "name": "python3",
      "display_name": "Python 3"
    },
    "language_info": {
      "name": "python"
    }
  },
  "cells": [
    {
      "cell_type": "markdown",
      "metadata": {
        "id": "view-in-github",
        "colab_type": "text"
      },
      "source": [
        "<a href=\"https://colab.research.google.com/github/luasampaio/CienciaDados/blob/main/07_TestandoCalculoFuncao.ipynb\" target=\"_parent\"><img src=\"https://colab.research.google.com/assets/colab-badge.svg\" alt=\"Open In Colab\"/></a>"
      ]
    },
    {
      "cell_type": "code",
      "source": [
        "\n",
        "def minha_funcao():\n",
        "  return \"Essa é a minha função\"\n",
        "    # lógica da função"
      ],
      "metadata": {
        "id": "mYNvSPudBMia"
      },
      "execution_count": 1,
      "outputs": []
    },
    {
      "cell_type": "code",
      "source": [
        "\n",
        "\n",
        "def my_decorator(func):\n",
        "  def wrapper():\n",
        "    print(\"Antes da execução da função\")\n",
        "    result = func()\n",
        "    print(\"Depois da execução da função\")\n",
        "    return result\n",
        "  return wrapper\n",
        "\n",
        "@my_decorator\n",
        "def minha_funcao():\n",
        "  return \"Essa é a minha função\"\n",
        "\n",
        "print(minha_funcao())"
      ],
      "metadata": {
        "colab": {
          "base_uri": "https://localhost:8080/"
        },
        "id": "fo2-1J_DBwTk",
        "outputId": "b1378bb0-33a2-4d0d-be1c-ce411e195e25"
      },
      "execution_count": 2,
      "outputs": [
        {
          "output_type": "stream",
          "name": "stdout",
          "text": [
            "Antes da execução da função\n",
            "Depois da execução da função\n",
            "Essa é a minha função\n"
          ]
        }
      ]
    },
    {
      "cell_type": "markdown",
      "source": [
        "- AVALIAR BONUS A RECEBER\n",
        "  - TESTE\n"
      ],
      "metadata": {
        "id": "ug6TrTGPCtZb"
      }
    },
    {
      "cell_type": "code",
      "source": [
        "# Solicita ao usuário que digite seu nome\n",
        "try:\n",
        "    nome = input(\"Digite seu nome: \")\n",
        "\n",
        "    # Verifica se o nome está vazio\n",
        "    if len(nome) == 0:\n",
        "        raise ValueError(\"O nome não pode estar vazio.\")\n",
        "        exit()\n",
        "    # Verifica se há números no nome\n",
        "    elif any(char.isdigit() for char in nome):\n",
        "        raise ValueError(\"O nome não deve conter números.\")\n",
        "        exit()\n",
        "    else:\n",
        "        print(\"Nome válido:\", nome)\n",
        "except ValueError as e:\n",
        "    print(e)\n",
        "    exit()\n"
      ],
      "metadata": {
        "colab": {
          "base_uri": "https://localhost:8080/"
        },
        "id": "ILydM0m9CaXS",
        "outputId": "0810fd6d-4268-47af-9f57-b5e290f81aa1"
      },
      "execution_count": 3,
      "outputs": [
        {
          "output_type": "stream",
          "name": "stdout",
          "text": [
            "Digite seu nome: Luciana\n",
            "Nome válido: Luciana\n"
          ]
        }
      ]
    },
    {
      "cell_type": "code",
      "source": [
        "try:\n",
        "    salario = float(input(\"Digite o valor do seu salário: \"))\n",
        "    if salario < 0:\n",
        "        print(\"Por favor, digite um valor positivo para o salário.\")\n",
        "except ValueError:\n",
        "    print(\"Entrada inválida para o salário. Por favor, digite um número.\")\n",
        "    exit()"
      ],
      "metadata": {
        "colab": {
          "base_uri": "https://localhost:8080/"
        },
        "id": "LznjPk2vB9UL",
        "outputId": "be4065da-80bf-4bef-e3ec-98e5fff8753f"
      },
      "execution_count": 4,
      "outputs": [
        {
          "name": "stdout",
          "output_type": "stream",
          "text": [
            "Digite o valor do seu salário: 344.7\n"
          ]
        }
      ]
    },
    {
      "cell_type": "code",
      "source": [
        "# Solicita ao usuário que digite o valor do bônus recebido e converte para float\n",
        "try:\n",
        "    bonus = float(input(\"Digite o valor do bônus recebido: \"))\n",
        "    if bonus < 0:\n",
        "        print(\"Por favor, digite um valor positivo para o bônus.\")\n",
        "except ValueError:\n",
        "    print(\"Entrada inválida para o bônus. Por favor, digite um número.\")\n",
        "    exit()"
      ],
      "metadata": {
        "colab": {
          "base_uri": "https://localhost:8080/"
        },
        "id": "XaHnLnJHCJW4",
        "outputId": "4cc3abcc-38ec-4931-e58b-0ef0ac38e341"
      },
      "execution_count": 5,
      "outputs": [
        {
          "name": "stdout",
          "output_type": "stream",
          "text": [
            "Digite o valor do bônus recebido: 2\n"
          ]
        }
      ]
    },
    {
      "cell_type": "code",
      "source": [
        "bonus_recebido = 1000 + salario * bonus  # Exemplo simples de KPI"
      ],
      "metadata": {
        "id": "eCwpNVIyCTQC"
      },
      "execution_count": 6,
      "outputs": []
    },
    {
      "cell_type": "code",
      "source": [
        "# Imprime as informações para o usuário\n",
        "print(f\"{nome}, seu salário é R${salario:.2f} e seu bônus final é R${bonus_recebido:.2f}.\")"
      ],
      "metadata": {
        "colab": {
          "base_uri": "https://localhost:8080/"
        },
        "id": "IOUoW48FCXFw",
        "outputId": "8573085d-c3ee-43cc-fcad-ce95aafa5e72"
      },
      "execution_count": 7,
      "outputs": [
        {
          "output_type": "stream",
          "name": "stdout",
          "text": [
            "Luciana, seu salário é R$344.70 e seu bônus final é R$1689.40.\n"
          ]
        }
      ]
    },
    {
      "cell_type": "code",
      "source": [],
      "metadata": {
        "id": "m0FGHFx2Ck7x"
      },
      "execution_count": null,
      "outputs": []
    }
  ]
}