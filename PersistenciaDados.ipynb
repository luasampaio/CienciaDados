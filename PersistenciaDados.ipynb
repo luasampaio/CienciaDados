{
  "nbformat": 4,
  "nbformat_minor": 0,
  "metadata": {
    "colab": {
      "provenance": [],
      "authorship_tag": "ABX9TyOm8/iDTY15a0HVSA4OinIL",
      "include_colab_link": true
    },
    "kernelspec": {
      "name": "python3",
      "display_name": "Python 3"
    },
    "language_info": {
      "name": "python"
    }
  },
  "cells": [
    {
      "cell_type": "markdown",
      "metadata": {
        "id": "view-in-github",
        "colab_type": "text"
      },
      "source": [
        "<a href=\"https://colab.research.google.com/github/luasampaio/CienciaDados/blob/main/PersistenciaDados.ipynb\" target=\"_parent\"><img src=\"https://colab.research.google.com/assets/colab-badge.svg\" alt=\"Open In Colab\"/></a>"
      ]
    },
    {
      "cell_type": "code",
      "source": [
        "from decouple import config\n",
        "from sqlalchemy import create_engine\n",
        "from sqlalchemy import text\n",
        "import pandas as pd\n",
        "import oracledb\n",
        "import sys\n",
        "from pyspark.sql import SparkSession\n",
        "from pyspark.sql.functions import col, trim\n",
        "import os\n",
        "from datetime import datetime\n",
        "from pyspark.sql.functions import to_date"
      ],
      "metadata": {
        "id": "9MHvzXsbf2Th"
      },
      "execution_count": null,
      "outputs": []
    },
    {
      "cell_type": "code",
      "execution_count": null,
      "metadata": {
        "id": "TdXQStQcWF1j"
      },
      "outputs": [],
      "source": [
        "os.environ['SPARK_HOME'] = '/opt/spark/'\n",
        "# Configuración de Spark\n",
        "spark = SparkSession.builder \\\n",
        "    .appName(\"etl\") \\\n",
        "    .master(\"local[*]\") \\\n",
        "    .config(\"spark.executor.memory\", \"24g\") \\\n",
        "    .config(\"spark.executor.cores\", \"8\") \\\n",
        "    .config(\"spark.driver.memory\", \"8g\") \\\n",
        "    .config(\"spark.sql.shuffle.partitions\", \"8\") \\\n",
        "    .config(\"spark.default.parallelism\", \"8\") \\\n",
        "    .config(\"spark.sql.autoBroadcastJoinThreshold\", \"-1\") \\\n",
        "    .getOrCreate()"
      ]
    },
    {
      "cell_type": "code",
      "source": [
        "from pyspark.sql import SparkSession\n",
        "\n",
        "# Criar sessão Spark\n",
        "spark = SparkSession.builder.getOrCreate()\n",
        "\n",
        "\n",
        "\n",
        "# Criar uma tabela temporária para consultas SQL\n",
        "df.createOrReplaceTempView(\"tabela_saude\")\n",
        "\n",
        "# Lista de valores a serem filtrados\n",
        "lista_cond_saude = ['NEFROPATIA', 'DOENÇA RENAL', 'HISTÓRIA TRANSPLANTE', 'HEPATOPATIA', 'DII', 'ARRITMIA', 'DIABETES', 'IRC', 'OBESIDADE', 'DOENÇA RESPIRATÓRIA', 'DOENÇA REUMATOLÓGICA', 'CARDIOPATIA', 'ICC', 'ALERGIA', 'PROVÁVEL ARRITMIA']\n",
        "\n",
        "# Gerar a string SQL dinamicamente\n",
        "valores_sql = \", \".join(f\"'{valor}'\" for valor in lista_cond_saude)\n",
        "query = f\"SELECT * FROM tabela_saude WHERE UPPER(condicao_saude) IN ({valores_sql})\"\n",
        "\n",
        "# Executar a consulta SQL\n",
        "df_filtrado = spark.sql(query)\n",
        "\n",
        "# Iterar sobre os resultados\n",
        "for row in df_filtrado.collect():\n",
        "    print(row[\"condicao_saude\"])"
      ],
      "metadata": {
        "id": "D7xSPRXpgW8M"
      },
      "execution_count": null,
      "outputs": []
    },
    {
      "cell_type": "code",
      "source": [
        "from pyspark.sql import SparkSession\n",
        "from pyspark.sql.functions import col, when, mean, stddev, lit, round\n",
        "from pyspark.sql.types import TimestampType\n",
        "import sys"
      ],
      "metadata": {
        "id": "0cy2AFW1BGKt"
      },
      "execution_count": null,
      "outputs": []
    },
    {
      "cell_type": "code",
      "source": [
        "sys.stdout = open(\"execution_log.txt\", \"w\")\n",
        "sys.stderr = sys.stdout"
      ],
      "metadata": {
        "id": "eo7U7_IwBHsk"
      },
      "execution_count": null,
      "outputs": []
    }
  ]
}