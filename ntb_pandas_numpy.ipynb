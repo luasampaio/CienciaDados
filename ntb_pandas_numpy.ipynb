{
  "nbformat": 4,
  "nbformat_minor": 0,
  "metadata": {
    "colab": {
      "provenance": [],
      "authorship_tag": "ABX9TyPC+LBOirzVr79Lw8mk5Xx1",
      "include_colab_link": true
    },
    "kernelspec": {
      "name": "python3",
      "display_name": "Python 3"
    },
    "language_info": {
      "name": "python"
    }
  },
  "cells": [
    {
      "cell_type": "markdown",
      "metadata": {
        "id": "view-in-github",
        "colab_type": "text"
      },
      "source": [
        "<a href=\"https://colab.research.google.com/github/luasampaio/CienciaDados/blob/main/ntb_pandas_numpy.ipynb\" target=\"_parent\"><img src=\"https://colab.research.google.com/assets/colab-badge.svg\" alt=\"Open In Colab\"/></a>"
      ]
    },
    {
      "cell_type": "code",
      "execution_count": 1,
      "metadata": {
        "colab": {
          "base_uri": "https://localhost:8080/"
        },
        "id": "JpeYfPbeGLlK",
        "outputId": "df93d709-6a02-4a12-81d2-24a7e3fc09fc"
      },
      "outputs": [
        {
          "output_type": "stream",
          "name": "stdout",
          "text": [
            "6\n",
            "53\n"
          ]
        }
      ],
      "source": [
        "# Import numpy and set seed\n",
        "import numpy as np\n",
        "np.random.seed(123)\n",
        "\n",
        "# Starting step\n",
        "step = 50\n",
        "\n",
        "# Roll the dice\n",
        "dice = np.random.randint(1, 7)\n",
        "\n",
        "# Finish the control construct\n",
        "if dice <= 2 :\n",
        "    step = step - 1\n",
        "elif dice < 6 :\n",
        "    step = step + 1\n",
        "else :\n",
        "    step = step + np.random.randint(1,7)\n",
        "\n",
        "# Print out dice and step\n",
        "print(dice)\n",
        "print(step)"
      ]
    },
    {
      "cell_type": "code",
      "source": [
        "names = ['United States', 'Australia', 'Japan', 'India', 'Russia', 'Morocco', 'Egypt']\n",
        "dr =  [True, False, False, False, True, True, True]\n",
        "cpc = [809, 731, 588, 18, 200, 70, 45]"
      ],
      "metadata": {
        "id": "UO-mCU8nGaxQ"
      },
      "execution_count": 2,
      "outputs": []
    },
    {
      "cell_type": "code",
      "source": [
        "print(names)\n",
        "print(dr)\n",
        "print(cpc)"
      ],
      "metadata": {
        "colab": {
          "base_uri": "https://localhost:8080/"
        },
        "id": "C8CITqocGetu",
        "outputId": "6d63bbb8-028a-4a70-9be8-d4978ce90399"
      },
      "execution_count": 3,
      "outputs": [
        {
          "output_type": "stream",
          "name": "stdout",
          "text": [
            "['United States', 'Australia', 'Japan', 'India', 'Russia', 'Morocco', 'Egypt']\n",
            "[True, False, False, False, True, True, True]\n",
            "[809, 731, 588, 18, 200, 70, 45]\n"
          ]
        }
      ]
    },
    {
      "cell_type": "markdown",
      "source": [
        "- Adicionando dicionário em um dataframe"
      ],
      "metadata": {
        "id": "6ctz3cwpGnBG"
      }
    },
    {
      "cell_type": "code",
      "source": [
        "# Import pandas as pd\n",
        "import pandas as pd\n",
        "\n",
        "# Create dictionary my_dict with three key:value pairs: my_dict\n",
        "my_dict = {'country': names, 'drives_right': dr, 'cars_per_cap': cpc}\n",
        "\n",
        "# Build a DataFrame cars from my_dict: cars\n",
        "cars = pd.DataFrame(my_dict)\n",
        "\n",
        "# Print cars\n",
        "print(cars)"
      ],
      "metadata": {
        "colab": {
          "base_uri": "https://localhost:8080/"
        },
        "id": "1-abt9FBGcJS",
        "outputId": "8d753530-cdf2-46b3-d931-7b1942d0c54a"
      },
      "execution_count": 4,
      "outputs": [
        {
          "output_type": "stream",
          "name": "stdout",
          "text": [
            "         country  drives_right  cars_per_cap\n",
            "0  United States          True           809\n",
            "1      Australia         False           731\n",
            "2          Japan         False           588\n",
            "3          India         False            18\n",
            "4         Russia          True           200\n",
            "5        Morocco          True            70\n",
            "6          Egypt          True            45\n"
          ]
        }
      ]
    },
    {
      "cell_type": "code",
      "source": [],
      "metadata": {
        "id": "gFe_cr9hGwp0"
      },
      "execution_count": null,
      "outputs": []
    }
  ]
}