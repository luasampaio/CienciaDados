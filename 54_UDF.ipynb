{
  "nbformat": 4,
  "nbformat_minor": 0,
  "metadata": {
    "colab": {
      "provenance": [],
      "authorship_tag": "ABX9TyOj0hM5OxLhYowQStMFK7DH",
      "include_colab_link": true
    },
    "kernelspec": {
      "name": "python3",
      "display_name": "Python 3"
    },
    "language_info": {
      "name": "python"
    }
  },
  "cells": [
    {
      "cell_type": "markdown",
      "metadata": {
        "id": "view-in-github",
        "colab_type": "text"
      },
      "source": [
        "<a href=\"https://colab.research.google.com/github/luasampaio/CienciaDados/blob/main/54_UDF.ipynb\" target=\"_parent\"><img src=\"https://colab.research.google.com/assets/colab-badge.svg\" alt=\"Open In Colab\"/></a>"
      ]
    },
    {
      "cell_type": "markdown",
      "source": [
        "\n",
        "- @author: Luciana Sampaio:\n",
        "- @date : 05/09/25\n",
        "\n",
        "## Descrição geral:\n",
        "Objetivo: encapsular uma lógica de transformação ou cálculo que não existe como função nativa.\n",
        "\n",
        "Uso: pode ser chamada dentro de queries SQL ou em DataFrames, como se fosse uma função interna.\n",
        "\n",
        "Contexto: muito comum em ambientes de Big Data (ex.: Databricks, Spark), quando é necessário aplicar regras de negócio específicas, manipulação de strings, cálculos customizados, criptografia, mascaramento de dados, etc."
      ],
      "metadata": {
        "id": "HmX7li-xeI9m"
      }
    },
    {
      "cell_type": "markdown",
      "source": [
        "Importando Bibliotecas"
      ],
      "metadata": {
        "id": "UiMiLtBqeNSj"
      }
    },
    {
      "cell_type": "code",
      "execution_count": 9,
      "metadata": {
        "id": "lCkrlEoryyOr"
      },
      "outputs": [],
      "source": [
        "import time\n",
        "import random\n",
        "import string\n",
        "\n",
        "import pandas as pd\n",
        "from pyspark.sql import SparkSession\n",
        "from pyspark.sql.functions import udf, pandas_udf, col, lit\n",
        "from pyspark.sql.types import StringType\n",
        "from pyspark.sql.functions import initcap  # função nativa p/ baseline"
      ]
    },
    {
      "cell_type": "code",
      "source": [
        "# Configuração do Spark\n",
        "# ----------------------------\n",
        "spark = (SparkSession.builder\n",
        "         .appName(\"UDF vs PandasUDF Benchmark\")\n",
        "         # aumente/exclua estas configs conforme seu cluster\n",
        "         .config(\"spark.sql.shuffle.partitions\", \"200\")\n",
        "         .getOrCreate())\n",
        "\n",
        "# MUITO importante: habilitar Arrow (acelera Pandas UDF)\n",
        "spark.conf.set(\"spark.sql.execution.arrow.pyspark.enabled\", \"true\")"
      ],
      "metadata": {
        "id": "C4pS8mTcu3JR"
      },
      "execution_count": 19,
      "outputs": []
    },
    {
      "cell_type": "code",
      "source": [
        "# Definir a UDF em Python\n",
        "def get_full_name(first_name, last_name):\n",
        "    if first_name is None:\n",
        "        first_name = \"\"\n",
        "    if last_name is None:\n",
        "        last_name = \"\"\n",
        "    return (first_name + \" \" + last_name).strip()"
      ],
      "metadata": {
        "id": "hvxcP-Fwy3PG"
      },
      "execution_count": 20,
      "outputs": []
    },
    {
      "cell_type": "code",
      "source": [
        "# Registrar como UDF no Spark\n",
        "get_full_name_udf = udf(get_full_name, StringType())"
      ],
      "metadata": {
        "id": "_vTHRzjOy6QE"
      },
      "execution_count": 21,
      "outputs": []
    },
    {
      "cell_type": "code",
      "source": [
        "# Exemplo de DataFrame\n",
        "data = [(\"Luciana\", \"Sampaio\"), (\"Jose\", \"Souza\"), (\"Angelica\", None)]\n",
        "df = spark.createDataFrame(data, [\"first_name\", \"last_name\"])"
      ],
      "metadata": {
        "id": "3ZVQqJccy9PF"
      },
      "execution_count": 22,
      "outputs": []
    },
    {
      "cell_type": "code",
      "source": [
        "# Usar a UDF\n",
        "df = df.withColumn(\"full_name\", get_full_name_udf(\"first_name\", \"last_name\"))"
      ],
      "metadata": {
        "id": "DsKBbPRdzJ3j"
      },
      "execution_count": 23,
      "outputs": []
    },
    {
      "cell_type": "code",
      "source": [
        "df.show(truncate=False)"
      ],
      "metadata": {
        "colab": {
          "base_uri": "https://localhost:8080/"
        },
        "id": "oaJZUVLFzMRg",
        "outputId": "90d6f918-c72f-4c82-f455-29c6b6b0cbfe"
      },
      "execution_count": 24,
      "outputs": [
        {
          "output_type": "stream",
          "name": "stdout",
          "text": [
            "+----------+---------+---------------+\n",
            "|first_name|last_name|full_name      |\n",
            "+----------+---------+---------------+\n",
            "|Luciana   |Sampaio  |Luciana Sampaio|\n",
            "|Jose      |Souza    |Jose Souza     |\n",
            "|Angelica  |NULL     |Angelica       |\n",
            "+----------+---------+---------------+\n",
            "\n"
          ]
        }
      ]
    },
    {
      "cell_type": "code",
      "source": [
        "import pandas as pd\n",
        "from pyspark.sql.functions import pandas_udf\n",
        "\n",
        "@pandas_udf(StringType())\n",
        "def pandas_capitalize_udf(names: pd.Series) -> pd.Series:\n",
        "\n",
        "# Use efficient, vectorized pandas operations\n",
        "  return names.str.capitalize()"
      ],
      "metadata": {
        "id": "VmGCeq2v2A0N"
      },
      "execution_count": 33,
      "outputs": []
    },
    {
      "cell_type": "code",
      "source": [
        "# Aplicando a Pandas UDF\n",
        "df = df.withColumn(\"name_cap\", pandas_capitalize_udf(\"first_name\"))"
      ],
      "metadata": {
        "id": "W7grDtRm2I2p"
      },
      "execution_count": 26,
      "outputs": []
    },
    {
      "cell_type": "code",
      "source": [
        "df.show()"
      ],
      "metadata": {
        "colab": {
          "base_uri": "https://localhost:8080/"
        },
        "id": "gQhaZ5S6231K",
        "outputId": "0a7681c8-956d-4d66-db16-e9dd5a533139"
      },
      "execution_count": 27,
      "outputs": [
        {
          "output_type": "stream",
          "name": "stdout",
          "text": [
            "+----------+---------+---------------+--------+\n",
            "|first_name|last_name|      full_name|name_cap|\n",
            "+----------+---------+---------------+--------+\n",
            "|   Luciana|  Sampaio|Luciana Sampaio| Luciana|\n",
            "|      Jose|    Souza|     Jose Souza|    Jose|\n",
            "|  Angelica|     NULL|       Angelica|Angelica|\n",
            "+----------+---------+---------------+--------+\n",
            "\n"
          ]
        }
      ]
    },
    {
      "cell_type": "code",
      "source": [
        "df.printSchema()"
      ],
      "metadata": {
        "colab": {
          "base_uri": "https://localhost:8080/"
        },
        "id": "wdkDrBUJ3E4j",
        "outputId": "85a735b5-db7c-4675-eda4-9a5a6c26a0d6"
      },
      "execution_count": 28,
      "outputs": [
        {
          "output_type": "stream",
          "name": "stdout",
          "text": [
            "root\n",
            " |-- first_name: string (nullable = true)\n",
            " |-- last_name: string (nullable = true)\n",
            " |-- full_name: string (nullable = true)\n",
            " |-- name_cap: string (nullable = true)\n",
            "\n"
          ]
        }
      ]
    },
    {
      "cell_type": "markdown",
      "source": [],
      "metadata": {
        "id": "CaS4hc1GeFkP"
      }
    }
  ]
}