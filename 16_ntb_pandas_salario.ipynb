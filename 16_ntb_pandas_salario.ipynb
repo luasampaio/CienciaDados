{
  "nbformat": 4,
  "nbformat_minor": 0,
  "metadata": {
    "colab": {
      "provenance": [],
      "authorship_tag": "ABX9TyNaS1tfTMMcgNNhoJqdqnkI",
      "include_colab_link": true
    },
    "kernelspec": {
      "name": "python3",
      "display_name": "Python 3"
    },
    "language_info": {
      "name": "python"
    }
  },
  "cells": [
    {
      "cell_type": "markdown",
      "metadata": {
        "id": "view-in-github",
        "colab_type": "text"
      },
      "source": [
        "<a href=\"https://colab.research.google.com/github/luasampaio/CienciaDados/blob/main/ntb_pandas_salario.ipynb\" target=\"_parent\"><img src=\"https://colab.research.google.com/assets/colab-badge.svg\" alt=\"Open In Colab\"/></a>"
      ]
    },
    {
      "cell_type": "code",
      "execution_count": 1,
      "metadata": {
        "id": "_nWRahG3IJ7j"
      },
      "outputs": [],
      "source": [
        "import pandas as pd\n",
        "import numpy as np\n"
      ]
    },
    {
      "cell_type": "code",
      "source": [
        "data = {\n",
        "    'Nome': ['Ana', 'Bruno', 'Carlos', 'Daniela'],\n",
        "    'Idade': [23, 34, 45, 29],\n",
        "    'Cidade': ['São Paulo', 'Rio de Janeiro', 'Belo Horizonte', 'Curitiba'],\n",
        "    'Salário': [3500, 4200, 5000, 3800]\n",
        "}\n",
        "\n",
        "df = pd.DataFrame(data)\n",
        "print(df)\n"
      ],
      "metadata": {
        "colab": {
          "base_uri": "https://localhost:8080/"
        },
        "id": "k0G2Vv6zIORO",
        "outputId": "c00d1ff8-6b62-47fd-e8f8-d28121394584"
      },
      "execution_count": 2,
      "outputs": [
        {
          "output_type": "stream",
          "name": "stdout",
          "text": [
            "      Nome  Idade          Cidade  Salário\n",
            "0      Ana     23       São Paulo     3500\n",
            "1    Bruno     34  Rio de Janeiro     4200\n",
            "2   Carlos     45  Belo Horizonte     5000\n",
            "3  Daniela     29        Curitiba     3800\n"
          ]
        }
      ]
    },
    {
      "cell_type": "code",
      "source": [
        "print(df.head())\n"
      ],
      "metadata": {
        "colab": {
          "base_uri": "https://localhost:8080/"
        },
        "id": "N8eoJnDLIQhX",
        "outputId": "3474556f-312c-4c41-92c2-59cde08fc2d5"
      },
      "execution_count": 3,
      "outputs": [
        {
          "output_type": "stream",
          "name": "stdout",
          "text": [
            "      Nome  Idade          Cidade  Salário\n",
            "0      Ana     23       São Paulo     3500\n",
            "1    Bruno     34  Rio de Janeiro     4200\n",
            "2   Carlos     45  Belo Horizonte     5000\n",
            "3  Daniela     29        Curitiba     3800\n"
          ]
        }
      ]
    },
    {
      "cell_type": "code",
      "source": [
        "print(df.describe())\n"
      ],
      "metadata": {
        "colab": {
          "base_uri": "https://localhost:8080/"
        },
        "id": "Y-mh6RqjISgp",
        "outputId": "29c766bb-70ca-4fb0-d323-0d324f7b0367"
      },
      "execution_count": 4,
      "outputs": [
        {
          "output_type": "stream",
          "name": "stdout",
          "text": [
            "           Idade  Salário\n",
            "count   4.000000      4.0\n",
            "mean   32.750000   4125.0\n",
            "std     9.322911    650.0\n",
            "min    23.000000   3500.0\n",
            "25%    27.500000   3725.0\n",
            "50%    31.500000   4000.0\n",
            "75%    36.750000   4400.0\n",
            "max    45.000000   5000.0\n"
          ]
        }
      ]
    },
    {
      "cell_type": "code",
      "source": [
        "df_filtrado = df[df['Idade'] > 30]\n",
        "print(df_filtrado)\n"
      ],
      "metadata": {
        "colab": {
          "base_uri": "https://localhost:8080/"
        },
        "id": "q0t3n5izIhMY",
        "outputId": "965611fc-64ba-4704-e75a-c5a0201707c0"
      },
      "execution_count": 5,
      "outputs": [
        {
          "output_type": "stream",
          "name": "stdout",
          "text": [
            "     Nome  Idade          Cidade  Salário\n",
            "1   Bruno     34  Rio de Janeiro     4200\n",
            "2  Carlos     45  Belo Horizonte     5000\n"
          ]
        }
      ]
    },
    {
      "cell_type": "code",
      "source": [
        "df['Bonus'] = df['Salário'] * 0.10\n",
        "print(df)\n"
      ],
      "metadata": {
        "colab": {
          "base_uri": "https://localhost:8080/"
        },
        "id": "Fj0hPH6SIj4o",
        "outputId": "bc1e048f-28fe-4643-d23a-0fd6e42f092b"
      },
      "execution_count": 6,
      "outputs": [
        {
          "output_type": "stream",
          "name": "stdout",
          "text": [
            "      Nome  Idade          Cidade  Salário  Bonus\n",
            "0      Ana     23       São Paulo     3500  350.0\n",
            "1    Bruno     34  Rio de Janeiro     4200  420.0\n",
            "2   Carlos     45  Belo Horizonte     5000  500.0\n",
            "3  Daniela     29        Curitiba     3800  380.0\n"
          ]
        }
      ]
    },
    {
      "cell_type": "code",
      "source": [
        "df.to_csv('dados.csv', index=False)\n"
      ],
      "metadata": {
        "id": "e4TRRltGImfX"
      },
      "execution_count": 7,
      "outputs": []
    },
    {
      "cell_type": "code",
      "source": [
        "import matplotlib.pyplot as plt\n",
        "\n",
        "df.plot(x='Nome', y='Salário', kind='bar', title='Salário por Pessoa')\n",
        "plt.show()\n"
      ],
      "metadata": {
        "colab": {
          "base_uri": "https://localhost:8080/",
          "height": 511
        },
        "id": "_Cr7w5n9Ip4f",
        "outputId": "5d5be09b-b6fe-45a6-989c-c262141bd137"
      },
      "execution_count": 8,
      "outputs": [
        {
          "output_type": "display_data",
          "data": {
            "text/plain": [
              "<Figure size 640x480 with 1 Axes>"
            ],
            "image/png": "[encoded data removed]"
          },
          "metadata": {}
        }
      ]
    },
    {
      "cell_type": "code",
      "source": [],
      "metadata": {
        "id": "PPeETQALIwp9"
      },
      "execution_count": null,
      "outputs": []
    }
  ]
}
