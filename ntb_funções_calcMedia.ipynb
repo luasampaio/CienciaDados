{
  "nbformat": 4,
  "nbformat_minor": 0,
  "metadata": {
    "colab": {
      "provenance": [],
      "authorship_tag": "ABX9TyOswwJ+lKbN4rOG/q9EYc18",
      "include_colab_link": true
    },
    "kernelspec": {
      "name": "python3",
      "display_name": "Python 3"
    },
    "language_info": {
      "name": "python"
    }
  },
  "cells": [
    {
      "cell_type": "markdown",
      "metadata": {
        "id": "view-in-github",
        "colab_type": "text"
      },
      "source": [
        "<a href=\"https://colab.research.google.com/github/luasampaio/CienciaDados/blob/main/ntb_fun%C3%A7%C3%B5es_calcMedia.ipynb\" target=\"_parent\"><img src=\"https://colab.research.google.com/assets/colab-badge.svg\" alt=\"Open In Colab\"/></a>"
      ]
    },
    {
      "cell_type": "code",
      "execution_count": null,
      "metadata": {
        "id": "zjustk0H7aTT"
      },
      "outputs": [],
      "source": [
        "def calcular_media_notas():\n",
        "    # Solicita o nome do aluno\n",
        "    nome_aluno = input(\"Digite o nome do aluno: \").strip()\n",
        "\n",
        "    # Solicita as duas notas do alunoKarina\n",
        "    nota1 = float(input(\"Digite a primeira nota: \"))\n",
        "    nota2 = float(input(\"Digite a segunda nota: \"))\n",
        "\n",
        "    # Calcula a média das notas\n",
        "    media = (nota1 + nota2) / 2\n",
        "\n",
        "    # Determina a situação do aluno com base na média\n",
        "    situacao = \"Aprovado\" if media >= 6 else \"Reprovado\"\n",
        "\n",
        "    # Exibe a média e a situação do aluno\n",
        "    print(f\"\\nAluno: {nome_aluno}\\nMédia: {media:.2f}\\nSituação: {situacao}\")\n",
        "\n",
        "# Chamar a função para executar o programa\n",
        "calcular_media_notas()"
      ]
    },
    {
      "cell_type": "code",
      "source": [
        "import pandas as pd\n",
        "import sys\n",
        "\n",
        "day = sys.argv[1]\n",
        "\n",
        "print(f\"job finished for day {day}\")"
      ],
      "metadata": {
        "id": "0GtVj09MEo-8",
        "outputId": "1434ed8f-680a-425c-fd56-fdebfd40cd4a",
        "colab": {
          "base_uri": "https://localhost:8080/"
        }
      },
      "execution_count": null,
      "outputs": [
        {
          "output_type": "stream",
          "name": "stdout",
          "text": [
            "job finished for day -f\n"
          ]
        }
      ]
    }
  ]
}