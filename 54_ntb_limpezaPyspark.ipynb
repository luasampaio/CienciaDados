{
  "nbformat": 4,
  "nbformat_minor": 0,
  "metadata": {
    "colab": {
      "provenance": [],
      "authorship_tag": "ABX9TyPr5ozAz3Qc1b2gxKKiLsxX",
      "include_colab_link": true
    },
    "kernelspec": {
      "name": "python3",
      "display_name": "Python 3"
    },
    "language_info": {
      "name": "python"
    }
  },
  "cells": [
    {
      "cell_type": "markdown",
      "metadata": {
        "id": "view-in-github",
        "colab_type": "text"
      },
      "source": [
        "<a href=\"https://colab.research.google.com/github/luasampaio/CienciaDados/blob/main/54_ntb_limpezaPyspark.ipynb\" target=\"_parent\"><img src=\"https://colab.research.google.com/assets/colab-badge.svg\" alt=\"Open In Colab\"/></a>"
      ]
    },
    {
      "cell_type": "markdown",
      "source": [
        "# Realizando a Limpeza dos dados de forma clara com Pyspark\n",
        "- Luciana Sampaio\n",
        "- 16/06/25\n",
        "\n",
        "\n",
        "### Funções:\n",
        "- Uso de Funções\n",
        "-"
      ],
      "metadata": {
        "id": "7B-zsai6U3oR"
      }
    },
    {
      "cell_type": "code",
      "source": [
        "!pip install unidecode"
      ],
      "metadata": {
        "colab": {
          "base_uri": "https://localhost:8080/"
        },
        "id": "6yiUh2KOY5ru",
        "outputId": "15c8a09a-ec0f-44b3-b76b-43c48537626c"
      },
      "execution_count": 26,
      "outputs": [
        {
          "output_type": "stream",
          "name": "stdout",
          "text": [
            "Requirement already satisfied: unidecode in /usr/local/lib/python3.11/dist-packages (1.4.0)\n"
          ]
        }
      ]
    },
    {
      "cell_type": "code",
      "source": [
        "from pyspark.sql import SparkSession\n",
        "from pyspark.sql.functions import col\n",
        "from pyspark.sql import functions as F"
      ],
      "metadata": {
        "id": "hZD4L9WmKDri"
      },
      "execution_count": 27,
      "outputs": []
    },
    {
      "cell_type": "code",
      "source": [
        "spark = (\n",
        "    SparkSession.builder.appName('PySpark - LucianaSampaio')\n",
        "    .config('spark.sql.repl.eagerEval.enabled', True)\n",
        "    .getOrCreate()\n",
        ")"
      ],
      "metadata": {
        "id": "iUiDLf-6KE82"
      },
      "execution_count": 28,
      "outputs": []
    },
    {
      "cell_type": "code",
      "source": [
        "from google.colab import drive\n",
        "drive.mount('/content/drive')"
      ],
      "metadata": {
        "colab": {
          "base_uri": "https://localhost:8080/"
        },
        "id": "h_Pcw0woKYbP",
        "outputId": "206a955e-7309-4e49-9069-43e37372f8e2"
      },
      "execution_count": 29,
      "outputs": [
        {
          "output_type": "stream",
          "name": "stdout",
          "text": [
            "Drive already mounted at /content/drive; to attempt to forcibly remount, call drive.mount(\"/content/drive\", force_remount=True).\n"
          ]
        }
      ]
    },
    {
      "cell_type": "code",
      "source": [
        "df = spark.read.csv('/content/drive/MyDrive/.Dataset/apps.csv', sep=',', encoding='UTF-8', header=True, inferSchema=True)\n",
        "df"
      ],
      "metadata": {
        "id": "_QqS3GxSKsc5",
        "colab": {
          "base_uri": "https://localhost:8080/",
          "height": 529
        },
        "outputId": "4f55a567-3b31-457c-cbb2-467328ae7a60"
      },
      "execution_count": 30,
      "outputs": [
        {
          "output_type": "execute_result",
          "data": {
            "text/plain": [
              "+---+--------------------+--------------+------+-------+----+-----------+----+-----+--------------+--------------------+------------------+------------------+------------+\n",
              "|_c0|                 App|      Category|Rating|Reviews|Size|   Installs|Type|Price|Content Rating|              Genres|      Last Updated|       Current Ver| Android Ver|\n",
              "+---+--------------------+--------------+------+-------+----+-----------+----+-----+--------------+--------------------+------------------+------------------+------------+\n",
              "|  0|Photo Editor & Ca...|ART_AND_DESIGN|   4.1|    159|19.0|    10,000+|Free|    0|      Everyone|        Art & Design|   January 7, 2018|             1.0.0|4.0.3 and up|\n",
              "|  1| Coloring book moana|ART_AND_DESIGN|   3.9|    967|14.0|   500,000+|Free|    0|      Everyone|Art & Design;Pret...|  January 15, 2018|             2.0.0|4.0.3 and up|\n",
              "|  2|U Launcher Lite –...|ART_AND_DESIGN|   4.7|  87510| 8.7| 5,000,000+|Free|    0|      Everyone|        Art & Design|    August 1, 2018|             1.2.4|4.0.3 and up|\n",
              "|  3|Sketch - Draw & P...|ART_AND_DESIGN|   4.5| 215644|25.0|50,000,000+|Free|    0|          Teen|        Art & Design|      June 8, 2018|Varies with device|  4.2 and up|\n",
              "|  4|Pixel Draw - Numb...|ART_AND_DESIGN|   4.3|    967| 2.8|   100,000+|Free|    0|      Everyone|Art & Design;Crea...|     June 20, 2018|               1.1|  4.4 and up|\n",
              "|  5|Paper flowers ins...|ART_AND_DESIGN|   4.4|    167| 5.6|    50,000+|Free|    0|      Everyone|        Art & Design|    March 26, 2017|                 1|  2.3 and up|\n",
              "|  6|Smoke Effect Phot...|ART_AND_DESIGN|   3.8|    178|19.0|    50,000+|Free|    0|      Everyone|        Art & Design|    April 26, 2018|               1.1|4.0.3 and up|\n",
              "|  7|    Infinite Painter|ART_AND_DESIGN|   4.1|  36815|29.0| 1,000,000+|Free|    0|      Everyone|        Art & Design|     June 14, 2018|          6.1.61.1|  4.2 and up|\n",
              "|  8|Garden Coloring Book|ART_AND_DESIGN|   4.4|  13791|33.0| 1,000,000+|Free|    0|      Everyone|        Art & Design|September 20, 2017|             2.9.2|  3.0 and up|\n",
              "|  9|Kids Paint Free -...|ART_AND_DESIGN|   4.7|    121| 3.1|    10,000+|Free|    0|      Everyone|Art & Design;Crea...|      July 3, 2018|               2.8|4.0.3 and up|\n",
              "| 10|Text on Photo - F...|ART_AND_DESIGN|   4.4|  13880|28.0| 1,000,000+|Free|    0|      Everyone|        Art & Design|  October 27, 2017|             1.0.4|  4.1 and up|\n",
              "| 11|Name Art Photo Ed...|ART_AND_DESIGN|   4.4|   8788|12.0| 1,000,000+|Free|    0|      Everyone|        Art & Design|     July 31, 2018|            1.0.15|  4.0 and up|\n",
              "| 12|Tattoo Name On My...|ART_AND_DESIGN|   4.2|  44829|20.0|10,000,000+|Free|    0|          Teen|        Art & Design|     April 2, 2018|               3.8|  4.1 and up|\n",
              "| 13|Mandala Coloring ...|ART_AND_DESIGN|   4.6|   4326|21.0|   100,000+|Free|    0|      Everyone|        Art & Design|     June 26, 2018|             1.0.4|  4.4 and up|\n",
              "| 14|3D Color Pixel by...|ART_AND_DESIGN|   4.4|   1518|37.0|   100,000+|Free|    0|      Everyone|        Art & Design|    August 3, 2018|             1.2.3|  2.3 and up|\n",
              "| 15|Learn To Draw Kaw...|ART_AND_DESIGN|   3.2|     55| 2.7|     5,000+|Free|    0|      Everyone|        Art & Design|      June 6, 2018|              NULL|  4.2 and up|\n",
              "| 16|Photo Designer - ...|ART_AND_DESIGN|   4.7|   3632| 5.5|   500,000+|Free|    0|      Everyone|        Art & Design|     July 31, 2018|               3.1|  4.1 and up|\n",
              "| 17|350 Diy Room Deco...|ART_AND_DESIGN|   4.5|     27|17.0|    10,000+|Free|    0|      Everyone|        Art & Design|  November 7, 2017|                 1|  2.3 and up|\n",
              "| 18|FlipaClip - Carto...|ART_AND_DESIGN|   4.3| 194216|39.0| 5,000,000+|Free|    0|      Everyone|        Art & Design|    August 3, 2018|             2.2.5|4.0.3 and up|\n",
              "| 19|        ibis Paint X|ART_AND_DESIGN|   4.6| 224399|31.0|10,000,000+|Free|    0|      Everyone|        Art & Design|     July 30, 2018|             5.5.4|  4.1 and up|\n",
              "+---+--------------------+--------------+------+-------+----+-----------+----+-----+--------------+--------------------+------------------+------------------+------------+\n",
              "only showing top 20 rows"
            ],
            "text/html": [
              "<table border='1'>\n",
              "<tr><th>_c0</th><th>App</th><th>Category</th><th>Rating</th><th>Reviews</th><th>Size</th><th>Installs</th><th>Type</th><th>Price</th><th>Content Rating</th><th>Genres</th><th>Last Updated</th><th>Current Ver</th><th>Android Ver</th></tr>\n",
              "<tr><td>0</td><td>Photo Editor &amp; Ca...</td><td>ART_AND_DESIGN</td><td>4.1</td><td>159</td><td>19.0</td><td>10,000+</td><td>Free</td><td>0</td><td>Everyone</td><td>Art &amp; Design</td><td>January 7, 2018</td><td>1.0.0</td><td>4.0.3 and up</td></tr>\n",
              "<tr><td>1</td><td>Coloring book moana</td><td>ART_AND_DESIGN</td><td>3.9</td><td>967</td><td>14.0</td><td>500,000+</td><td>Free</td><td>0</td><td>Everyone</td><td>Art &amp; Design;Pret...</td><td>January 15, 2018</td><td>2.0.0</td><td>4.0.3 and up</td></tr>\n",
              "<tr><td>2</td><td>U Launcher Lite &ndash;...</td><td>ART_AND_DESIGN</td><td>4.7</td><td>87510</td><td>8.7</td><td>5,000,000+</td><td>Free</td><td>0</td><td>Everyone</td><td>Art &amp; Design</td><td>August 1, 2018</td><td>1.2.4</td><td>4.0.3 and up</td></tr>\n",
              "<tr><td>3</td><td>Sketch - Draw &amp; P...</td><td>ART_AND_DESIGN</td><td>4.5</td><td>215644</td><td>25.0</td><td>50,000,000+</td><td>Free</td><td>0</td><td>Teen</td><td>Art &amp; Design</td><td>June 8, 2018</td><td>Varies with device</td><td>4.2 and up</td></tr>\n",
              "<tr><td>4</td><td>Pixel Draw - Numb...</td><td>ART_AND_DESIGN</td><td>4.3</td><td>967</td><td>2.8</td><td>100,000+</td><td>Free</td><td>0</td><td>Everyone</td><td>Art &amp; Design;Crea...</td><td>June 20, 2018</td><td>1.1</td><td>4.4 and up</td></tr>\n",
              "<tr><td>5</td><td>Paper flowers ins...</td><td>ART_AND_DESIGN</td><td>4.4</td><td>167</td><td>5.6</td><td>50,000+</td><td>Free</td><td>0</td><td>Everyone</td><td>Art &amp; Design</td><td>March 26, 2017</td><td>1</td><td>2.3 and up</td></tr>\n",
              "<tr><td>6</td><td>Smoke Effect Phot...</td><td>ART_AND_DESIGN</td><td>3.8</td><td>178</td><td>19.0</td><td>50,000+</td><td>Free</td><td>0</td><td>Everyone</td><td>Art &amp; Design</td><td>April 26, 2018</td><td>1.1</td><td>4.0.3 and up</td></tr>\n",
              "<tr><td>7</td><td>Infinite Painter</td><td>ART_AND_DESIGN</td><td>4.1</td><td>36815</td><td>29.0</td><td>1,000,000+</td><td>Free</td><td>0</td><td>Everyone</td><td>Art &amp; Design</td><td>June 14, 2018</td><td>6.1.61.1</td><td>4.2 and up</td></tr>\n",
              "<tr><td>8</td><td>Garden Coloring Book</td><td>ART_AND_DESIGN</td><td>4.4</td><td>13791</td><td>33.0</td><td>1,000,000+</td><td>Free</td><td>0</td><td>Everyone</td><td>Art &amp; Design</td><td>September 20, 2017</td><td>2.9.2</td><td>3.0 and up</td></tr>\n",
              "<tr><td>9</td><td>Kids Paint Free -...</td><td>ART_AND_DESIGN</td><td>4.7</td><td>121</td><td>3.1</td><td>10,000+</td><td>Free</td><td>0</td><td>Everyone</td><td>Art &amp; Design;Crea...</td><td>July 3, 2018</td><td>2.8</td><td>4.0.3 and up</td></tr>\n",
              "<tr><td>10</td><td>Text on Photo - F...</td><td>ART_AND_DESIGN</td><td>4.4</td><td>13880</td><td>28.0</td><td>1,000,000+</td><td>Free</td><td>0</td><td>Everyone</td><td>Art &amp; Design</td><td>October 27, 2017</td><td>1.0.4</td><td>4.1 and up</td></tr>\n",
              "<tr><td>11</td><td>Name Art Photo Ed...</td><td>ART_AND_DESIGN</td><td>4.4</td><td>8788</td><td>12.0</td><td>1,000,000+</td><td>Free</td><td>0</td><td>Everyone</td><td>Art &amp; Design</td><td>July 31, 2018</td><td>1.0.15</td><td>4.0 and up</td></tr>\n",
              "<tr><td>12</td><td>Tattoo Name On My...</td><td>ART_AND_DESIGN</td><td>4.2</td><td>44829</td><td>20.0</td><td>10,000,000+</td><td>Free</td><td>0</td><td>Teen</td><td>Art &amp; Design</td><td>April 2, 2018</td><td>3.8</td><td>4.1 and up</td></tr>\n",
              "<tr><td>13</td><td>Mandala Coloring ...</td><td>ART_AND_DESIGN</td><td>4.6</td><td>4326</td><td>21.0</td><td>100,000+</td><td>Free</td><td>0</td><td>Everyone</td><td>Art &amp; Design</td><td>June 26, 2018</td><td>1.0.4</td><td>4.4 and up</td></tr>\n",
              "<tr><td>14</td><td>3D Color Pixel by...</td><td>ART_AND_DESIGN</td><td>4.4</td><td>1518</td><td>37.0</td><td>100,000+</td><td>Free</td><td>0</td><td>Everyone</td><td>Art &amp; Design</td><td>August 3, 2018</td><td>1.2.3</td><td>2.3 and up</td></tr>\n",
              "<tr><td>15</td><td>Learn To Draw Kaw...</td><td>ART_AND_DESIGN</td><td>3.2</td><td>55</td><td>2.7</td><td>5,000+</td><td>Free</td><td>0</td><td>Everyone</td><td>Art &amp; Design</td><td>June 6, 2018</td><td>NULL</td><td>4.2 and up</td></tr>\n",
              "<tr><td>16</td><td>Photo Designer - ...</td><td>ART_AND_DESIGN</td><td>4.7</td><td>3632</td><td>5.5</td><td>500,000+</td><td>Free</td><td>0</td><td>Everyone</td><td>Art &amp; Design</td><td>July 31, 2018</td><td>3.1</td><td>4.1 and up</td></tr>\n",
              "<tr><td>17</td><td>350 Diy Room Deco...</td><td>ART_AND_DESIGN</td><td>4.5</td><td>27</td><td>17.0</td><td>10,000+</td><td>Free</td><td>0</td><td>Everyone</td><td>Art &amp; Design</td><td>November 7, 2017</td><td>1</td><td>2.3 and up</td></tr>\n",
              "<tr><td>18</td><td>FlipaClip - Carto...</td><td>ART_AND_DESIGN</td><td>4.3</td><td>194216</td><td>39.0</td><td>5,000,000+</td><td>Free</td><td>0</td><td>Everyone</td><td>Art &amp; Design</td><td>August 3, 2018</td><td>2.2.5</td><td>4.0.3 and up</td></tr>\n",
              "<tr><td>19</td><td>ibis Paint X</td><td>ART_AND_DESIGN</td><td>4.6</td><td>224399</td><td>31.0</td><td>10,000,000+</td><td>Free</td><td>0</td><td>Everyone</td><td>Art &amp; Design</td><td>July 30, 2018</td><td>5.5.4</td><td>4.1 and up</td></tr>\n",
              "</table>\n",
              "only showing top 20 rows\n"
            ]
          },
          "metadata": {},
          "execution_count": 30
        }
      ]
    },
    {
      "cell_type": "markdown",
      "source": [
        "Separando a Coluna"
      ],
      "metadata": {
        "id": "pfm9Hqz3UYVN"
      }
    },
    {
      "source": [
        "df = df.withColumn('PrimeiroGenero', F.split(df.Genres, ';'))\n",
        "df.show()"
      ],
      "cell_type": "code",
      "metadata": {
        "id": "4jG2wPDKRboQ",
        "colab": {
          "base_uri": "https://localhost:8080/"
        },
        "outputId": "5a466666-709f-45af-c328-673839b588cb"
      },
      "execution_count": 31,
      "outputs": [
        {
          "output_type": "stream",
          "name": "stdout",
          "text": [
            "+---+--------------------+--------------+------+-------+----+-----------+----+-----+--------------+--------------------+------------------+------------------+------------+--------------------+\n",
            "|_c0|                 App|      Category|Rating|Reviews|Size|   Installs|Type|Price|Content Rating|              Genres|      Last Updated|       Current Ver| Android Ver|      PrimeiroGenero|\n",
            "+---+--------------------+--------------+------+-------+----+-----------+----+-----+--------------+--------------------+------------------+------------------+------------+--------------------+\n",
            "|  0|Photo Editor & Ca...|ART_AND_DESIGN|   4.1|    159|19.0|    10,000+|Free|    0|      Everyone|        Art & Design|   January 7, 2018|             1.0.0|4.0.3 and up|      [Art & Design]|\n",
            "|  1| Coloring book moana|ART_AND_DESIGN|   3.9|    967|14.0|   500,000+|Free|    0|      Everyone|Art & Design;Pret...|  January 15, 2018|             2.0.0|4.0.3 and up|[Art & Design, Pr...|\n",
            "|  2|U Launcher Lite –...|ART_AND_DESIGN|   4.7|  87510| 8.7| 5,000,000+|Free|    0|      Everyone|        Art & Design|    August 1, 2018|             1.2.4|4.0.3 and up|      [Art & Design]|\n",
            "|  3|Sketch - Draw & P...|ART_AND_DESIGN|   4.5| 215644|25.0|50,000,000+|Free|    0|          Teen|        Art & Design|      June 8, 2018|Varies with device|  4.2 and up|      [Art & Design]|\n",
            "|  4|Pixel Draw - Numb...|ART_AND_DESIGN|   4.3|    967| 2.8|   100,000+|Free|    0|      Everyone|Art & Design;Crea...|     June 20, 2018|               1.1|  4.4 and up|[Art & Design, Cr...|\n",
            "|  5|Paper flowers ins...|ART_AND_DESIGN|   4.4|    167| 5.6|    50,000+|Free|    0|      Everyone|        Art & Design|    March 26, 2017|                 1|  2.3 and up|      [Art & Design]|\n",
            "|  6|Smoke Effect Phot...|ART_AND_DESIGN|   3.8|    178|19.0|    50,000+|Free|    0|      Everyone|        Art & Design|    April 26, 2018|               1.1|4.0.3 and up|      [Art & Design]|\n",
            "|  7|    Infinite Painter|ART_AND_DESIGN|   4.1|  36815|29.0| 1,000,000+|Free|    0|      Everyone|        Art & Design|     June 14, 2018|          6.1.61.1|  4.2 and up|      [Art & Design]|\n",
            "|  8|Garden Coloring Book|ART_AND_DESIGN|   4.4|  13791|33.0| 1,000,000+|Free|    0|      Everyone|        Art & Design|September 20, 2017|             2.9.2|  3.0 and up|      [Art & Design]|\n",
            "|  9|Kids Paint Free -...|ART_AND_DESIGN|   4.7|    121| 3.1|    10,000+|Free|    0|      Everyone|Art & Design;Crea...|      July 3, 2018|               2.8|4.0.3 and up|[Art & Design, Cr...|\n",
            "| 10|Text on Photo - F...|ART_AND_DESIGN|   4.4|  13880|28.0| 1,000,000+|Free|    0|      Everyone|        Art & Design|  October 27, 2017|             1.0.4|  4.1 and up|      [Art & Design]|\n",
            "| 11|Name Art Photo Ed...|ART_AND_DESIGN|   4.4|   8788|12.0| 1,000,000+|Free|    0|      Everyone|        Art & Design|     July 31, 2018|            1.0.15|  4.0 and up|      [Art & Design]|\n",
            "| 12|Tattoo Name On My...|ART_AND_DESIGN|   4.2|  44829|20.0|10,000,000+|Free|    0|          Teen|        Art & Design|     April 2, 2018|               3.8|  4.1 and up|      [Art & Design]|\n",
            "| 13|Mandala Coloring ...|ART_AND_DESIGN|   4.6|   4326|21.0|   100,000+|Free|    0|      Everyone|        Art & Design|     June 26, 2018|             1.0.4|  4.4 and up|      [Art & Design]|\n",
            "| 14|3D Color Pixel by...|ART_AND_DESIGN|   4.4|   1518|37.0|   100,000+|Free|    0|      Everyone|        Art & Design|    August 3, 2018|             1.2.3|  2.3 and up|      [Art & Design]|\n",
            "| 15|Learn To Draw Kaw...|ART_AND_DESIGN|   3.2|     55| 2.7|     5,000+|Free|    0|      Everyone|        Art & Design|      June 6, 2018|              NULL|  4.2 and up|      [Art & Design]|\n",
            "| 16|Photo Designer - ...|ART_AND_DESIGN|   4.7|   3632| 5.5|   500,000+|Free|    0|      Everyone|        Art & Design|     July 31, 2018|               3.1|  4.1 and up|      [Art & Design]|\n",
            "| 17|350 Diy Room Deco...|ART_AND_DESIGN|   4.5|     27|17.0|    10,000+|Free|    0|      Everyone|        Art & Design|  November 7, 2017|                 1|  2.3 and up|      [Art & Design]|\n",
            "| 18|FlipaClip - Carto...|ART_AND_DESIGN|   4.3| 194216|39.0| 5,000,000+|Free|    0|      Everyone|        Art & Design|    August 3, 2018|             2.2.5|4.0.3 and up|      [Art & Design]|\n",
            "| 19|        ibis Paint X|ART_AND_DESIGN|   4.6| 224399|31.0|10,000,000+|Free|    0|      Everyone|        Art & Design|     July 30, 2018|             5.5.4|  4.1 and up|      [Art & Design]|\n",
            "+---+--------------------+--------------+------+-------+----+-----------+----+-----+--------------+--------------------+------------------+------------------+------------+--------------------+\n",
            "only showing top 20 rows\n",
            "\n"
          ]
        }
      ]
    },
    {
      "source": [
        "# df = df.withColumn('PrimeiroGenero', df.splits.getItem(0)) # This line caused the error\n",
        "df = df.withColumn('PrimeiroGenero', df.PrimeiroGenero.getItem(0)) # Correctly access the array in 'PrimeiroGenero' column\n",
        "df.show()"
      ],
      "cell_type": "code",
      "metadata": {
        "id": "smS5wFhZUunp",
        "colab": {
          "base_uri": "https://localhost:8080/"
        },
        "outputId": "c46b7739-a9ab-47ae-f775-c47697102dca"
      },
      "execution_count": 32,
      "outputs": [
        {
          "output_type": "stream",
          "name": "stdout",
          "text": [
            "+---+--------------------+--------------+------+-------+----+-----------+----+-----+--------------+--------------------+------------------+------------------+------------+--------------+\n",
            "|_c0|                 App|      Category|Rating|Reviews|Size|   Installs|Type|Price|Content Rating|              Genres|      Last Updated|       Current Ver| Android Ver|PrimeiroGenero|\n",
            "+---+--------------------+--------------+------+-------+----+-----------+----+-----+--------------+--------------------+------------------+------------------+------------+--------------+\n",
            "|  0|Photo Editor & Ca...|ART_AND_DESIGN|   4.1|    159|19.0|    10,000+|Free|    0|      Everyone|        Art & Design|   January 7, 2018|             1.0.0|4.0.3 and up|  Art & Design|\n",
            "|  1| Coloring book moana|ART_AND_DESIGN|   3.9|    967|14.0|   500,000+|Free|    0|      Everyone|Art & Design;Pret...|  January 15, 2018|             2.0.0|4.0.3 and up|  Art & Design|\n",
            "|  2|U Launcher Lite –...|ART_AND_DESIGN|   4.7|  87510| 8.7| 5,000,000+|Free|    0|      Everyone|        Art & Design|    August 1, 2018|             1.2.4|4.0.3 and up|  Art & Design|\n",
            "|  3|Sketch - Draw & P...|ART_AND_DESIGN|   4.5| 215644|25.0|50,000,000+|Free|    0|          Teen|        Art & Design|      June 8, 2018|Varies with device|  4.2 and up|  Art & Design|\n",
            "|  4|Pixel Draw - Numb...|ART_AND_DESIGN|   4.3|    967| 2.8|   100,000+|Free|    0|      Everyone|Art & Design;Crea...|     June 20, 2018|               1.1|  4.4 and up|  Art & Design|\n",
            "|  5|Paper flowers ins...|ART_AND_DESIGN|   4.4|    167| 5.6|    50,000+|Free|    0|      Everyone|        Art & Design|    March 26, 2017|                 1|  2.3 and up|  Art & Design|\n",
            "|  6|Smoke Effect Phot...|ART_AND_DESIGN|   3.8|    178|19.0|    50,000+|Free|    0|      Everyone|        Art & Design|    April 26, 2018|               1.1|4.0.3 and up|  Art & Design|\n",
            "|  7|    Infinite Painter|ART_AND_DESIGN|   4.1|  36815|29.0| 1,000,000+|Free|    0|      Everyone|        Art & Design|     June 14, 2018|          6.1.61.1|  4.2 and up|  Art & Design|\n",
            "|  8|Garden Coloring Book|ART_AND_DESIGN|   4.4|  13791|33.0| 1,000,000+|Free|    0|      Everyone|        Art & Design|September 20, 2017|             2.9.2|  3.0 and up|  Art & Design|\n",
            "|  9|Kids Paint Free -...|ART_AND_DESIGN|   4.7|    121| 3.1|    10,000+|Free|    0|      Everyone|Art & Design;Crea...|      July 3, 2018|               2.8|4.0.3 and up|  Art & Design|\n",
            "| 10|Text on Photo - F...|ART_AND_DESIGN|   4.4|  13880|28.0| 1,000,000+|Free|    0|      Everyone|        Art & Design|  October 27, 2017|             1.0.4|  4.1 and up|  Art & Design|\n",
            "| 11|Name Art Photo Ed...|ART_AND_DESIGN|   4.4|   8788|12.0| 1,000,000+|Free|    0|      Everyone|        Art & Design|     July 31, 2018|            1.0.15|  4.0 and up|  Art & Design|\n",
            "| 12|Tattoo Name On My...|ART_AND_DESIGN|   4.2|  44829|20.0|10,000,000+|Free|    0|          Teen|        Art & Design|     April 2, 2018|               3.8|  4.1 and up|  Art & Design|\n",
            "| 13|Mandala Coloring ...|ART_AND_DESIGN|   4.6|   4326|21.0|   100,000+|Free|    0|      Everyone|        Art & Design|     June 26, 2018|             1.0.4|  4.4 and up|  Art & Design|\n",
            "| 14|3D Color Pixel by...|ART_AND_DESIGN|   4.4|   1518|37.0|   100,000+|Free|    0|      Everyone|        Art & Design|    August 3, 2018|             1.2.3|  2.3 and up|  Art & Design|\n",
            "| 15|Learn To Draw Kaw...|ART_AND_DESIGN|   3.2|     55| 2.7|     5,000+|Free|    0|      Everyone|        Art & Design|      June 6, 2018|              NULL|  4.2 and up|  Art & Design|\n",
            "| 16|Photo Designer - ...|ART_AND_DESIGN|   4.7|   3632| 5.5|   500,000+|Free|    0|      Everyone|        Art & Design|     July 31, 2018|               3.1|  4.1 and up|  Art & Design|\n",
            "| 17|350 Diy Room Deco...|ART_AND_DESIGN|   4.5|     27|17.0|    10,000+|Free|    0|      Everyone|        Art & Design|  November 7, 2017|                 1|  2.3 and up|  Art & Design|\n",
            "| 18|FlipaClip - Carto...|ART_AND_DESIGN|   4.3| 194216|39.0| 5,000,000+|Free|    0|      Everyone|        Art & Design|    August 3, 2018|             2.2.5|4.0.3 and up|  Art & Design|\n",
            "| 19|        ibis Paint X|ART_AND_DESIGN|   4.6| 224399|31.0|10,000,000+|Free|    0|      Everyone|        Art & Design|     July 30, 2018|             5.5.4|  4.1 and up|  Art & Design|\n",
            "+---+--------------------+--------------+------+-------+----+-----------+----+-----+--------------+--------------------+------------------+------------------+------------+--------------+\n",
            "only showing top 20 rows\n",
            "\n"
          ]
        }
      ]
    },
    {
      "cell_type": "code",
      "source": [
        "display(df)"
      ],
      "metadata": {
        "id": "XawM4ZCNT80n",
        "colab": {
          "base_uri": "https://localhost:8080/",
          "height": 529
        },
        "outputId": "68e4801c-0185-451a-93af-576c6384749f"
      },
      "execution_count": 33,
      "outputs": [
        {
          "output_type": "display_data",
          "data": {
            "text/plain": [
              "+---+--------------------+--------------+------+-------+----+-----------+----+-----+--------------+--------------------+------------------+------------------+------------+--------------+\n",
              "|_c0|                 App|      Category|Rating|Reviews|Size|   Installs|Type|Price|Content Rating|              Genres|      Last Updated|       Current Ver| Android Ver|PrimeiroGenero|\n",
              "+---+--------------------+--------------+------+-------+----+-----------+----+-----+--------------+--------------------+------------------+------------------+------------+--------------+\n",
              "|  0|Photo Editor & Ca...|ART_AND_DESIGN|   4.1|    159|19.0|    10,000+|Free|    0|      Everyone|        Art & Design|   January 7, 2018|             1.0.0|4.0.3 and up|  Art & Design|\n",
              "|  1| Coloring book moana|ART_AND_DESIGN|   3.9|    967|14.0|   500,000+|Free|    0|      Everyone|Art & Design;Pret...|  January 15, 2018|             2.0.0|4.0.3 and up|  Art & Design|\n",
              "|  2|U Launcher Lite –...|ART_AND_DESIGN|   4.7|  87510| 8.7| 5,000,000+|Free|    0|      Everyone|        Art & Design|    August 1, 2018|             1.2.4|4.0.3 and up|  Art & Design|\n",
              "|  3|Sketch - Draw & P...|ART_AND_DESIGN|   4.5| 215644|25.0|50,000,000+|Free|    0|          Teen|        Art & Design|      June 8, 2018|Varies with device|  4.2 and up|  Art & Design|\n",
              "|  4|Pixel Draw - Numb...|ART_AND_DESIGN|   4.3|    967| 2.8|   100,000+|Free|    0|      Everyone|Art & Design;Crea...|     June 20, 2018|               1.1|  4.4 and up|  Art & Design|\n",
              "|  5|Paper flowers ins...|ART_AND_DESIGN|   4.4|    167| 5.6|    50,000+|Free|    0|      Everyone|        Art & Design|    March 26, 2017|                 1|  2.3 and up|  Art & Design|\n",
              "|  6|Smoke Effect Phot...|ART_AND_DESIGN|   3.8|    178|19.0|    50,000+|Free|    0|      Everyone|        Art & Design|    April 26, 2018|               1.1|4.0.3 and up|  Art & Design|\n",
              "|  7|    Infinite Painter|ART_AND_DESIGN|   4.1|  36815|29.0| 1,000,000+|Free|    0|      Everyone|        Art & Design|     June 14, 2018|          6.1.61.1|  4.2 and up|  Art & Design|\n",
              "|  8|Garden Coloring Book|ART_AND_DESIGN|   4.4|  13791|33.0| 1,000,000+|Free|    0|      Everyone|        Art & Design|September 20, 2017|             2.9.2|  3.0 and up|  Art & Design|\n",
              "|  9|Kids Paint Free -...|ART_AND_DESIGN|   4.7|    121| 3.1|    10,000+|Free|    0|      Everyone|Art & Design;Crea...|      July 3, 2018|               2.8|4.0.3 and up|  Art & Design|\n",
              "| 10|Text on Photo - F...|ART_AND_DESIGN|   4.4|  13880|28.0| 1,000,000+|Free|    0|      Everyone|        Art & Design|  October 27, 2017|             1.0.4|  4.1 and up|  Art & Design|\n",
              "| 11|Name Art Photo Ed...|ART_AND_DESIGN|   4.4|   8788|12.0| 1,000,000+|Free|    0|      Everyone|        Art & Design|     July 31, 2018|            1.0.15|  4.0 and up|  Art & Design|\n",
              "| 12|Tattoo Name On My...|ART_AND_DESIGN|   4.2|  44829|20.0|10,000,000+|Free|    0|          Teen|        Art & Design|     April 2, 2018|               3.8|  4.1 and up|  Art & Design|\n",
              "| 13|Mandala Coloring ...|ART_AND_DESIGN|   4.6|   4326|21.0|   100,000+|Free|    0|      Everyone|        Art & Design|     June 26, 2018|             1.0.4|  4.4 and up|  Art & Design|\n",
              "| 14|3D Color Pixel by...|ART_AND_DESIGN|   4.4|   1518|37.0|   100,000+|Free|    0|      Everyone|        Art & Design|    August 3, 2018|             1.2.3|  2.3 and up|  Art & Design|\n",
              "| 15|Learn To Draw Kaw...|ART_AND_DESIGN|   3.2|     55| 2.7|     5,000+|Free|    0|      Everyone|        Art & Design|      June 6, 2018|              NULL|  4.2 and up|  Art & Design|\n",
              "| 16|Photo Designer - ...|ART_AND_DESIGN|   4.7|   3632| 5.5|   500,000+|Free|    0|      Everyone|        Art & Design|     July 31, 2018|               3.1|  4.1 and up|  Art & Design|\n",
              "| 17|350 Diy Room Deco...|ART_AND_DESIGN|   4.5|     27|17.0|    10,000+|Free|    0|      Everyone|        Art & Design|  November 7, 2017|                 1|  2.3 and up|  Art & Design|\n",
              "| 18|FlipaClip - Carto...|ART_AND_DESIGN|   4.3| 194216|39.0| 5,000,000+|Free|    0|      Everyone|        Art & Design|    August 3, 2018|             2.2.5|4.0.3 and up|  Art & Design|\n",
              "| 19|        ibis Paint X|ART_AND_DESIGN|   4.6| 224399|31.0|10,000,000+|Free|    0|      Everyone|        Art & Design|     July 30, 2018|             5.5.4|  4.1 and up|  Art & Design|\n",
              "+---+--------------------+--------------+------+-------+----+-----------+----+-----+--------------+--------------------+------------------+------------------+------------+--------------+\n",
              "only showing top 20 rows"
            ],
            "text/html": [
              "<table border='1'>\n",
              "<tr><th>_c0</th><th>App</th><th>Category</th><th>Rating</th><th>Reviews</th><th>Size</th><th>Installs</th><th>Type</th><th>Price</th><th>Content Rating</th><th>Genres</th><th>Last Updated</th><th>Current Ver</th><th>Android Ver</th><th>PrimeiroGenero</th></tr>\n",
              "<tr><td>0</td><td>Photo Editor &amp; Ca...</td><td>ART_AND_DESIGN</td><td>4.1</td><td>159</td><td>19.0</td><td>10,000+</td><td>Free</td><td>0</td><td>Everyone</td><td>Art &amp; Design</td><td>January 7, 2018</td><td>1.0.0</td><td>4.0.3 and up</td><td>Art &amp; Design</td></tr>\n",
              "<tr><td>1</td><td>Coloring book moana</td><td>ART_AND_DESIGN</td><td>3.9</td><td>967</td><td>14.0</td><td>500,000+</td><td>Free</td><td>0</td><td>Everyone</td><td>Art &amp; Design;Pret...</td><td>January 15, 2018</td><td>2.0.0</td><td>4.0.3 and up</td><td>Art &amp; Design</td></tr>\n",
              "<tr><td>2</td><td>U Launcher Lite &ndash;...</td><td>ART_AND_DESIGN</td><td>4.7</td><td>87510</td><td>8.7</td><td>5,000,000+</td><td>Free</td><td>0</td><td>Everyone</td><td>Art &amp; Design</td><td>August 1, 2018</td><td>1.2.4</td><td>4.0.3 and up</td><td>Art &amp; Design</td></tr>\n",
              "<tr><td>3</td><td>Sketch - Draw &amp; P...</td><td>ART_AND_DESIGN</td><td>4.5</td><td>215644</td><td>25.0</td><td>50,000,000+</td><td>Free</td><td>0</td><td>Teen</td><td>Art &amp; Design</td><td>June 8, 2018</td><td>Varies with device</td><td>4.2 and up</td><td>Art &amp; Design</td></tr>\n",
              "<tr><td>4</td><td>Pixel Draw - Numb...</td><td>ART_AND_DESIGN</td><td>4.3</td><td>967</td><td>2.8</td><td>100,000+</td><td>Free</td><td>0</td><td>Everyone</td><td>Art &amp; Design;Crea...</td><td>June 20, 2018</td><td>1.1</td><td>4.4 and up</td><td>Art &amp; Design</td></tr>\n",
              "<tr><td>5</td><td>Paper flowers ins...</td><td>ART_AND_DESIGN</td><td>4.4</td><td>167</td><td>5.6</td><td>50,000+</td><td>Free</td><td>0</td><td>Everyone</td><td>Art &amp; Design</td><td>March 26, 2017</td><td>1</td><td>2.3 and up</td><td>Art &amp; Design</td></tr>\n",
              "<tr><td>6</td><td>Smoke Effect Phot...</td><td>ART_AND_DESIGN</td><td>3.8</td><td>178</td><td>19.0</td><td>50,000+</td><td>Free</td><td>0</td><td>Everyone</td><td>Art &amp; Design</td><td>April 26, 2018</td><td>1.1</td><td>4.0.3 and up</td><td>Art &amp; Design</td></tr>\n",
              "<tr><td>7</td><td>Infinite Painter</td><td>ART_AND_DESIGN</td><td>4.1</td><td>36815</td><td>29.0</td><td>1,000,000+</td><td>Free</td><td>0</td><td>Everyone</td><td>Art &amp; Design</td><td>June 14, 2018</td><td>6.1.61.1</td><td>4.2 and up</td><td>Art &amp; Design</td></tr>\n",
              "<tr><td>8</td><td>Garden Coloring Book</td><td>ART_AND_DESIGN</td><td>4.4</td><td>13791</td><td>33.0</td><td>1,000,000+</td><td>Free</td><td>0</td><td>Everyone</td><td>Art &amp; Design</td><td>September 20, 2017</td><td>2.9.2</td><td>3.0 and up</td><td>Art &amp; Design</td></tr>\n",
              "<tr><td>9</td><td>Kids Paint Free -...</td><td>ART_AND_DESIGN</td><td>4.7</td><td>121</td><td>3.1</td><td>10,000+</td><td>Free</td><td>0</td><td>Everyone</td><td>Art &amp; Design;Crea...</td><td>July 3, 2018</td><td>2.8</td><td>4.0.3 and up</td><td>Art &amp; Design</td></tr>\n",
              "<tr><td>10</td><td>Text on Photo - F...</td><td>ART_AND_DESIGN</td><td>4.4</td><td>13880</td><td>28.0</td><td>1,000,000+</td><td>Free</td><td>0</td><td>Everyone</td><td>Art &amp; Design</td><td>October 27, 2017</td><td>1.0.4</td><td>4.1 and up</td><td>Art &amp; Design</td></tr>\n",
              "<tr><td>11</td><td>Name Art Photo Ed...</td><td>ART_AND_DESIGN</td><td>4.4</td><td>8788</td><td>12.0</td><td>1,000,000+</td><td>Free</td><td>0</td><td>Everyone</td><td>Art &amp; Design</td><td>July 31, 2018</td><td>1.0.15</td><td>4.0 and up</td><td>Art &amp; Design</td></tr>\n",
              "<tr><td>12</td><td>Tattoo Name On My...</td><td>ART_AND_DESIGN</td><td>4.2</td><td>44829</td><td>20.0</td><td>10,000,000+</td><td>Free</td><td>0</td><td>Teen</td><td>Art &amp; Design</td><td>April 2, 2018</td><td>3.8</td><td>4.1 and up</td><td>Art &amp; Design</td></tr>\n",
              "<tr><td>13</td><td>Mandala Coloring ...</td><td>ART_AND_DESIGN</td><td>4.6</td><td>4326</td><td>21.0</td><td>100,000+</td><td>Free</td><td>0</td><td>Everyone</td><td>Art &amp; Design</td><td>June 26, 2018</td><td>1.0.4</td><td>4.4 and up</td><td>Art &amp; Design</td></tr>\n",
              "<tr><td>14</td><td>3D Color Pixel by...</td><td>ART_AND_DESIGN</td><td>4.4</td><td>1518</td><td>37.0</td><td>100,000+</td><td>Free</td><td>0</td><td>Everyone</td><td>Art &amp; Design</td><td>August 3, 2018</td><td>1.2.3</td><td>2.3 and up</td><td>Art &amp; Design</td></tr>\n",
              "<tr><td>15</td><td>Learn To Draw Kaw...</td><td>ART_AND_DESIGN</td><td>3.2</td><td>55</td><td>2.7</td><td>5,000+</td><td>Free</td><td>0</td><td>Everyone</td><td>Art &amp; Design</td><td>June 6, 2018</td><td>NULL</td><td>4.2 and up</td><td>Art &amp; Design</td></tr>\n",
              "<tr><td>16</td><td>Photo Designer - ...</td><td>ART_AND_DESIGN</td><td>4.7</td><td>3632</td><td>5.5</td><td>500,000+</td><td>Free</td><td>0</td><td>Everyone</td><td>Art &amp; Design</td><td>July 31, 2018</td><td>3.1</td><td>4.1 and up</td><td>Art &amp; Design</td></tr>\n",
              "<tr><td>17</td><td>350 Diy Room Deco...</td><td>ART_AND_DESIGN</td><td>4.5</td><td>27</td><td>17.0</td><td>10,000+</td><td>Free</td><td>0</td><td>Everyone</td><td>Art &amp; Design</td><td>November 7, 2017</td><td>1</td><td>2.3 and up</td><td>Art &amp; Design</td></tr>\n",
              "<tr><td>18</td><td>FlipaClip - Carto...</td><td>ART_AND_DESIGN</td><td>4.3</td><td>194216</td><td>39.0</td><td>5,000,000+</td><td>Free</td><td>0</td><td>Everyone</td><td>Art &amp; Design</td><td>August 3, 2018</td><td>2.2.5</td><td>4.0.3 and up</td><td>Art &amp; Design</td></tr>\n",
              "<tr><td>19</td><td>ibis Paint X</td><td>ART_AND_DESIGN</td><td>4.6</td><td>224399</td><td>31.0</td><td>10,000,000+</td><td>Free</td><td>0</td><td>Everyone</td><td>Art &amp; Design</td><td>July 30, 2018</td><td>5.5.4</td><td>4.1 and up</td><td>Art &amp; Design</td></tr>\n",
              "</table>\n",
              "only showing top 20 rows\n"
            ]
          },
          "metadata": {}
        }
      ]
    },
    {
      "source": [
        "\n",
        "df = df.drop('splits')\n",
        "df.show()\n"
      ],
      "cell_type": "code",
      "metadata": {
        "id": "uuTFraYVU9JQ",
        "colab": {
          "base_uri": "https://localhost:8080/"
        },
        "outputId": "51d4c683-0c7c-436b-fa24-0356b485829a"
      },
      "execution_count": 34,
      "outputs": [
        {
          "output_type": "stream",
          "name": "stdout",
          "text": [
            "+---+--------------------+--------------+------+-------+----+-----------+----+-----+--------------+--------------------+------------------+------------------+------------+--------------+\n",
            "|_c0|                 App|      Category|Rating|Reviews|Size|   Installs|Type|Price|Content Rating|              Genres|      Last Updated|       Current Ver| Android Ver|PrimeiroGenero|\n",
            "+---+--------------------+--------------+------+-------+----+-----------+----+-----+--------------+--------------------+------------------+------------------+------------+--------------+\n",
            "|  0|Photo Editor & Ca...|ART_AND_DESIGN|   4.1|    159|19.0|    10,000+|Free|    0|      Everyone|        Art & Design|   January 7, 2018|             1.0.0|4.0.3 and up|  Art & Design|\n",
            "|  1| Coloring book moana|ART_AND_DESIGN|   3.9|    967|14.0|   500,000+|Free|    0|      Everyone|Art & Design;Pret...|  January 15, 2018|             2.0.0|4.0.3 and up|  Art & Design|\n",
            "|  2|U Launcher Lite –...|ART_AND_DESIGN|   4.7|  87510| 8.7| 5,000,000+|Free|    0|      Everyone|        Art & Design|    August 1, 2018|             1.2.4|4.0.3 and up|  Art & Design|\n",
            "|  3|Sketch - Draw & P...|ART_AND_DESIGN|   4.5| 215644|25.0|50,000,000+|Free|    0|          Teen|        Art & Design|      June 8, 2018|Varies with device|  4.2 and up|  Art & Design|\n",
            "|  4|Pixel Draw - Numb...|ART_AND_DESIGN|   4.3|    967| 2.8|   100,000+|Free|    0|      Everyone|Art & Design;Crea...|     June 20, 2018|               1.1|  4.4 and up|  Art & Design|\n",
            "|  5|Paper flowers ins...|ART_AND_DESIGN|   4.4|    167| 5.6|    50,000+|Free|    0|      Everyone|        Art & Design|    March 26, 2017|                 1|  2.3 and up|  Art & Design|\n",
            "|  6|Smoke Effect Phot...|ART_AND_DESIGN|   3.8|    178|19.0|    50,000+|Free|    0|      Everyone|        Art & Design|    April 26, 2018|               1.1|4.0.3 and up|  Art & Design|\n",
            "|  7|    Infinite Painter|ART_AND_DESIGN|   4.1|  36815|29.0| 1,000,000+|Free|    0|      Everyone|        Art & Design|     June 14, 2018|          6.1.61.1|  4.2 and up|  Art & Design|\n",
            "|  8|Garden Coloring Book|ART_AND_DESIGN|   4.4|  13791|33.0| 1,000,000+|Free|    0|      Everyone|        Art & Design|September 20, 2017|             2.9.2|  3.0 and up|  Art & Design|\n",
            "|  9|Kids Paint Free -...|ART_AND_DESIGN|   4.7|    121| 3.1|    10,000+|Free|    0|      Everyone|Art & Design;Crea...|      July 3, 2018|               2.8|4.0.3 and up|  Art & Design|\n",
            "| 10|Text on Photo - F...|ART_AND_DESIGN|   4.4|  13880|28.0| 1,000,000+|Free|    0|      Everyone|        Art & Design|  October 27, 2017|             1.0.4|  4.1 and up|  Art & Design|\n",
            "| 11|Name Art Photo Ed...|ART_AND_DESIGN|   4.4|   8788|12.0| 1,000,000+|Free|    0|      Everyone|        Art & Design|     July 31, 2018|            1.0.15|  4.0 and up|  Art & Design|\n",
            "| 12|Tattoo Name On My...|ART_AND_DESIGN|   4.2|  44829|20.0|10,000,000+|Free|    0|          Teen|        Art & Design|     April 2, 2018|               3.8|  4.1 and up|  Art & Design|\n",
            "| 13|Mandala Coloring ...|ART_AND_DESIGN|   4.6|   4326|21.0|   100,000+|Free|    0|      Everyone|        Art & Design|     June 26, 2018|             1.0.4|  4.4 and up|  Art & Design|\n",
            "| 14|3D Color Pixel by...|ART_AND_DESIGN|   4.4|   1518|37.0|   100,000+|Free|    0|      Everyone|        Art & Design|    August 3, 2018|             1.2.3|  2.3 and up|  Art & Design|\n",
            "| 15|Learn To Draw Kaw...|ART_AND_DESIGN|   3.2|     55| 2.7|     5,000+|Free|    0|      Everyone|        Art & Design|      June 6, 2018|              NULL|  4.2 and up|  Art & Design|\n",
            "| 16|Photo Designer - ...|ART_AND_DESIGN|   4.7|   3632| 5.5|   500,000+|Free|    0|      Everyone|        Art & Design|     July 31, 2018|               3.1|  4.1 and up|  Art & Design|\n",
            "| 17|350 Diy Room Deco...|ART_AND_DESIGN|   4.5|     27|17.0|    10,000+|Free|    0|      Everyone|        Art & Design|  November 7, 2017|                 1|  2.3 and up|  Art & Design|\n",
            "| 18|FlipaClip - Carto...|ART_AND_DESIGN|   4.3| 194216|39.0| 5,000,000+|Free|    0|      Everyone|        Art & Design|    August 3, 2018|             2.2.5|4.0.3 and up|  Art & Design|\n",
            "| 19|        ibis Paint X|ART_AND_DESIGN|   4.6| 224399|31.0|10,000,000+|Free|    0|      Everyone|        Art & Design|     July 30, 2018|             5.5.4|  4.1 and up|  Art & Design|\n",
            "+---+--------------------+--------------+------+-------+----+-----------+----+-----+--------------+--------------------+------------------+------------------+------------+--------------+\n",
            "only showing top 20 rows\n",
            "\n"
          ]
        }
      ]
    },
    {
      "cell_type": "code",
      "source": [
        "df.show()"
      ],
      "metadata": {
        "id": "lQacnCvBVCZA",
        "colab": {
          "base_uri": "https://localhost:8080/"
        },
        "outputId": "ef678bfc-dd15-4154-88da-6fefbb5eb5f5"
      },
      "execution_count": 35,
      "outputs": [
        {
          "output_type": "stream",
          "name": "stdout",
          "text": [
            "+---+--------------------+--------------+------+-------+----+-----------+----+-----+--------------+--------------------+------------------+------------------+------------+--------------+\n",
            "|_c0|                 App|      Category|Rating|Reviews|Size|   Installs|Type|Price|Content Rating|              Genres|      Last Updated|       Current Ver| Android Ver|PrimeiroGenero|\n",
            "+---+--------------------+--------------+------+-------+----+-----------+----+-----+--------------+--------------------+------------------+------------------+------------+--------------+\n",
            "|  0|Photo Editor & Ca...|ART_AND_DESIGN|   4.1|    159|19.0|    10,000+|Free|    0|      Everyone|        Art & Design|   January 7, 2018|             1.0.0|4.0.3 and up|  Art & Design|\n",
            "|  1| Coloring book moana|ART_AND_DESIGN|   3.9|    967|14.0|   500,000+|Free|    0|      Everyone|Art & Design;Pret...|  January 15, 2018|             2.0.0|4.0.3 and up|  Art & Design|\n",
            "|  2|U Launcher Lite –...|ART_AND_DESIGN|   4.7|  87510| 8.7| 5,000,000+|Free|    0|      Everyone|        Art & Design|    August 1, 2018|             1.2.4|4.0.3 and up|  Art & Design|\n",
            "|  3|Sketch - Draw & P...|ART_AND_DESIGN|   4.5| 215644|25.0|50,000,000+|Free|    0|          Teen|        Art & Design|      June 8, 2018|Varies with device|  4.2 and up|  Art & Design|\n",
            "|  4|Pixel Draw - Numb...|ART_AND_DESIGN|   4.3|    967| 2.8|   100,000+|Free|    0|      Everyone|Art & Design;Crea...|     June 20, 2018|               1.1|  4.4 and up|  Art & Design|\n",
            "|  5|Paper flowers ins...|ART_AND_DESIGN|   4.4|    167| 5.6|    50,000+|Free|    0|      Everyone|        Art & Design|    March 26, 2017|                 1|  2.3 and up|  Art & Design|\n",
            "|  6|Smoke Effect Phot...|ART_AND_DESIGN|   3.8|    178|19.0|    50,000+|Free|    0|      Everyone|        Art & Design|    April 26, 2018|               1.1|4.0.3 and up|  Art & Design|\n",
            "|  7|    Infinite Painter|ART_AND_DESIGN|   4.1|  36815|29.0| 1,000,000+|Free|    0|      Everyone|        Art & Design|     June 14, 2018|          6.1.61.1|  4.2 and up|  Art & Design|\n",
            "|  8|Garden Coloring Book|ART_AND_DESIGN|   4.4|  13791|33.0| 1,000,000+|Free|    0|      Everyone|        Art & Design|September 20, 2017|             2.9.2|  3.0 and up|  Art & Design|\n",
            "|  9|Kids Paint Free -...|ART_AND_DESIGN|   4.7|    121| 3.1|    10,000+|Free|    0|      Everyone|Art & Design;Crea...|      July 3, 2018|               2.8|4.0.3 and up|  Art & Design|\n",
            "| 10|Text on Photo - F...|ART_AND_DESIGN|   4.4|  13880|28.0| 1,000,000+|Free|    0|      Everyone|        Art & Design|  October 27, 2017|             1.0.4|  4.1 and up|  Art & Design|\n",
            "| 11|Name Art Photo Ed...|ART_AND_DESIGN|   4.4|   8788|12.0| 1,000,000+|Free|    0|      Everyone|        Art & Design|     July 31, 2018|            1.0.15|  4.0 and up|  Art & Design|\n",
            "| 12|Tattoo Name On My...|ART_AND_DESIGN|   4.2|  44829|20.0|10,000,000+|Free|    0|          Teen|        Art & Design|     April 2, 2018|               3.8|  4.1 and up|  Art & Design|\n",
            "| 13|Mandala Coloring ...|ART_AND_DESIGN|   4.6|   4326|21.0|   100,000+|Free|    0|      Everyone|        Art & Design|     June 26, 2018|             1.0.4|  4.4 and up|  Art & Design|\n",
            "| 14|3D Color Pixel by...|ART_AND_DESIGN|   4.4|   1518|37.0|   100,000+|Free|    0|      Everyone|        Art & Design|    August 3, 2018|             1.2.3|  2.3 and up|  Art & Design|\n",
            "| 15|Learn To Draw Kaw...|ART_AND_DESIGN|   3.2|     55| 2.7|     5,000+|Free|    0|      Everyone|        Art & Design|      June 6, 2018|              NULL|  4.2 and up|  Art & Design|\n",
            "| 16|Photo Designer - ...|ART_AND_DESIGN|   4.7|   3632| 5.5|   500,000+|Free|    0|      Everyone|        Art & Design|     July 31, 2018|               3.1|  4.1 and up|  Art & Design|\n",
            "| 17|350 Diy Room Deco...|ART_AND_DESIGN|   4.5|     27|17.0|    10,000+|Free|    0|      Everyone|        Art & Design|  November 7, 2017|                 1|  2.3 and up|  Art & Design|\n",
            "| 18|FlipaClip - Carto...|ART_AND_DESIGN|   4.3| 194216|39.0| 5,000,000+|Free|    0|      Everyone|        Art & Design|    August 3, 2018|             2.2.5|4.0.3 and up|  Art & Design|\n",
            "| 19|        ibis Paint X|ART_AND_DESIGN|   4.6| 224399|31.0|10,000,000+|Free|    0|      Everyone|        Art & Design|     July 30, 2018|             5.5.4|  4.1 and up|  Art & Design|\n",
            "+---+--------------------+--------------+------+-------+----+-----------+----+-----+--------------+--------------------+------------------+------------------+------------+--------------+\n",
            "only showing top 20 rows\n",
            "\n"
          ]
        }
      ]
    },
    {
      "cell_type": "code",
      "source": [
        "df.dtypes"
      ],
      "metadata": {
        "id": "Dc4EJd4dVE3r",
        "colab": {
          "base_uri": "https://localhost:8080/"
        },
        "outputId": "c799fde9-06d4-41f3-a901-1a0428179965"
      },
      "execution_count": 36,
      "outputs": [
        {
          "output_type": "execute_result",
          "data": {
            "text/plain": [
              "[('_c0', 'int'),\n",
              " ('App', 'string'),\n",
              " ('Category', 'string'),\n",
              " ('Rating', 'string'),\n",
              " ('Reviews', 'string'),\n",
              " ('Size', 'string'),\n",
              " ('Installs', 'string'),\n",
              " ('Type', 'string'),\n",
              " ('Price', 'string'),\n",
              " ('Content Rating', 'string'),\n",
              " ('Genres', 'string'),\n",
              " ('Last Updated', 'string'),\n",
              " ('Current Ver', 'string'),\n",
              " ('Android Ver', 'string'),\n",
              " ('PrimeiroGenero', 'string')]"
            ]
          },
          "metadata": {},
          "execution_count": 36
        }
      ]
    },
    {
      "cell_type": "code",
      "source": [
        "#df.withWatermark(\"LastUpdated\", \"10 minutes\").show()"
      ],
      "metadata": {
        "id": "PCiO3N3BVJbB"
      },
      "execution_count": 37,
      "outputs": []
    },
    {
      "cell_type": "code",
      "source": [
        "# Funcao para retorna o valor da aplicacao\n",
        "\n",
        "from pyspark.sql.functions import udf\n",
        "from pyspark.sql.types import StringType\n",
        "def simple_udf(value):\n",
        "  return f\"Aplicacao: {value}\"\n",
        "\n",
        "simple_udf_registered = udf(simple_udf, StringType())\n"
      ],
      "metadata": {
        "id": "QKMyA-mIVz9F"
      },
      "execution_count": 38,
      "outputs": []
    },
    {
      "cell_type": "code",
      "source": [
        "df = df.withColumn('Aplicacao', simple_udf_registered(col('App')))"
      ],
      "metadata": {
        "id": "afqewfFLVNHY"
      },
      "execution_count": 39,
      "outputs": []
    },
    {
      "cell_type": "code",
      "source": [
        "df.show()"
      ],
      "metadata": {
        "id": "EaE5RNmlWN7_",
        "colab": {
          "base_uri": "https://localhost:8080/"
        },
        "outputId": "c5c0c7cb-d470-41bb-8165-fc72ff33e102"
      },
      "execution_count": 40,
      "outputs": [
        {
          "output_type": "stream",
          "name": "stdout",
          "text": [
            "+---+--------------------+--------------+------+-------+----+-----------+----+-----+--------------+--------------------+------------------+------------------+------------+--------------+--------------------+\n",
            "|_c0|                 App|      Category|Rating|Reviews|Size|   Installs|Type|Price|Content Rating|              Genres|      Last Updated|       Current Ver| Android Ver|PrimeiroGenero|           Aplicacao|\n",
            "+---+--------------------+--------------+------+-------+----+-----------+----+-----+--------------+--------------------+------------------+------------------+------------+--------------+--------------------+\n",
            "|  0|Photo Editor & Ca...|ART_AND_DESIGN|   4.1|    159|19.0|    10,000+|Free|    0|      Everyone|        Art & Design|   January 7, 2018|             1.0.0|4.0.3 and up|  Art & Design|Aplicacao: Photo ...|\n",
            "|  1| Coloring book moana|ART_AND_DESIGN|   3.9|    967|14.0|   500,000+|Free|    0|      Everyone|Art & Design;Pret...|  January 15, 2018|             2.0.0|4.0.3 and up|  Art & Design|Aplicacao: Colori...|\n",
            "|  2|U Launcher Lite –...|ART_AND_DESIGN|   4.7|  87510| 8.7| 5,000,000+|Free|    0|      Everyone|        Art & Design|    August 1, 2018|             1.2.4|4.0.3 and up|  Art & Design|Aplicacao: U Laun...|\n",
            "|  3|Sketch - Draw & P...|ART_AND_DESIGN|   4.5| 215644|25.0|50,000,000+|Free|    0|          Teen|        Art & Design|      June 8, 2018|Varies with device|  4.2 and up|  Art & Design|Aplicacao: Sketch...|\n",
            "|  4|Pixel Draw - Numb...|ART_AND_DESIGN|   4.3|    967| 2.8|   100,000+|Free|    0|      Everyone|Art & Design;Crea...|     June 20, 2018|               1.1|  4.4 and up|  Art & Design|Aplicacao: Pixel ...|\n",
            "|  5|Paper flowers ins...|ART_AND_DESIGN|   4.4|    167| 5.6|    50,000+|Free|    0|      Everyone|        Art & Design|    March 26, 2017|                 1|  2.3 and up|  Art & Design|Aplicacao: Paper ...|\n",
            "|  6|Smoke Effect Phot...|ART_AND_DESIGN|   3.8|    178|19.0|    50,000+|Free|    0|      Everyone|        Art & Design|    April 26, 2018|               1.1|4.0.3 and up|  Art & Design|Aplicacao: Smoke ...|\n",
            "|  7|    Infinite Painter|ART_AND_DESIGN|   4.1|  36815|29.0| 1,000,000+|Free|    0|      Everyone|        Art & Design|     June 14, 2018|          6.1.61.1|  4.2 and up|  Art & Design|Aplicacao: Infini...|\n",
            "|  8|Garden Coloring Book|ART_AND_DESIGN|   4.4|  13791|33.0| 1,000,000+|Free|    0|      Everyone|        Art & Design|September 20, 2017|             2.9.2|  3.0 and up|  Art & Design|Aplicacao: Garden...|\n",
            "|  9|Kids Paint Free -...|ART_AND_DESIGN|   4.7|    121| 3.1|    10,000+|Free|    0|      Everyone|Art & Design;Crea...|      July 3, 2018|               2.8|4.0.3 and up|  Art & Design|Aplicacao: Kids P...|\n",
            "| 10|Text on Photo - F...|ART_AND_DESIGN|   4.4|  13880|28.0| 1,000,000+|Free|    0|      Everyone|        Art & Design|  October 27, 2017|             1.0.4|  4.1 and up|  Art & Design|Aplicacao: Text o...|\n",
            "| 11|Name Art Photo Ed...|ART_AND_DESIGN|   4.4|   8788|12.0| 1,000,000+|Free|    0|      Everyone|        Art & Design|     July 31, 2018|            1.0.15|  4.0 and up|  Art & Design|Aplicacao: Name A...|\n",
            "| 12|Tattoo Name On My...|ART_AND_DESIGN|   4.2|  44829|20.0|10,000,000+|Free|    0|          Teen|        Art & Design|     April 2, 2018|               3.8|  4.1 and up|  Art & Design|Aplicacao: Tattoo...|\n",
            "| 13|Mandala Coloring ...|ART_AND_DESIGN|   4.6|   4326|21.0|   100,000+|Free|    0|      Everyone|        Art & Design|     June 26, 2018|             1.0.4|  4.4 and up|  Art & Design|Aplicacao: Mandal...|\n",
            "| 14|3D Color Pixel by...|ART_AND_DESIGN|   4.4|   1518|37.0|   100,000+|Free|    0|      Everyone|        Art & Design|    August 3, 2018|             1.2.3|  2.3 and up|  Art & Design|Aplicacao: 3D Col...|\n",
            "| 15|Learn To Draw Kaw...|ART_AND_DESIGN|   3.2|     55| 2.7|     5,000+|Free|    0|      Everyone|        Art & Design|      June 6, 2018|              NULL|  4.2 and up|  Art & Design|Aplicacao: Learn ...|\n",
            "| 16|Photo Designer - ...|ART_AND_DESIGN|   4.7|   3632| 5.5|   500,000+|Free|    0|      Everyone|        Art & Design|     July 31, 2018|               3.1|  4.1 and up|  Art & Design|Aplicacao: Photo ...|\n",
            "| 17|350 Diy Room Deco...|ART_AND_DESIGN|   4.5|     27|17.0|    10,000+|Free|    0|      Everyone|        Art & Design|  November 7, 2017|                 1|  2.3 and up|  Art & Design|Aplicacao: 350 Di...|\n",
            "| 18|FlipaClip - Carto...|ART_AND_DESIGN|   4.3| 194216|39.0| 5,000,000+|Free|    0|      Everyone|        Art & Design|    August 3, 2018|             2.2.5|4.0.3 and up|  Art & Design|Aplicacao: FlipaC...|\n",
            "| 19|        ibis Paint X|ART_AND_DESIGN|   4.6| 224399|31.0|10,000,000+|Free|    0|      Everyone|        Art & Design|     July 30, 2018|             5.5.4|  4.1 and up|  Art & Design|Aplicacao: ibis P...|\n",
            "+---+--------------------+--------------+------+-------+----+-----------+----+-----+--------------+--------------------+------------------+------------------+------------+--------------+--------------------+\n",
            "only showing top 20 rows\n",
            "\n"
          ]
        }
      ]
    },
    {
      "cell_type": "code",
      "source": [
        "df = df.drop('App')"
      ],
      "metadata": {
        "id": "uFau0tZ0Wmw2"
      },
      "execution_count": 41,
      "outputs": []
    },
    {
      "cell_type": "code",
      "source": [
        "df.show()"
      ],
      "metadata": {
        "id": "umKLGw_WWpzR",
        "colab": {
          "base_uri": "https://localhost:8080/"
        },
        "outputId": "ac05e208-5b60-422f-d6c9-10cc5e1fb6ae"
      },
      "execution_count": 42,
      "outputs": [
        {
          "output_type": "stream",
          "name": "stdout",
          "text": [
            "+---+--------------+------+-------+----+-----------+----+-----+--------------+--------------------+------------------+------------------+------------+--------------+--------------------+\n",
            "|_c0|      Category|Rating|Reviews|Size|   Installs|Type|Price|Content Rating|              Genres|      Last Updated|       Current Ver| Android Ver|PrimeiroGenero|           Aplicacao|\n",
            "+---+--------------+------+-------+----+-----------+----+-----+--------------+--------------------+------------------+------------------+------------+--------------+--------------------+\n",
            "|  0|ART_AND_DESIGN|   4.1|    159|19.0|    10,000+|Free|    0|      Everyone|        Art & Design|   January 7, 2018|             1.0.0|4.0.3 and up|  Art & Design|Aplicacao: Photo ...|\n",
            "|  1|ART_AND_DESIGN|   3.9|    967|14.0|   500,000+|Free|    0|      Everyone|Art & Design;Pret...|  January 15, 2018|             2.0.0|4.0.3 and up|  Art & Design|Aplicacao: Colori...|\n",
            "|  2|ART_AND_DESIGN|   4.7|  87510| 8.7| 5,000,000+|Free|    0|      Everyone|        Art & Design|    August 1, 2018|             1.2.4|4.0.3 and up|  Art & Design|Aplicacao: U Laun...|\n",
            "|  3|ART_AND_DESIGN|   4.5| 215644|25.0|50,000,000+|Free|    0|          Teen|        Art & Design|      June 8, 2018|Varies with device|  4.2 and up|  Art & Design|Aplicacao: Sketch...|\n",
            "|  4|ART_AND_DESIGN|   4.3|    967| 2.8|   100,000+|Free|    0|      Everyone|Art & Design;Crea...|     June 20, 2018|               1.1|  4.4 and up|  Art & Design|Aplicacao: Pixel ...|\n",
            "|  5|ART_AND_DESIGN|   4.4|    167| 5.6|    50,000+|Free|    0|      Everyone|        Art & Design|    March 26, 2017|                 1|  2.3 and up|  Art & Design|Aplicacao: Paper ...|\n",
            "|  6|ART_AND_DESIGN|   3.8|    178|19.0|    50,000+|Free|    0|      Everyone|        Art & Design|    April 26, 2018|               1.1|4.0.3 and up|  Art & Design|Aplicacao: Smoke ...|\n",
            "|  7|ART_AND_DESIGN|   4.1|  36815|29.0| 1,000,000+|Free|    0|      Everyone|        Art & Design|     June 14, 2018|          6.1.61.1|  4.2 and up|  Art & Design|Aplicacao: Infini...|\n",
            "|  8|ART_AND_DESIGN|   4.4|  13791|33.0| 1,000,000+|Free|    0|      Everyone|        Art & Design|September 20, 2017|             2.9.2|  3.0 and up|  Art & Design|Aplicacao: Garden...|\n",
            "|  9|ART_AND_DESIGN|   4.7|    121| 3.1|    10,000+|Free|    0|      Everyone|Art & Design;Crea...|      July 3, 2018|               2.8|4.0.3 and up|  Art & Design|Aplicacao: Kids P...|\n",
            "| 10|ART_AND_DESIGN|   4.4|  13880|28.0| 1,000,000+|Free|    0|      Everyone|        Art & Design|  October 27, 2017|             1.0.4|  4.1 and up|  Art & Design|Aplicacao: Text o...|\n",
            "| 11|ART_AND_DESIGN|   4.4|   8788|12.0| 1,000,000+|Free|    0|      Everyone|        Art & Design|     July 31, 2018|            1.0.15|  4.0 and up|  Art & Design|Aplicacao: Name A...|\n",
            "| 12|ART_AND_DESIGN|   4.2|  44829|20.0|10,000,000+|Free|    0|          Teen|        Art & Design|     April 2, 2018|               3.8|  4.1 and up|  Art & Design|Aplicacao: Tattoo...|\n",
            "| 13|ART_AND_DESIGN|   4.6|   4326|21.0|   100,000+|Free|    0|      Everyone|        Art & Design|     June 26, 2018|             1.0.4|  4.4 and up|  Art & Design|Aplicacao: Mandal...|\n",
            "| 14|ART_AND_DESIGN|   4.4|   1518|37.0|   100,000+|Free|    0|      Everyone|        Art & Design|    August 3, 2018|             1.2.3|  2.3 and up|  Art & Design|Aplicacao: 3D Col...|\n",
            "| 15|ART_AND_DESIGN|   3.2|     55| 2.7|     5,000+|Free|    0|      Everyone|        Art & Design|      June 6, 2018|              NULL|  4.2 and up|  Art & Design|Aplicacao: Learn ...|\n",
            "| 16|ART_AND_DESIGN|   4.7|   3632| 5.5|   500,000+|Free|    0|      Everyone|        Art & Design|     July 31, 2018|               3.1|  4.1 and up|  Art & Design|Aplicacao: Photo ...|\n",
            "| 17|ART_AND_DESIGN|   4.5|     27|17.0|    10,000+|Free|    0|      Everyone|        Art & Design|  November 7, 2017|                 1|  2.3 and up|  Art & Design|Aplicacao: 350 Di...|\n",
            "| 18|ART_AND_DESIGN|   4.3| 194216|39.0| 5,000,000+|Free|    0|      Everyone|        Art & Design|    August 3, 2018|             2.2.5|4.0.3 and up|  Art & Design|Aplicacao: FlipaC...|\n",
            "| 19|ART_AND_DESIGN|   4.6| 224399|31.0|10,000,000+|Free|    0|      Everyone|        Art & Design|     July 30, 2018|             5.5.4|  4.1 and up|  Art & Design|Aplicacao: ibis P...|\n",
            "+---+--------------+------+-------+----+-----------+----+-----+--------------+--------------------+------------------+------------------+------------+--------------+--------------------+\n",
            "only showing top 20 rows\n",
            "\n"
          ]
        }
      ]
    },
    {
      "cell_type": "code",
      "source": [
        "\n",
        "\n",
        "# Imprime o esquema com os tipos inferidos\n",
        "df.printSchema()"
      ],
      "metadata": {
        "id": "puKSjqKYWsQ_",
        "colab": {
          "base_uri": "https://localhost:8080/"
        },
        "outputId": "034ee773-4e15-44b8-c691-e9908a3def10"
      },
      "execution_count": 43,
      "outputs": [
        {
          "output_type": "stream",
          "name": "stdout",
          "text": [
            "root\n",
            " |-- _c0: integer (nullable = true)\n",
            " |-- Category: string (nullable = true)\n",
            " |-- Rating: string (nullable = true)\n",
            " |-- Reviews: string (nullable = true)\n",
            " |-- Size: string (nullable = true)\n",
            " |-- Installs: string (nullable = true)\n",
            " |-- Type: string (nullable = true)\n",
            " |-- Price: string (nullable = true)\n",
            " |-- Content Rating: string (nullable = true)\n",
            " |-- Genres: string (nullable = true)\n",
            " |-- Last Updated: string (nullable = true)\n",
            " |-- Current Ver: string (nullable = true)\n",
            " |-- Android Ver: string (nullable = true)\n",
            " |-- PrimeiroGenero: string (nullable = true)\n",
            " |-- Aplicacao: string (nullable = true)\n",
            "\n"
          ]
        }
      ]
    },
    {
      "source": [
        "\n",
        "\n",
        "df = df.withColumn('LastUpdated', F.to_date(col('Last Updated'), 'MMMM d, yyyy'))\n",
        "df.show()\n",
        "df.printSchema()"
      ],
      "cell_type": "code",
      "metadata": {
        "id": "zXAJeStlXLP-",
        "colab": {
          "base_uri": "https://localhost:8080/"
        },
        "outputId": "ce123417-ce8a-4787-ec3e-be786256f54f"
      },
      "execution_count": 44,
      "outputs": [
        {
          "output_type": "stream",
          "name": "stdout",
          "text": [
            "+---+--------------+------+-------+----+-----------+----+-----+--------------+--------------------+------------------+------------------+------------+--------------+--------------------+-----------+\n",
            "|_c0|      Category|Rating|Reviews|Size|   Installs|Type|Price|Content Rating|              Genres|      Last Updated|       Current Ver| Android Ver|PrimeiroGenero|           Aplicacao|LastUpdated|\n",
            "+---+--------------+------+-------+----+-----------+----+-----+--------------+--------------------+------------------+------------------+------------+--------------+--------------------+-----------+\n",
            "|  0|ART_AND_DESIGN|   4.1|    159|19.0|    10,000+|Free|    0|      Everyone|        Art & Design|   January 7, 2018|             1.0.0|4.0.3 and up|  Art & Design|Aplicacao: Photo ...| 2018-01-07|\n",
            "|  1|ART_AND_DESIGN|   3.9|    967|14.0|   500,000+|Free|    0|      Everyone|Art & Design;Pret...|  January 15, 2018|             2.0.0|4.0.3 and up|  Art & Design|Aplicacao: Colori...| 2018-01-15|\n",
            "|  2|ART_AND_DESIGN|   4.7|  87510| 8.7| 5,000,000+|Free|    0|      Everyone|        Art & Design|    August 1, 2018|             1.2.4|4.0.3 and up|  Art & Design|Aplicacao: U Laun...| 2018-08-01|\n",
            "|  3|ART_AND_DESIGN|   4.5| 215644|25.0|50,000,000+|Free|    0|          Teen|        Art & Design|      June 8, 2018|Varies with device|  4.2 and up|  Art & Design|Aplicacao: Sketch...| 2018-06-08|\n",
            "|  4|ART_AND_DESIGN|   4.3|    967| 2.8|   100,000+|Free|    0|      Everyone|Art & Design;Crea...|     June 20, 2018|               1.1|  4.4 and up|  Art & Design|Aplicacao: Pixel ...| 2018-06-20|\n",
            "|  5|ART_AND_DESIGN|   4.4|    167| 5.6|    50,000+|Free|    0|      Everyone|        Art & Design|    March 26, 2017|                 1|  2.3 and up|  Art & Design|Aplicacao: Paper ...| 2017-03-26|\n",
            "|  6|ART_AND_DESIGN|   3.8|    178|19.0|    50,000+|Free|    0|      Everyone|        Art & Design|    April 26, 2018|               1.1|4.0.3 and up|  Art & Design|Aplicacao: Smoke ...| 2018-04-26|\n",
            "|  7|ART_AND_DESIGN|   4.1|  36815|29.0| 1,000,000+|Free|    0|      Everyone|        Art & Design|     June 14, 2018|          6.1.61.1|  4.2 and up|  Art & Design|Aplicacao: Infini...| 2018-06-14|\n",
            "|  8|ART_AND_DESIGN|   4.4|  13791|33.0| 1,000,000+|Free|    0|      Everyone|        Art & Design|September 20, 2017|             2.9.2|  3.0 and up|  Art & Design|Aplicacao: Garden...| 2017-09-20|\n",
            "|  9|ART_AND_DESIGN|   4.7|    121| 3.1|    10,000+|Free|    0|      Everyone|Art & Design;Crea...|      July 3, 2018|               2.8|4.0.3 and up|  Art & Design|Aplicacao: Kids P...| 2018-07-03|\n",
            "| 10|ART_AND_DESIGN|   4.4|  13880|28.0| 1,000,000+|Free|    0|      Everyone|        Art & Design|  October 27, 2017|             1.0.4|  4.1 and up|  Art & Design|Aplicacao: Text o...| 2017-10-27|\n",
            "| 11|ART_AND_DESIGN|   4.4|   8788|12.0| 1,000,000+|Free|    0|      Everyone|        Art & Design|     July 31, 2018|            1.0.15|  4.0 and up|  Art & Design|Aplicacao: Name A...| 2018-07-31|\n",
            "| 12|ART_AND_DESIGN|   4.2|  44829|20.0|10,000,000+|Free|    0|          Teen|        Art & Design|     April 2, 2018|               3.8|  4.1 and up|  Art & Design|Aplicacao: Tattoo...| 2018-04-02|\n",
            "| 13|ART_AND_DESIGN|   4.6|   4326|21.0|   100,000+|Free|    0|      Everyone|        Art & Design|     June 26, 2018|             1.0.4|  4.4 and up|  Art & Design|Aplicacao: Mandal...| 2018-06-26|\n",
            "| 14|ART_AND_DESIGN|   4.4|   1518|37.0|   100,000+|Free|    0|      Everyone|        Art & Design|    August 3, 2018|             1.2.3|  2.3 and up|  Art & Design|Aplicacao: 3D Col...| 2018-08-03|\n",
            "| 15|ART_AND_DESIGN|   3.2|     55| 2.7|     5,000+|Free|    0|      Everyone|        Art & Design|      June 6, 2018|              NULL|  4.2 and up|  Art & Design|Aplicacao: Learn ...| 2018-06-06|\n",
            "| 16|ART_AND_DESIGN|   4.7|   3632| 5.5|   500,000+|Free|    0|      Everyone|        Art & Design|     July 31, 2018|               3.1|  4.1 and up|  Art & Design|Aplicacao: Photo ...| 2018-07-31|\n",
            "| 17|ART_AND_DESIGN|   4.5|     27|17.0|    10,000+|Free|    0|      Everyone|        Art & Design|  November 7, 2017|                 1|  2.3 and up|  Art & Design|Aplicacao: 350 Di...| 2017-11-07|\n",
            "| 18|ART_AND_DESIGN|   4.3| 194216|39.0| 5,000,000+|Free|    0|      Everyone|        Art & Design|    August 3, 2018|             2.2.5|4.0.3 and up|  Art & Design|Aplicacao: FlipaC...| 2018-08-03|\n",
            "| 19|ART_AND_DESIGN|   4.6| 224399|31.0|10,000,000+|Free|    0|      Everyone|        Art & Design|     July 30, 2018|             5.5.4|  4.1 and up|  Art & Design|Aplicacao: ibis P...| 2018-07-30|\n",
            "+---+--------------+------+-------+----+-----------+----+-----+--------------+--------------------+------------------+------------------+------------+--------------+--------------------+-----------+\n",
            "only showing top 20 rows\n",
            "\n",
            "root\n",
            " |-- _c0: integer (nullable = true)\n",
            " |-- Category: string (nullable = true)\n",
            " |-- Rating: string (nullable = true)\n",
            " |-- Reviews: string (nullable = true)\n",
            " |-- Size: string (nullable = true)\n",
            " |-- Installs: string (nullable = true)\n",
            " |-- Type: string (nullable = true)\n",
            " |-- Price: string (nullable = true)\n",
            " |-- Content Rating: string (nullable = true)\n",
            " |-- Genres: string (nullable = true)\n",
            " |-- Last Updated: string (nullable = true)\n",
            " |-- Current Ver: string (nullable = true)\n",
            " |-- Android Ver: string (nullable = true)\n",
            " |-- PrimeiroGenero: string (nullable = true)\n",
            " |-- Aplicacao: string (nullable = true)\n",
            " |-- LastUpdated: date (nullable = true)\n",
            "\n"
          ]
        }
      ]
    },
    {
      "cell_type": "code",
      "source": [
        "from pyspark.sql.functions import to_date, to_timestamp\n",
        "# prompt: Last Updated cast convert\n",
        "df = df.withColumn(\"LastUpdated\", to_date(col(\"LastUpdated\"), \"yyyy-MM-dd\"))\n",
        "\n",
        "df.show()\n",
        "df.printSchema()"
      ],
      "metadata": {
        "id": "ZMjwPjfpXSMY",
        "colab": {
          "base_uri": "https://localhost:8080/"
        },
        "outputId": "1d1fb874-ae6a-459a-8428-aa758725f55a"
      },
      "execution_count": 45,
      "outputs": [
        {
          "output_type": "stream",
          "name": "stdout",
          "text": [
            "+---+--------------+------+-------+----+-----------+----+-----+--------------+--------------------+------------------+------------------+------------+--------------+--------------------+-----------+\n",
            "|_c0|      Category|Rating|Reviews|Size|   Installs|Type|Price|Content Rating|              Genres|      Last Updated|       Current Ver| Android Ver|PrimeiroGenero|           Aplicacao|LastUpdated|\n",
            "+---+--------------+------+-------+----+-----------+----+-----+--------------+--------------------+------------------+------------------+------------+--------------+--------------------+-----------+\n",
            "|  0|ART_AND_DESIGN|   4.1|    159|19.0|    10,000+|Free|    0|      Everyone|        Art & Design|   January 7, 2018|             1.0.0|4.0.3 and up|  Art & Design|Aplicacao: Photo ...| 2018-01-07|\n",
            "|  1|ART_AND_DESIGN|   3.9|    967|14.0|   500,000+|Free|    0|      Everyone|Art & Design;Pret...|  January 15, 2018|             2.0.0|4.0.3 and up|  Art & Design|Aplicacao: Colori...| 2018-01-15|\n",
            "|  2|ART_AND_DESIGN|   4.7|  87510| 8.7| 5,000,000+|Free|    0|      Everyone|        Art & Design|    August 1, 2018|             1.2.4|4.0.3 and up|  Art & Design|Aplicacao: U Laun...| 2018-08-01|\n",
            "|  3|ART_AND_DESIGN|   4.5| 215644|25.0|50,000,000+|Free|    0|          Teen|        Art & Design|      June 8, 2018|Varies with device|  4.2 and up|  Art & Design|Aplicacao: Sketch...| 2018-06-08|\n",
            "|  4|ART_AND_DESIGN|   4.3|    967| 2.8|   100,000+|Free|    0|      Everyone|Art & Design;Crea...|     June 20, 2018|               1.1|  4.4 and up|  Art & Design|Aplicacao: Pixel ...| 2018-06-20|\n",
            "|  5|ART_AND_DESIGN|   4.4|    167| 5.6|    50,000+|Free|    0|      Everyone|        Art & Design|    March 26, 2017|                 1|  2.3 and up|  Art & Design|Aplicacao: Paper ...| 2017-03-26|\n",
            "|  6|ART_AND_DESIGN|   3.8|    178|19.0|    50,000+|Free|    0|      Everyone|        Art & Design|    April 26, 2018|               1.1|4.0.3 and up|  Art & Design|Aplicacao: Smoke ...| 2018-04-26|\n",
            "|  7|ART_AND_DESIGN|   4.1|  36815|29.0| 1,000,000+|Free|    0|      Everyone|        Art & Design|     June 14, 2018|          6.1.61.1|  4.2 and up|  Art & Design|Aplicacao: Infini...| 2018-06-14|\n",
            "|  8|ART_AND_DESIGN|   4.4|  13791|33.0| 1,000,000+|Free|    0|      Everyone|        Art & Design|September 20, 2017|             2.9.2|  3.0 and up|  Art & Design|Aplicacao: Garden...| 2017-09-20|\n",
            "|  9|ART_AND_DESIGN|   4.7|    121| 3.1|    10,000+|Free|    0|      Everyone|Art & Design;Crea...|      July 3, 2018|               2.8|4.0.3 and up|  Art & Design|Aplicacao: Kids P...| 2018-07-03|\n",
            "| 10|ART_AND_DESIGN|   4.4|  13880|28.0| 1,000,000+|Free|    0|      Everyone|        Art & Design|  October 27, 2017|             1.0.4|  4.1 and up|  Art & Design|Aplicacao: Text o...| 2017-10-27|\n",
            "| 11|ART_AND_DESIGN|   4.4|   8788|12.0| 1,000,000+|Free|    0|      Everyone|        Art & Design|     July 31, 2018|            1.0.15|  4.0 and up|  Art & Design|Aplicacao: Name A...| 2018-07-31|\n",
            "| 12|ART_AND_DESIGN|   4.2|  44829|20.0|10,000,000+|Free|    0|          Teen|        Art & Design|     April 2, 2018|               3.8|  4.1 and up|  Art & Design|Aplicacao: Tattoo...| 2018-04-02|\n",
            "| 13|ART_AND_DESIGN|   4.6|   4326|21.0|   100,000+|Free|    0|      Everyone|        Art & Design|     June 26, 2018|             1.0.4|  4.4 and up|  Art & Design|Aplicacao: Mandal...| 2018-06-26|\n",
            "| 14|ART_AND_DESIGN|   4.4|   1518|37.0|   100,000+|Free|    0|      Everyone|        Art & Design|    August 3, 2018|             1.2.3|  2.3 and up|  Art & Design|Aplicacao: 3D Col...| 2018-08-03|\n",
            "| 15|ART_AND_DESIGN|   3.2|     55| 2.7|     5,000+|Free|    0|      Everyone|        Art & Design|      June 6, 2018|              NULL|  4.2 and up|  Art & Design|Aplicacao: Learn ...| 2018-06-06|\n",
            "| 16|ART_AND_DESIGN|   4.7|   3632| 5.5|   500,000+|Free|    0|      Everyone|        Art & Design|     July 31, 2018|               3.1|  4.1 and up|  Art & Design|Aplicacao: Photo ...| 2018-07-31|\n",
            "| 17|ART_AND_DESIGN|   4.5|     27|17.0|    10,000+|Free|    0|      Everyone|        Art & Design|  November 7, 2017|                 1|  2.3 and up|  Art & Design|Aplicacao: 350 Di...| 2017-11-07|\n",
            "| 18|ART_AND_DESIGN|   4.3| 194216|39.0| 5,000,000+|Free|    0|      Everyone|        Art & Design|    August 3, 2018|             2.2.5|4.0.3 and up|  Art & Design|Aplicacao: FlipaC...| 2018-08-03|\n",
            "| 19|ART_AND_DESIGN|   4.6| 224399|31.0|10,000,000+|Free|    0|      Everyone|        Art & Design|     July 30, 2018|             5.5.4|  4.1 and up|  Art & Design|Aplicacao: ibis P...| 2018-07-30|\n",
            "+---+--------------+------+-------+----+-----------+----+-----+--------------+--------------------+------------------+------------------+------------+--------------+--------------------+-----------+\n",
            "only showing top 20 rows\n",
            "\n",
            "root\n",
            " |-- _c0: integer (nullable = true)\n",
            " |-- Category: string (nullable = true)\n",
            " |-- Rating: string (nullable = true)\n",
            " |-- Reviews: string (nullable = true)\n",
            " |-- Size: string (nullable = true)\n",
            " |-- Installs: string (nullable = true)\n",
            " |-- Type: string (nullable = true)\n",
            " |-- Price: string (nullable = true)\n",
            " |-- Content Rating: string (nullable = true)\n",
            " |-- Genres: string (nullable = true)\n",
            " |-- Last Updated: string (nullable = true)\n",
            " |-- Current Ver: string (nullable = true)\n",
            " |-- Android Ver: string (nullable = true)\n",
            " |-- PrimeiroGenero: string (nullable = true)\n",
            " |-- Aplicacao: string (nullable = true)\n",
            " |-- LastUpdated: date (nullable = true)\n",
            "\n"
          ]
        }
      ]
    },
    {
      "cell_type": "code",
      "source": [
        "\n",
        "from unidecode import unidecode\n",
        "def remove_accents_udf(text):\n",
        "    if text is not None:\n",
        "        return unidecode(text)\n",
        "    return None\n",
        "remove_accents_udf_registered = udf(remove_accents_udf, StringType())\n",
        "df = df.withColumn('PrimeiroGenero', remove_accents_udf_registered(col('PrimeiroGenero')))\n",
        "df.show()"
      ],
      "metadata": {
        "id": "2HL3EJ0EYw0a",
        "colab": {
          "base_uri": "https://localhost:8080/"
        },
        "outputId": "561d4b23-7c77-4938-b241-900a190516fc"
      },
      "execution_count": 46,
      "outputs": [
        {
          "output_type": "stream",
          "name": "stdout",
          "text": [
            "+---+--------------+------+-------+----+-----------+----+-----+--------------+--------------------+------------------+------------------+------------+--------------+--------------------+-----------+\n",
            "|_c0|      Category|Rating|Reviews|Size|   Installs|Type|Price|Content Rating|              Genres|      Last Updated|       Current Ver| Android Ver|PrimeiroGenero|           Aplicacao|LastUpdated|\n",
            "+---+--------------+------+-------+----+-----------+----+-----+--------------+--------------------+------------------+------------------+------------+--------------+--------------------+-----------+\n",
            "|  0|ART_AND_DESIGN|   4.1|    159|19.0|    10,000+|Free|    0|      Everyone|        Art & Design|   January 7, 2018|             1.0.0|4.0.3 and up|  Art & Design|Aplicacao: Photo ...| 2018-01-07|\n",
            "|  1|ART_AND_DESIGN|   3.9|    967|14.0|   500,000+|Free|    0|      Everyone|Art & Design;Pret...|  January 15, 2018|             2.0.0|4.0.3 and up|  Art & Design|Aplicacao: Colori...| 2018-01-15|\n",
            "|  2|ART_AND_DESIGN|   4.7|  87510| 8.7| 5,000,000+|Free|    0|      Everyone|        Art & Design|    August 1, 2018|             1.2.4|4.0.3 and up|  Art & Design|Aplicacao: U Laun...| 2018-08-01|\n",
            "|  3|ART_AND_DESIGN|   4.5| 215644|25.0|50,000,000+|Free|    0|          Teen|        Art & Design|      June 8, 2018|Varies with device|  4.2 and up|  Art & Design|Aplicacao: Sketch...| 2018-06-08|\n",
            "|  4|ART_AND_DESIGN|   4.3|    967| 2.8|   100,000+|Free|    0|      Everyone|Art & Design;Crea...|     June 20, 2018|               1.1|  4.4 and up|  Art & Design|Aplicacao: Pixel ...| 2018-06-20|\n",
            "|  5|ART_AND_DESIGN|   4.4|    167| 5.6|    50,000+|Free|    0|      Everyone|        Art & Design|    March 26, 2017|                 1|  2.3 and up|  Art & Design|Aplicacao: Paper ...| 2017-03-26|\n",
            "|  6|ART_AND_DESIGN|   3.8|    178|19.0|    50,000+|Free|    0|      Everyone|        Art & Design|    April 26, 2018|               1.1|4.0.3 and up|  Art & Design|Aplicacao: Smoke ...| 2018-04-26|\n",
            "|  7|ART_AND_DESIGN|   4.1|  36815|29.0| 1,000,000+|Free|    0|      Everyone|        Art & Design|     June 14, 2018|          6.1.61.1|  4.2 and up|  Art & Design|Aplicacao: Infini...| 2018-06-14|\n",
            "|  8|ART_AND_DESIGN|   4.4|  13791|33.0| 1,000,000+|Free|    0|      Everyone|        Art & Design|September 20, 2017|             2.9.2|  3.0 and up|  Art & Design|Aplicacao: Garden...| 2017-09-20|\n",
            "|  9|ART_AND_DESIGN|   4.7|    121| 3.1|    10,000+|Free|    0|      Everyone|Art & Design;Crea...|      July 3, 2018|               2.8|4.0.3 and up|  Art & Design|Aplicacao: Kids P...| 2018-07-03|\n",
            "| 10|ART_AND_DESIGN|   4.4|  13880|28.0| 1,000,000+|Free|    0|      Everyone|        Art & Design|  October 27, 2017|             1.0.4|  4.1 and up|  Art & Design|Aplicacao: Text o...| 2017-10-27|\n",
            "| 11|ART_AND_DESIGN|   4.4|   8788|12.0| 1,000,000+|Free|    0|      Everyone|        Art & Design|     July 31, 2018|            1.0.15|  4.0 and up|  Art & Design|Aplicacao: Name A...| 2018-07-31|\n",
            "| 12|ART_AND_DESIGN|   4.2|  44829|20.0|10,000,000+|Free|    0|          Teen|        Art & Design|     April 2, 2018|               3.8|  4.1 and up|  Art & Design|Aplicacao: Tattoo...| 2018-04-02|\n",
            "| 13|ART_AND_DESIGN|   4.6|   4326|21.0|   100,000+|Free|    0|      Everyone|        Art & Design|     June 26, 2018|             1.0.4|  4.4 and up|  Art & Design|Aplicacao: Mandal...| 2018-06-26|\n",
            "| 14|ART_AND_DESIGN|   4.4|   1518|37.0|   100,000+|Free|    0|      Everyone|        Art & Design|    August 3, 2018|             1.2.3|  2.3 and up|  Art & Design|Aplicacao: 3D Col...| 2018-08-03|\n",
            "| 15|ART_AND_DESIGN|   3.2|     55| 2.7|     5,000+|Free|    0|      Everyone|        Art & Design|      June 6, 2018|              NULL|  4.2 and up|  Art & Design|Aplicacao: Learn ...| 2018-06-06|\n",
            "| 16|ART_AND_DESIGN|   4.7|   3632| 5.5|   500,000+|Free|    0|      Everyone|        Art & Design|     July 31, 2018|               3.1|  4.1 and up|  Art & Design|Aplicacao: Photo ...| 2018-07-31|\n",
            "| 17|ART_AND_DESIGN|   4.5|     27|17.0|    10,000+|Free|    0|      Everyone|        Art & Design|  November 7, 2017|                 1|  2.3 and up|  Art & Design|Aplicacao: 350 Di...| 2017-11-07|\n",
            "| 18|ART_AND_DESIGN|   4.3| 194216|39.0| 5,000,000+|Free|    0|      Everyone|        Art & Design|    August 3, 2018|             2.2.5|4.0.3 and up|  Art & Design|Aplicacao: FlipaC...| 2018-08-03|\n",
            "| 19|ART_AND_DESIGN|   4.6| 224399|31.0|10,000,000+|Free|    0|      Everyone|        Art & Design|     July 30, 2018|             5.5.4|  4.1 and up|  Art & Design|Aplicacao: ibis P...| 2018-07-30|\n",
            "+---+--------------+------+-------+----+-----------+----+-----+--------------+--------------------+------------------+------------------+------------+--------------+--------------------+-----------+\n",
            "only showing top 20 rows\n",
            "\n"
          ]
        }
      ]
    },
    {
      "cell_type": "code",
      "source": [
        "df.printSchema()"
      ],
      "metadata": {
        "id": "5fTKkZhEguzg",
        "colab": {
          "base_uri": "https://localhost:8080/"
        },
        "outputId": "d8a5734e-2e44-40ef-a815-6e2782004c1f"
      },
      "execution_count": 47,
      "outputs": [
        {
          "output_type": "stream",
          "name": "stdout",
          "text": [
            "root\n",
            " |-- _c0: integer (nullable = true)\n",
            " |-- Category: string (nullable = true)\n",
            " |-- Rating: string (nullable = true)\n",
            " |-- Reviews: string (nullable = true)\n",
            " |-- Size: string (nullable = true)\n",
            " |-- Installs: string (nullable = true)\n",
            " |-- Type: string (nullable = true)\n",
            " |-- Price: string (nullable = true)\n",
            " |-- Content Rating: string (nullable = true)\n",
            " |-- Genres: string (nullable = true)\n",
            " |-- Last Updated: string (nullable = true)\n",
            " |-- Current Ver: string (nullable = true)\n",
            " |-- Android Ver: string (nullable = true)\n",
            " |-- PrimeiroGenero: string (nullable = true)\n",
            " |-- Aplicacao: string (nullable = true)\n",
            " |-- LastUpdated: date (nullable = true)\n",
            "\n"
          ]
        }
      ]
    },
    {
      "cell_type": "code",
      "source": [
        "from pyspark.sql.functions import pandas_udf\n",
        "import pandas as pd\n",
        "\n",
        "@pandas_udf(\"int\")\n",
        "def multiply_by_two(s: pd.Series) -> pd.Series:\n",
        "    return s * 2\n"
      ],
      "metadata": {
        "id": "DqdIhJU5go0G"
      },
      "execution_count": 48,
      "outputs": []
    }
  ]
}