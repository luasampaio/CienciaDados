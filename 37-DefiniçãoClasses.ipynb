{
  "nbformat": 4,
  "nbformat_minor": 0,
  "metadata": {
    "colab": {
      "provenance": [],
      "authorship_tag": "ABX9TyOx0UZnz8iaMKO+PovnnWCb",
      "include_colab_link": true
    },
    "kernelspec": {
      "name": "python3",
      "display_name": "Python 3"
    },
    "language_info": {
      "name": "python"
    }
  },
  "cells": [
    {
      "cell_type": "markdown",
      "metadata": {
        "id": "view-in-github",
        "colab_type": "text"
      },
      "source": [
        "<a href=\"https://colab.research.google.com/github/luasampaio/CienciaDados/blob/main/Defini%C3%A7%C3%A3oClasses.ipynb\" target=\"_parent\"><img src=\"https://colab.research.google.com/assets/colab-badge.svg\" alt=\"Open In Colab\"/></a>"
      ]
    },
    {
      "cell_type": "markdown",
      "source": [
        "# Define Class Contador"
      ],
      "metadata": {
        "id": "z3m2I0KTz_pG"
      }
    },
    {
      "cell_type": "code",
      "execution_count": 1,
      "metadata": {
        "id": "UP3eebIw4bad"
      },
      "outputs": [],
      "source": [
        "class Contador:\n",
        "    def __init__(self):\n",
        "        self.contagem = {}\n",
        "\n",
        "    def incluir(self, item):\n",
        "        self.contagem[item] = self.contagem.get(item, 0) + 1\n",
        "\n",
        "    def contar(self, item):\n",
        "        return self.contagem.get(item, 0)  # Retorna 0 caso o item não exista\n"
      ]
    },
    {
      "cell_type": "code",
      "source": [
        "contador = Contador()\n",
        "contador.incluir(\"maçã\")\n",
        "contador.incluir(\"banana\")\n",
        "contador.incluir(\"maçã\")\n",
        "contador.incluir(\"laranja\")\n",
        "\n",
        "print(contador.contar(\"maçã\"))\n",
        "print(contador.contar(\"banana\"))\n",
        "print(contador.contar(\"laranja\"))\n"
      ],
      "metadata": {
        "colab": {
          "base_uri": "https://localhost:8080/"
        },
        "id": "0uw3nNvB0GsL",
        "outputId": "f4838403-0f0a-4954-c1ee-7bab54b5fe3d"
      },
      "execution_count": 2,
      "outputs": [
        {
          "output_type": "stream",
          "name": "stdout",
          "text": [
            "2\n",
            "1\n",
            "1\n"
          ]
        }
      ]
    },
    {
      "cell_type": "code",
      "source": [
        "def print_phrase(phrase, polite=True, shout=False):\n",
        "    if polite:\n",
        "        phrase = 'Please ' + phrase\n",
        "\n",
        "    if shout:\n",
        "        phrase = phrase.upper() + '!!'\n",
        "\n",
        "    print(phrase)\n",
        "\n",
        "\n",
        "#Politely ask for help\n",
        "print_phrase('help me', polite=True)\n",
        " # Shout about a discovery\n",
        "print_phrase('eureka', shout=True)"
      ],
      "metadata": {
        "id": "WBop_RKU0biQ",
        "colab": {
          "base_uri": "https://localhost:8080/"
        },
        "outputId": "b7532457-7698-4d9f-96bb-216a72669864"
      },
      "execution_count": 3,
      "outputs": [
        {
          "output_type": "stream",
          "name": "stdout",
          "text": [
            "Please help me\n",
            "PLEASE EUREKA!!\n"
          ]
        }
      ]
    },
    {
      "cell_type": "code",
      "source": [],
      "metadata": {
        "id": "wfnpBmPPD3HG"
      },
      "execution_count": null,
      "outputs": []
    }
  ]
}
