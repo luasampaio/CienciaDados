{
  "nbformat": 4,
  "nbformat_minor": 0,
  "metadata": {
    "colab": {
      "provenance": [],
      "authorship_tag": "ABX9TyOTdd3lbH+SEH0wqlfk+HEx",
      "include_colab_link": true
    },
    "kernelspec": {
      "name": "python3",
      "display_name": "Python 3"
    },
    "language_info": {
      "name": "python"
    }
  },
  "cells": [
    {
      "cell_type": "markdown",
      "metadata": {
        "id": "view-in-github",
        "colab_type": "text"
      },
      "source": [
        "<a href=\"https://colab.research.google.com/github/luasampaio/CienciaDados/blob/main/ClassificarAleatoriamente.ipynb\" target=\"_parent\"><img src=\"https://colab.research.google.com/assets/colab-badge.svg\" alt=\"Open In Colab\"/></a>"
      ]
    },
    {
      "cell_type": "markdown",
      "source": [],
      "metadata": {
        "id": "S1fsHjB6QRIA"
      }
    },
    {
      "source": [
        "from pyspark.sql.functions import *\n",
        "from pyspark.sql import SparkSession # Import SparkSession\n",
        "\n",
        "# Define the pizza toppings and their costs\n",
        "data = [\n",
        "    (\"Pepperoni\", 0.50),\n",
        "    (\"Sausage\", 0.70),\n",
        "    (\"Chicken\", 0.55),\n",
        "    (\"Extra Cheese\", 0.40),\n",
        "]\n",
        "\n",
        "# Create a SparkSession\n",
        "spark = SparkSession.builder.appName(\"PizzaToppings\").getOrCreate() # Create a SparkSession\n"
      ],
      "cell_type": "code",
      "metadata": {
        "id": "zBj9Td7POoO8"
      },
      "execution_count": 3,
      "outputs": []
    },
    {
      "cell_type": "code",
      "source": [
        "# Create a DataFrame from the input data\n",
        "toppings_df = spark.createDataFrame(data, [\"topping_name\", \"ingredient_cost\"])\n",
        "toppings_df.show() # Changed from display() to show() to correctly display the DataFrame"
      ],
      "metadata": {
        "colab": {
          "base_uri": "https://localhost:8080/"
        },
        "id": "JSg4P4ysO7zZ",
        "outputId": "40dc5d40-b2e0-4f8d-f16c-feeb3826c226"
      },
      "execution_count": 4,
      "outputs": [
        {
          "output_type": "stream",
          "name": "stdout",
          "text": [
            "+------------+---------------+\n",
            "|topping_name|ingredient_cost|\n",
            "+------------+---------------+\n",
            "|   Pepperoni|            0.5|\n",
            "|     Sausage|            0.7|\n",
            "|     Chicken|           0.55|\n",
            "|Extra Cheese|            0.4|\n",
            "+------------+---------------+\n",
            "\n"
          ]
        }
      ]
    },
    {
      "cell_type": "markdown",
      "source": [
        "# CRIANDO COMBINAÇÕES POSSIVEIS"
      ],
      "metadata": {
        "id": "1rBt287KPQMW"
      }
    },
    {
      "source": [
        "from pyspark.sql.functions import *\n",
        "\n",
        "# Create combinations of three toppings\n",
        "combinations = (\n",
        "    toppings_df.alias(\"p1\")\n",
        "    .join(toppings_df.alias(\"p2\"), col(\"p1.topping_name\") < col(\"p2.topping_name\"))\n",
        "    .join(toppings_df.alias(\"p3\"), col(\"p2.topping_name\") < col(\"p3.topping_name\"))\n",
        "    .select(\n",
        "        concat(\n",
        "            col(\"p1.topping_name\"),\n",
        "            lit(\",\"),\n",
        "            col(\"p2.topping_name\"),\n",
        "            lit(\",\"),\n",
        "            col(\"p3.topping_name\"),\n",
        "        ).alias(\"pizza\"),\n",
        "        (\n",
        "            col(\"p1.ingredient_cost\")\n",
        "            + col(\"p2.ingredient_cost\")\n",
        "            + col(\"p3.ingredient_cost\")\n",
        "        ).alias(\"total_cost\"),\n",
        "    )\n",
        ")\n",
        "\n",
        "# Round up the total cost\n",
        "result = combinations.withColumn(\"total_cost\", round(col(\"total_cost\"), 2))\n",
        "# Ordenando de forma descrecente\n",
        "result.orderBy(col(\"total_cost\").desc()).show()"
      ],
      "cell_type": "code",
      "metadata": {
        "colab": {
          "base_uri": "https://localhost:8080/"
        },
        "id": "oB7qDzdlPV2l",
        "outputId": "e30e7d5a-7723-4c0f-af8c-684c238f65d1"
      },
      "execution_count": 6,
      "outputs": [
        {
          "output_type": "stream",
          "name": "stdout",
          "text": [
            "+--------------------+----------+\n",
            "|               pizza|total_cost|\n",
            "+--------------------+----------+\n",
            "|Chicken,Pepperoni...|      1.75|\n",
            "|Chicken,Extra Che...|      1.65|\n",
            "|Extra Cheese,Pepp...|       1.6|\n",
            "|Chicken,Extra Che...|      1.45|\n",
            "+--------------------+----------+\n",
            "\n"
          ]
        }
      ]
    },
    {
      "cell_type": "markdown",
      "source": [
        "Cria View\n"
      ],
      "metadata": {
        "id": "do0P206EQP4m"
      }
    },
    {
      "cell_type": "code",
      "source": [
        "toppings_df.createOrReplaceTempView(\"pizza_toppings\")"
      ],
      "metadata": {
        "id": "uysLMmPAPthm"
      },
      "execution_count": 13,
      "outputs": []
    },
    {
      "source": [
        "from pyspark.sql import SparkSession\n",
        "\n",
        "query = \"\"\"\n",
        "WITH Toppings AS (\n",
        "  SELECT\n",
        "    topping_name,\n",
        "    ingredient_cost\n",
        "  FROM\n",
        "    pizza_toppings\n",
        ")\n",
        "SELECT\n",
        "  CONCAT(\n",
        "    p1.topping_name,\n",
        "    ',',\n",
        "    p2.topping_name,\n",
        "    ',',\n",
        "    p3.topping_name\n",
        "  ) AS pizza,\n",
        "  ROUND(\n",
        "    (\n",
        "      p1.ingredient_cost + p2.ingredient_cost + p3.ingredient_cost\n",
        "    ),\n",
        "    2\n",
        "  ) AS total_cost\n",
        "FROM\n",
        "  Toppings AS p1\n",
        "  INNER JOIN Toppings AS p2 ON p1.topping_name < p2.topping_name\n",
        "  INNER JOIN Toppings AS p3 ON p2.topping_name < p3.topping_name\n",
        "ORDER BY\n",
        "  total_cost DESC;\n",
        "\"\"\"\n",
        "spark.sql(query).show()\n"
      ],
      "cell_type": "code",
      "metadata": {
        "colab": {
          "base_uri": "https://localhost:8080/"
        },
        "id": "Oaa-Bl48QiVT",
        "outputId": "455c8b6b-dc84-4c7a-99d0-9e9bb3de6942"
      },
      "execution_count": 21,
      "outputs": [
        {
          "output_type": "stream",
          "name": "stdout",
          "text": [
            "+--------------------+----------+\n",
            "|               pizza|total_cost|\n",
            "+--------------------+----------+\n",
            "|Chicken,Pepperoni...|      1.75|\n",
            "|Chicken,Extra Che...|      1.65|\n",
            "|Extra Cheese,Pepp...|       1.6|\n",
            "|Chicken,Extra Che...|      1.45|\n",
            "+--------------------+----------+\n",
            "\n"
          ]
        }
      ]
    },
    {
      "cell_type": "code",
      "source": [],
      "metadata": {
        "id": "-QEz3hTVQ4aO"
      },
      "execution_count": null,
      "outputs": []
    }
  ]
}
