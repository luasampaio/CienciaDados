{
 "cells": [
  {
   "cell_type": "code",
   "execution_count": 14,
   "id": "5ca5613f",
   "metadata": {},
   "outputs": [],
   "source": [
    "import numpy as np\n",
    "import pandas as pd\n",
    "import math\n",
    "from scipy import stats\n",
    "import statistics\n",
    "from sklearn.preprocessing import MinMaxScaler\n",
    "from sklearn.feature_selection import VarianceThreshold"
   ]
  },
  {
   "cell_type": "code",
   "execution_count": 7,
   "id": "b46e2449",
   "metadata": {},
   "outputs": [
    {
     "data": {
      "text/html": [
       "<div>\n",
       "<style scoped>\n",
       "    .dataframe tbody tr th:only-of-type {\n",
       "        vertical-align: middle;\n",
       "    }\n",
       "\n",
       "    .dataframe tbody tr th {\n",
       "        vertical-align: top;\n",
       "    }\n",
       "\n",
       "    .dataframe thead th {\n",
       "        text-align: right;\n",
       "    }\n",
       "</style>\n",
       "<table border=\"1\" class=\"dataframe\">\n",
       "  <thead>\n",
       "    <tr style=\"text-align: right;\">\n",
       "      <th></th>\n",
       "      <th>i#clientid</th>\n",
       "      <th>income</th>\n",
       "      <th>age</th>\n",
       "      <th>loan</th>\n",
       "      <th>c#default</th>\n",
       "    </tr>\n",
       "  </thead>\n",
       "  <tbody>\n",
       "    <tr>\n",
       "      <th>0</th>\n",
       "      <td>1</td>\n",
       "      <td>66155.925095</td>\n",
       "      <td>59.017015</td>\n",
       "      <td>8106.532131</td>\n",
       "      <td>0</td>\n",
       "    </tr>\n",
       "    <tr>\n",
       "      <th>1</th>\n",
       "      <td>2</td>\n",
       "      <td>34415.153966</td>\n",
       "      <td>48.117153</td>\n",
       "      <td>6564.745018</td>\n",
       "      <td>0</td>\n",
       "    </tr>\n",
       "    <tr>\n",
       "      <th>2</th>\n",
       "      <td>3</td>\n",
       "      <td>57317.170063</td>\n",
       "      <td>63.108049</td>\n",
       "      <td>8020.953296</td>\n",
       "      <td>0</td>\n",
       "    </tr>\n",
       "    <tr>\n",
       "      <th>3</th>\n",
       "      <td>4</td>\n",
       "      <td>42709.534201</td>\n",
       "      <td>45.751972</td>\n",
       "      <td>6103.642260</td>\n",
       "      <td>0</td>\n",
       "    </tr>\n",
       "    <tr>\n",
       "      <th>4</th>\n",
       "      <td>5</td>\n",
       "      <td>66952.688845</td>\n",
       "      <td>18.584336</td>\n",
       "      <td>8770.099235</td>\n",
       "      <td>1</td>\n",
       "    </tr>\n",
       "  </tbody>\n",
       "</table>\n",
       "</div>"
      ],
      "text/plain": [
       "   i#clientid        income        age         loan  c#default\n",
       "0           1  66155.925095  59.017015  8106.532131          0\n",
       "1           2  34415.153966  48.117153  6564.745018          0\n",
       "2           3  57317.170063  63.108049  8020.953296          0\n",
       "3           4  42709.534201  45.751972  6103.642260          0\n",
       "4           5  66952.688845  18.584336  8770.099235          1"
      ]
     },
     "execution_count": 7,
     "metadata": {},
     "output_type": "execute_result"
    }
   ],
   "source": [
    "dataset = pd.read_csv('credit_data.csv')\n",
    "dataset.dropna(inplace = True)\n",
    "dataset.head()"
   ]
  },
  {
   "cell_type": "code",
   "execution_count": 11,
   "id": "60668a0c",
   "metadata": {},
   "outputs": [
    {
     "data": {
      "text/plain": [
       "(array([[6.61559251e+04, 5.90170151e+01, 8.10653213e+03],\n",
       "        [3.44151540e+04, 4.81171531e+01, 6.56474502e+03],\n",
       "        [5.73171701e+04, 6.31080495e+01, 8.02095330e+03],\n",
       "        ...,\n",
       "        [4.43114493e+04, 2.80171669e+01, 5.52278669e+03],\n",
       "        [4.37560566e+04, 6.39717958e+01, 1.62272260e+03],\n",
       "        [6.94365796e+04, 5.61526170e+01, 7.37883360e+03]]),\n",
       " array([0, 0, 0, ..., 1, 0, 0], dtype=int64))"
      ]
     },
     "execution_count": 11,
     "metadata": {},
     "output_type": "execute_result"
    }
   ],
   "source": [
    "X = dataset.iloc[:, 1:4].values\n",
    "y = dataset.iloc[:, 4].values\n",
    "X, y"
   ]
  },
  {
   "cell_type": "markdown",
   "id": "308164fb",
   "metadata": {},
   "source": [
    "Normalização dos valores (deixar na mesma escala):"
   ]
  },
  {
   "cell_type": "code",
   "execution_count": 12,
   "id": "57cecbdf",
   "metadata": {},
   "outputs": [],
   "source": [
    "scaler = MinMaxScaler()\n",
    "X = scaler.fit_transform(X)"
   ]
  },
  {
   "cell_type": "code",
   "execution_count": 20,
   "id": "228a5b8b",
   "metadata": {},
   "outputs": [
    {
     "data": {
      "text/plain": [
       "array([[0.9231759 , 0.95743135, 0.58883739],\n",
       "       [0.28812165, 0.86378597, 0.47682695],\n",
       "       [0.74633429, 0.99257918, 0.58262011],\n",
       "       ...,\n",
       "       [0.48612202, 0.69109837, 0.40112895],\n",
       "       [0.47500998, 1.        , 0.1177903 ],\n",
       "       [0.98881367, 0.93282208, 0.53597028]])"
      ]
     },
     "execution_count": 20,
     "metadata": {},
     "output_type": "execute_result"
    }
   ],
   "source": [
    "X"
   ]
  },
  {
   "cell_type": "markdown",
   "id": "c4d0e140",
   "metadata": {},
   "source": [
    "Variação de seleção de atributos:"
   ]
  },
  {
   "cell_type": "code",
   "execution_count": 18,
   "id": "a8a89348",
   "metadata": {},
   "outputs": [
    {
     "data": {
      "text/plain": [
       "array([[0.9231759 , 0.58883739],\n",
       "       [0.28812165, 0.47682695],\n",
       "       [0.74633429, 0.58262011],\n",
       "       ...,\n",
       "       [0.48612202, 0.40112895],\n",
       "       [0.47500998, 0.1177903 ],\n",
       "       [0.98881367, 0.53597028]])"
      ]
     },
     "execution_count": 18,
     "metadata": {},
     "output_type": "execute_result"
    }
   ],
   "source": [
    "selecao = VarianceThreshold(threshold = 0.027)\n",
    "X_novo = selecao.fit_transform(X)\n",
    "X_novo"
   ]
  },
  {
   "cell_type": "markdown",
   "id": "615ad545",
   "metadata": {},
   "source": [
    "Manteve na base de dados os dois atributos com maior variância"
   ]
  },
  {
   "cell_type": "code",
   "execution_count": 16,
   "id": "03150ca7",
   "metadata": {},
   "outputs": [
    {
     "data": {
      "text/plain": [
       "(0.027646353650092187, 0.05741515340722347, 0.028389480276199003)"
      ]
     },
     "execution_count": 16,
     "metadata": {},
     "output_type": "execute_result"
    }
   ],
   "source": [
    "np.var(X[0]), np.var(X[1]), np.var(X[2])"
   ]
  },
  {
   "cell_type": "markdown",
   "id": "4674fe2c",
   "metadata": {},
   "source": [
    "Menor variância vem do atributo [0], logo colocamos seu valor no threshold"
   ]
  },
  {
   "cell_type": "markdown",
   "id": "dbf43e6b",
   "metadata": {},
   "source": [
    "Classificação:"
   ]
  },
  {
   "cell_type": "code",
   "execution_count": 21,
   "id": "202e2290",
   "metadata": {},
   "outputs": [
    {
     "data": {
      "text/plain": [
       "0.9253880821231848"
      ]
     },
     "execution_count": 21,
     "metadata": {},
     "output_type": "execute_result"
    }
   ],
   "source": [
    "from sklearn.naive_bayes import GaussianNB\n",
    "from sklearn.metrics import accuracy_score\n",
    "naive_sem_selecao = GaussianNB()\n",
    "naive_sem_selecao.fit(X, y)\n",
    "previsoes = naive_sem_selecao.predict(X)\n",
    "accuracy_score(previsoes, y)"
   ]
  },
  {
   "cell_type": "code",
   "execution_count": 23,
   "id": "c4b653fc",
   "metadata": {},
   "outputs": [
    {
     "data": {
      "text/plain": [
       "0.8472709063595393"
      ]
     },
     "execution_count": 23,
     "metadata": {},
     "output_type": "execute_result"
    }
   ],
   "source": [
    "naive_com_selecao = GaussianNB()\n",
    "naive_com_selecao.fit(X_novo, y)\n",
    "accuracy_score(naive_com_selecao.predict(X_novo), y)"
   ]
  },
  {
   "cell_type": "markdown",
   "id": "f937890c",
   "metadata": {},
   "source": [
    "Neste caso, os dados sem selação apresentaram melhor resultado, porém é recomendado usar seleção quando houver uma base de dados com muitos atributos."
   ]
  },
  {
   "cell_type": "code",
   "execution_count": null,
   "id": "740f6b4e",
   "metadata": {},
   "outputs": [],
   "source": []
  }
 ],
 "metadata": {
  "kernelspec": {
   "display_name": "Python 3 (ipykernel)",
   "language": "python",
   "name": "python3"
  },
  "language_info": {
   "codemirror_mode": {
    "name": "ipython",
    "version": 3
   },
   "file_extension": ".py",
   "mimetype": "text/x-python",
   "name": "python",
   "nbconvert_exporter": "python",
   "pygments_lexer": "ipython3",
   "version": "3.11.5"
  }
 },
 "nbformat": 4,
 "nbformat_minor": 5
}
